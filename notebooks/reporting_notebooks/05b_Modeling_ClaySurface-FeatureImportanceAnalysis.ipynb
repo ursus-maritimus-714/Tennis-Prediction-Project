{
 "cells": [
  {
   "cell_type": "markdown",
   "id": "fa9b3b3a",
   "metadata": {},
   "source": [
    "### Imports"
   ]
  },
  {
   "cell_type": "code",
   "execution_count": 1,
   "id": "318c8037",
   "metadata": {},
   "outputs": [],
   "source": [
    "import pandas as pd\n",
    "import numpy as np\n",
    "import os\n",
    "import pickle\n",
    "import matplotlib.pyplot as plt\n",
    "import seaborn as sns\n",
    "from sklearn import __version__ as sklearn_version\n",
    "#from sklearn.decomposition import PCA\n",
    "from sklearn.preprocessing import scale\n",
    "from sklearn.model_selection import train_test_split, cross_validate, GridSearchCV, learning_curve\n",
    "from sklearn.preprocessing import StandardScaler, MinMaxScaler\n",
    "from sklearn.dummy import DummyRegressor\n",
    "from sklearn.linear_model import LinearRegression\n",
    "from sklearn.ensemble import RandomForestRegressor\n",
    "from sklearn.ensemble import GradientBoostingRegressor\n",
    "from sklearn.experimental import enable_hist_gradient_boosting\n",
    "from sklearn.ensemble import HistGradientBoostingRegressor\n",
    "from sklearn.metrics import r2_score, mean_squared_error, mean_absolute_error\n",
    "from sklearn.pipeline import make_pipeline\n",
    "from sklearn.impute import SimpleImputer\n",
    "from sklearn.feature_selection import SelectKBest, f_regression\n",
    "import datetime\n",
    "from library.sb_utils import save_file"
   ]
  },
  {
   "cell_type": "markdown",
   "id": "8133d431",
   "metadata": {},
   "source": [
    "### Load and Filter Data"
   ]
  },
  {
   "cell_type": "markdown",
   "id": "847d7aaa",
   "metadata": {},
   "source": [
    "Filtering parameters identical to in dummy/simple modeling stage. "
   ]
  },
  {
   "cell_type": "code",
   "execution_count": 1101,
   "id": "af618860",
   "metadata": {},
   "outputs": [
    {
     "data": {
      "text/html": [
       "<div>\n",
       "<style scoped>\n",
       "    .dataframe tbody tr th:only-of-type {\n",
       "        vertical-align: middle;\n",
       "    }\n",
       "\n",
       "    .dataframe tbody tr th {\n",
       "        vertical-align: top;\n",
       "    }\n",
       "\n",
       "    .dataframe thead th {\n",
       "        text-align: right;\n",
       "    }\n",
       "</style>\n",
       "<table border=\"1\" class=\"dataframe\">\n",
       "  <thead>\n",
       "    <tr style=\"text-align: right;\">\n",
       "      <th></th>\n",
       "      <th>p_pts_won%</th>\n",
       "      <th>p_sv_pts_won%</th>\n",
       "      <th>p_ret_pts_won%</th>\n",
       "      <th>p_ace%</th>\n",
       "      <th>p_aced%</th>\n",
       "      <th>p_bp_save%</th>\n",
       "      <th>p_bp_convert%</th>\n",
       "      <th>t_id</th>\n",
       "      <th>t_date</th>\n",
       "      <th>tour_wk</th>\n",
       "      <th>...</th>\n",
       "      <th>p_tot_pts_last_diff</th>\n",
       "      <th>p_tot_pts_l6_diff</th>\n",
       "      <th>p_tot_pts_l6_decay_diff</th>\n",
       "      <th>p_matches_diff</th>\n",
       "      <th>p_matches_surf_diff</th>\n",
       "      <th>p_stam_adj_fatigue_diff</th>\n",
       "      <th>p_stam_adj_fatigue_decay_diff</th>\n",
       "      <th>p_H2H_diff</th>\n",
       "      <th>p_H2H_pts_won%_diff</th>\n",
       "      <th>m_outcome</th>\n",
       "    </tr>\n",
       "  </thead>\n",
       "  <tbody>\n",
       "    <tr>\n",
       "      <th>0</th>\n",
       "      <td>47.84</td>\n",
       "      <td>56.28</td>\n",
       "      <td>38.41</td>\n",
       "      <td>1.09</td>\n",
       "      <td>3.66</td>\n",
       "      <td>55.00</td>\n",
       "      <td>43.75</td>\n",
       "      <td>2019-560</td>\n",
       "      <td>20190826</td>\n",
       "      <td>2019_24</td>\n",
       "      <td>...</td>\n",
       "      <td>-0.0</td>\n",
       "      <td>-0.0</td>\n",
       "      <td>-0.0</td>\n",
       "      <td>-224.0</td>\n",
       "      <td>-99.0</td>\n",
       "      <td>177.984496</td>\n",
       "      <td>133.488372</td>\n",
       "      <td>-0.0</td>\n",
       "      <td>NaN</td>\n",
       "      <td>0</td>\n",
       "    </tr>\n",
       "    <tr>\n",
       "      <th>1</th>\n",
       "      <td>41.29</td>\n",
       "      <td>49.40</td>\n",
       "      <td>31.94</td>\n",
       "      <td>4.82</td>\n",
       "      <td>15.28</td>\n",
       "      <td>33.33</td>\n",
       "      <td>40.00</td>\n",
       "      <td>2019-M014</td>\n",
       "      <td>20191014</td>\n",
       "      <td>2019_29</td>\n",
       "      <td>...</td>\n",
       "      <td>-0.0</td>\n",
       "      <td>-0.0</td>\n",
       "      <td>-0.0</td>\n",
       "      <td>-0.0</td>\n",
       "      <td>-0.0</td>\n",
       "      <td>-0.000000</td>\n",
       "      <td>-0.000000</td>\n",
       "      <td>-0.0</td>\n",
       "      <td>NaN</td>\n",
       "      <td>0</td>\n",
       "    </tr>\n",
       "    <tr>\n",
       "      <th>2</th>\n",
       "      <td>37.23</td>\n",
       "      <td>51.85</td>\n",
       "      <td>17.50</td>\n",
       "      <td>3.70</td>\n",
       "      <td>5.00</td>\n",
       "      <td>33.33</td>\n",
       "      <td>0.00</td>\n",
       "      <td>2019-M004</td>\n",
       "      <td>20190225</td>\n",
       "      <td>2019_07</td>\n",
       "      <td>...</td>\n",
       "      <td>-0.0</td>\n",
       "      <td>-0.0</td>\n",
       "      <td>-0.0</td>\n",
       "      <td>-25.0</td>\n",
       "      <td>-24.0</td>\n",
       "      <td>133.805310</td>\n",
       "      <td>100.353982</td>\n",
       "      <td>-0.0</td>\n",
       "      <td>NaN</td>\n",
       "      <td>0</td>\n",
       "    </tr>\n",
       "    <tr>\n",
       "      <th>3</th>\n",
       "      <td>59.14</td>\n",
       "      <td>69.23</td>\n",
       "      <td>46.34</td>\n",
       "      <td>3.85</td>\n",
       "      <td>4.88</td>\n",
       "      <td>100.00</td>\n",
       "      <td>37.50</td>\n",
       "      <td>2019-7696</td>\n",
       "      <td>20191105</td>\n",
       "      <td>2019_33</td>\n",
       "      <td>...</td>\n",
       "      <td>9.0</td>\n",
       "      <td>49.0</td>\n",
       "      <td>46.9</td>\n",
       "      <td>-79.0</td>\n",
       "      <td>-77.0</td>\n",
       "      <td>109.423559</td>\n",
       "      <td>90.917141</td>\n",
       "      <td>0.0</td>\n",
       "      <td>NaN</td>\n",
       "      <td>1</td>\n",
       "    </tr>\n",
       "    <tr>\n",
       "      <th>4</th>\n",
       "      <td>53.66</td>\n",
       "      <td>70.77</td>\n",
       "      <td>34.48</td>\n",
       "      <td>7.69</td>\n",
       "      <td>3.45</td>\n",
       "      <td>88.89</td>\n",
       "      <td>37.50</td>\n",
       "      <td>2019-7696</td>\n",
       "      <td>20191105</td>\n",
       "      <td>2019_33</td>\n",
       "      <td>...</td>\n",
       "      <td>53.0</td>\n",
       "      <td>44.0</td>\n",
       "      <td>42.5</td>\n",
       "      <td>-17.0</td>\n",
       "      <td>-20.0</td>\n",
       "      <td>55.064126</td>\n",
       "      <td>48.178912</td>\n",
       "      <td>0.0</td>\n",
       "      <td>NaN</td>\n",
       "      <td>1</td>\n",
       "    </tr>\n",
       "  </tbody>\n",
       "</table>\n",
       "<p>5 rows × 160 columns</p>\n",
       "</div>"
      ],
      "text/plain": [
       "   p_pts_won%  p_sv_pts_won%  p_ret_pts_won%  p_ace%  p_aced%  p_bp_save%  \\\n",
       "0       47.84          56.28           38.41    1.09     3.66       55.00   \n",
       "1       41.29          49.40           31.94    4.82    15.28       33.33   \n",
       "2       37.23          51.85           17.50    3.70     5.00       33.33   \n",
       "3       59.14          69.23           46.34    3.85     4.88      100.00   \n",
       "4       53.66          70.77           34.48    7.69     3.45       88.89   \n",
       "\n",
       "   p_bp_convert%       t_id    t_date  tour_wk  ... p_tot_pts_last_diff  \\\n",
       "0          43.75   2019-560  20190826  2019_24  ...                -0.0   \n",
       "1          40.00  2019-M014  20191014  2019_29  ...                -0.0   \n",
       "2           0.00  2019-M004  20190225  2019_07  ...                -0.0   \n",
       "3          37.50  2019-7696  20191105  2019_33  ...                 9.0   \n",
       "4          37.50  2019-7696  20191105  2019_33  ...                53.0   \n",
       "\n",
       "  p_tot_pts_l6_diff  p_tot_pts_l6_decay_diff  p_matches_diff  \\\n",
       "0              -0.0                     -0.0          -224.0   \n",
       "1              -0.0                     -0.0            -0.0   \n",
       "2              -0.0                     -0.0           -25.0   \n",
       "3              49.0                     46.9           -79.0   \n",
       "4              44.0                     42.5           -17.0   \n",
       "\n",
       "   p_matches_surf_diff  p_stam_adj_fatigue_diff  \\\n",
       "0                -99.0               177.984496   \n",
       "1                 -0.0                -0.000000   \n",
       "2                -24.0               133.805310   \n",
       "3                -77.0               109.423559   \n",
       "4                -20.0                55.064126   \n",
       "\n",
       "   p_stam_adj_fatigue_decay_diff  p_H2H_diff  p_H2H_pts_won%_diff  m_outcome  \n",
       "0                     133.488372        -0.0                  NaN          0  \n",
       "1                      -0.000000        -0.0                  NaN          0  \n",
       "2                     100.353982        -0.0                  NaN          0  \n",
       "3                      90.917141         0.0                  NaN          1  \n",
       "4                      48.178912         0.0                  NaN          1  \n",
       "\n",
       "[5 rows x 160 columns]"
      ]
     },
     "execution_count": 1101,
     "metadata": {},
     "output_type": "execute_result"
    }
   ],
   "source": [
    "# This is the file and analysis data range used for the main clay court analysis\n",
    "df = pd.read_csv('../data/df_player_all_2012to2019.csv')\n",
    "df.head()"
   ]
  },
  {
   "cell_type": "code",
   "execution_count": 1102,
   "id": "15247e33",
   "metadata": {},
   "outputs": [
    {
     "name": "stdout",
     "output_type": "stream",
     "text": [
      "<class 'pandas.core.frame.DataFrame'>\n",
      "RangeIndex: 36336 entries, 0 to 36335\n",
      "Columns: 160 entries, p_pts_won% to m_outcome\n",
      "dtypes: float64(138), int64(16), object(6)\n",
      "memory usage: 44.4+ MB\n"
     ]
    }
   ],
   "source": [
    "df.info()"
   ]
  },
  {
   "cell_type": "code",
   "execution_count": 1103,
   "id": "53843e8d",
   "metadata": {},
   "outputs": [
    {
     "data": {
      "text/plain": [
       "0         1.0\n",
       "1         1.0\n",
       "2         1.0\n",
       "3        12.0\n",
       "4        11.0\n",
       "         ... \n",
       "36331     4.0\n",
       "36332     3.0\n",
       "36333     2.0\n",
       "36334     1.0\n",
       "36335     1.0\n",
       "Name: p_matches_surf, Length: 36336, dtype: float64"
      ]
     },
     "execution_count": 1103,
     "metadata": {},
     "output_type": "execute_result"
    }
   ],
   "source": [
    "df[\"p_matches_surf\"]"
   ]
  },
  {
   "cell_type": "code",
   "execution_count": 1104,
   "id": "0a8c96bd",
   "metadata": {},
   "outputs": [],
   "source": [
    "# This is the data range used for the main analysis for clay courts- 2012-2019 in model; 2009-2011 used for additional stats accrual \"runway\"\n",
    "df_filter = df[~df['tour_wk'].str.contains(\"2012\")] \n",
    "df_filter = df_filter[~df_filter['tour_wk'].str.contains(\"2013\")]\n",
    "df_filter = df_filter[~df_filter['tour_wk'].str.contains(\"2014\")]\n",
    "#df_filter = df_filter[~df_filter['tour_wk'].str.contains(\"2015\")]\n",
    "#df_filter = df_filter[~df_filter['tour_wk'].str.contains(\"2016\")]\n",
    "#df_filter = df_filter[~df_filter['tour_wk'].str.contains(\"2017\")]\n",
    "#df_filter = df_filter[~df_filter['tour_wk'].str.contains(\"2018\")]\n",
    "#df_filter = df_filter[~df_filter['tour_wk'].str.contains(\"2019\")]"
   ]
  },
  {
   "cell_type": "code",
   "execution_count": 1105,
   "id": "995cacae",
   "metadata": {},
   "outputs": [],
   "source": [
    "# Filter down to only matches played on clay courts\n",
    "df_filter2 = df_filter.loc[(df_filter[\"t_surf\"] == 1)]"
   ]
  },
  {
   "cell_type": "code",
   "execution_count": 1106,
   "id": "35bdde16",
   "metadata": {},
   "outputs": [],
   "source": [
    "# Now also will remove BOTH players from individual matches remaining in the surface-specific sample already filtered by year range\n",
    "# where one or both players has played N or fewer matches prior to the one to be predicted on. \n",
    "df_low = df_filter2.loc[df_filter2['p_matches_surf'] <= 20, 'm_num']\n",
    "df_filter3 = df_filter2[~df_filter2['m_num'].isin(df_low)]"
   ]
  },
  {
   "cell_type": "markdown",
   "id": "9291bf28",
   "metadata": {},
   "source": [
    "#### Special Analysis I for Presentation Figure Setup"
   ]
  },
  {
   "cell_type": "code",
   "execution_count": 1005,
   "id": "d3c620c2",
   "metadata": {},
   "outputs": [],
   "source": [
    "# This cell used only for final presentation figure where hard court sample N was reduced to be equal to that of the clay court sample\n",
    "# Best model (Gradient Boosting Regressor) was run at this N for that figure using the same hyperparameters as for full sample.\n",
    "\n",
    "#Clay 2015-2019 from figure above had ((3189), (1063)) total samples between training and testing, which equals = 4252 total samples\n",
    "#So we want to reduce the hard court samples to 4252 for this specific analysis\n",
    "#df_filter3 = df_filter3.sample(n=4252)"
   ]
  },
  {
   "cell_type": "markdown",
   "id": "23c197b6",
   "metadata": {},
   "source": [
    "#### Special Analysis II for Presentation Figure Setup"
   ]
  },
  {
   "cell_type": "markdown",
   "id": "217bd634",
   "metadata": {},
   "source": [
    "what we need to do here is get equal numbers of records for clay and hard and then concatenate them to conduct a combined analysis with equal sample size across the two surfaces. "
   ]
  },
  {
   "cell_type": "code",
   "execution_count": 1058,
   "id": "a62403a9",
   "metadata": {},
   "outputs": [],
   "source": [
    "# Create separate dataframes for clay courts and hard courts temporarily. Full record set already filtered down to correct years\n",
    "#df_filter2_clay = df_filter.loc[(df_filter[\"t_surf\"] == 1)]\n",
    "#df_filter2_hard = df_filter.loc[(df_filter[\"t_surf\"] == 2)]"
   ]
  },
  {
   "cell_type": "code",
   "execution_count": 1059,
   "id": "e0f4aeab",
   "metadata": {},
   "outputs": [],
   "source": [
    "# Filter each down to the correct minimum matches threshold\n",
    "#df_low_clay = df_filter2_clay.loc[df_filter2_clay['p_matches_surf'] <= 20, 'm_num']\n",
    "#df_filter3_clay = df_filter2_clay[~df_filter2_clay['m_num'].isin(df_low_clay)]\n",
    "\n",
    "#df_low_hard = df_filter2_hard.loc[df_filter2_hard['p_matches_surf'] <= 20, 'm_num']\n",
    "#df_filter3_hard = df_filter2_hard[~df_filter2_hard['m_num'].isin(df_low_hard)]"
   ]
  },
  {
   "cell_type": "code",
   "execution_count": 1060,
   "id": "e72c51bf",
   "metadata": {},
   "outputs": [],
   "source": [
    "#Take random sample of each of exact same amount (clay should already be the correct amount of 4252, but we will run the code JIC)\n",
    "#df_filter3_clay = df_filter3_clay.sample(n=4252)\n",
    "#df_filter3_hard =df_filter3_hard.sample(n=4252)"
   ]
  },
  {
   "cell_type": "code",
   "execution_count": 1061,
   "id": "c195f457",
   "metadata": {},
   "outputs": [
    {
     "data": {
      "text/plain": [
       "(8504, 160)"
      ]
     },
     "execution_count": 1061,
     "metadata": {},
     "output_type": "execute_result"
    }
   ],
   "source": [
    "#Finally, concatenate as a single dataframe with equal amounts of matches on each surface\n",
    "#df_filter3 = pd.concat([df_filter3_clay, df_filter3_hard], ignore_index=True, sort=False)\n",
    "#df_filter3.shape"
   ]
  },
  {
   "cell_type": "code",
   "execution_count": 1107,
   "id": "c0170740",
   "metadata": {},
   "outputs": [],
   "source": [
    "#All Predictive Features\n",
    "df_model1 = df_filter3[[\"p_pts_won%\", \"t_indoor\", \"t_surf\", \"t_alt\", \"t_ace%_last\", \"t_lvl\", \"t_draw_size\", \"t_rd_num\", \"m_best_of\", \"p_rank\", \"p_log_rank\", \"p_rank_pts\", \"p_ent\", \"p_hd\", \"p_ht\", \"p_age\", \"p_matches\", \"p_matches_surf\", \"p_H2H_w\", \"p_H2H_pts_won%\", \"p_pts_won%_l60_decay\", \"p_pts_won%_l60_decay_IO\", \"p_pts_won%_l10\", \"p_SOS_adj_pts_won%_l60_decay\", \"p_SOS_adj_pts_won%_l60_decay_IO\", \"p_SOS_adj_pts_won%_l60_decay_IO_weighted\", \"p_SOS_adj_pts_won%_l10\", \"p_sv_pts_won%_l60_decay\", \"p_sv_pts_won%_l10\", \"p_SOS_adj_sv_pts_won%_l60_decay\", \"p_SOS_adj_sv_pts_won%_l10\", \"p_ret_pts_won%_l60_decay\", \"p_ret_pts_won%_l10\", \"p_SOS_adj_ret_pts_won%_l60_decay\", \"p_SOS_adj_ret_pts_won%_l10\", \"p_ace%_l60_decay\", \"p_ace%_l10\", \"p_SOS_adj_ace%_l60_decay\", \"p_SOS_adj_ace%_l10\", \"p_aced%_l60_decay\", \"p_aced%_l10\", \"p_SOS_adj_aced%_l60_decay\", \"p_SOS_adj_aced%_l10\", \"p_bp_save%_l60\", \"p_bp_save%_l10\", \"p_SOS_adj_bp_save%_l60\", \"p_SOS_adj_bp_save%_l10\", \"p_bp_convert%_l60\", \"p_bp_convert%_l10\", \"p_SOS_adj_bp_convert%_l60\", \"p_SOS_adj_bp_convert%_l10\", \"p_pts_won%_std_l60_decay\",\"p_sv_pts_won%_std_l60_decay\", \"p_ret_pts_won%_std_l60_decay\",\"p_m_time_last\", \"p_tot_time_l6\", \"p_tot_time_l6_decay\", \"p_tot_pts_last\", \"p_tot_pts_l6\", \"p_tot_pts_l6_decay\", \"p_stamina_adj_fatigue\", \"p_stamina_adj_fatigue_decay\", \"high_t_ace_p_ace\", \"high_t_ace_p_aced\", \"p_opp_rank_diff\", \"p_opp_log_rank_diff\", \"p_opp_rank_pts_diff\", \"p_ent_diff\", \"p_opp_ht_diff\", \"p_opp_age_diff\", \"p_L_opp_R\", \"p_HCA_opp_N\", \"p_pts_won%_l60_decay_diff\", \"p_pts_won%_l60_decay_IO_diff\", \"p_SOS_adj_pts_won%_l60_decay_diff\", \"p_SOS_adj_pts_won%_l60_decay_IO_diff\", \"p_SOS_adj_pts_won%_l60_decay_IO_weighted_diff\", \"p_pts_won%_l10_diff\", \"p_SOS_adj_pts_won%_l10_diff\", \"p_sv_pts_won%_l60_decay_diff\", \"p_SOS_adj_sv_pts_won%_l60_decay_diff\", \"p_sv_pts_won%_l10_diff\", \"p_SOS_adj_sv_pts_won%_l10_diff\", \"p_ret_pts_won%_l60_decay_diff\", \"p_SOS_adj_ret_pts_won%_l60_decay_diff\", \"p_ret_pts_won%_l10_diff\", \"p_SOS_adj_ret_pts_won%_l10_diff\", \"p_sv_opp_ret_pts_won%_l60_decay_diff\", \"p_SOS_adj_sv_opp_ret_pts_won%_l60_decay_diff\", \"p_sv_opp_ret_pts_won%_l10_diff\", \"p_SOS_adj_sv_opp_ret_pts_won%_l10_diff\", \"p_ret_opp_sv_pts_won%_l60_decay_diff\", \"p_SOS_adj_ret_opp_sv_pts_won%_l60_decay_diff\", \"p_ret_opp_sv_pts_won%_l10_diff\", \"p_SOS_adj_ret_opp_sv_pts_won%_l10_diff\", \"p_ace%_l60_decay_diff\", \"p_SOS_adj_ace%_l60_decay_diff\", \"p_ace%_l10_diff\", \"p_SOS_adj_ace%_l10_diff\", \"p_aced%_l60_decay_diff\", \"p_SOS_adj_aced%_l60_decay_diff\", \"p_aced%_l10_diff\", \"p_SOS_adj_aced%_l10_diff\", \"p_ace%_opp_aced%_l60_decay_diff\", \"p_SOS_adj_ace%_opp_aced%_l60_decay_diff\", \"p_ace%_opp_aced%_l10_diff\", \"p_SOS_adj_ace%_opp_aced%_l10_diff\", \"p_aced%_opp_ace%_l60_decay_diff\", \"p_SOS_adj_aced%_opp_ace%_l60_decay_diff\", \"p_aced%_opp_ace%_l10_diff\", \"p_SOS_adj_aced%_opp_ace%_l10_diff\", \"p_bp_save%_l60_diff\", \"p_SOS_adj_bp_save%_l60_diff\", \"p_bp_save%_l10_diff\", \"p_SOS_adj_bp_save%_l10_diff\", \"p_bp_convert%_l60_diff\", \"p_SOS_adj_bp_convert%_l60_diff\", \"p_bp_convert%_l10_diff\", \"p_SOS_adj_bp_convert%_l10_diff\", \"p_bp_convert%_opp_bp_save%_l60_diff\", \"p_SOS_adj_bp_convert%_opp_bp_save%_l60_diff\", \"p_bp_convert%_opp_bp_save%_l10_diff\", \"p_SOS_adj_bp_convert%_opp_bp_save%_l10_diff\", \"p_bp_save%_opp_bp_convert%_l60_diff\", \"p_SOS_adj_bp_save%_opp_bp_convert%_l60_diff\", \"p_bp_save%_opp_bp_convert%_l10_diff\", \"p_SOS_adj_bp_save%_opp_bp_convert%_l10_diff\", \"p_pts_won%_std_l60_decay_diff\", 'p_sv_pts_won%_std_l60_decay_diff','p_ret_pts_won%_std_l60_decay_diff', \"p_m_time_last_diff\", \"p_tot_time_l6_diff\", \"p_tot_time_l6_decay_diff\", \"p_tot_pts_last_diff\", \"p_tot_pts_l6_diff\", \"p_tot_pts_l6_decay_diff\", \"p_matches_diff\", \"p_matches_surf_diff\", \"p_stam_adj_fatigue_diff\", \"p_stam_adj_fatigue_decay_diff\", \"p_H2H_diff\", \"p_H2H_pts_won%_diff\"]] #all features"
   ]
  },
  {
   "cell_type": "markdown",
   "id": "110c9936",
   "metadata": {},
   "source": [
    "### Data Split for Modeling"
   ]
  },
  {
   "cell_type": "markdown",
   "id": "778504df",
   "metadata": {},
   "source": [
    "Identical split as for dummy/simple modeling"
   ]
  },
  {
   "cell_type": "code",
   "execution_count": 1108,
   "id": "e7f2b6c5",
   "metadata": {},
   "outputs": [
    {
     "data": {
      "text/plain": [
       "(3189.0, 1063.0)"
      ]
     },
     "execution_count": 1108,
     "metadata": {},
     "output_type": "execute_result"
    }
   ],
   "source": [
    "len(df_model1) * .75, len(df_model1) * .25"
   ]
  },
  {
   "cell_type": "code",
   "execution_count": 1109,
   "id": "319fbf70",
   "metadata": {},
   "outputs": [],
   "source": [
    "#Replicates EXACT train-test split from dummy and simpler modeling\n",
    "X_train, X_test, y_train, y_test = train_test_split(df_model1.drop(columns='p_pts_won%'), \n",
    "                                                    df_model1[\"p_pts_won%\"], test_size=0.25, \n",
    "                                                    random_state=47)"
   ]
  },
  {
   "cell_type": "code",
   "execution_count": 1110,
   "id": "9bd84540",
   "metadata": {},
   "outputs": [
    {
     "data": {
      "text/plain": [
       "((3189,), (1063,))"
      ]
     },
     "execution_count": 1110,
     "metadata": {},
     "output_type": "execute_result"
    }
   ],
   "source": [
    "y_train.shape, y_test.shape"
   ]
  },
  {
   "cell_type": "code",
   "execution_count": 1111,
   "id": "51897b2b",
   "metadata": {},
   "outputs": [
    {
     "data": {
      "text/plain": [
       "10871    57.28\n",
       "11133    46.75\n",
       "22216    47.37\n",
       "14667    56.32\n",
       "20804    37.36\n",
       "         ...  \n",
       "24420    23.08\n",
       "23329    56.04\n",
       "6264     50.70\n",
       "26530    49.05\n",
       "15950    69.14\n",
       "Name: p_pts_won%, Length: 3189, dtype: float64"
      ]
     },
     "execution_count": 1111,
     "metadata": {},
     "output_type": "execute_result"
    }
   ],
   "source": [
    "y_train"
   ]
  },
  {
   "cell_type": "code",
   "execution_count": 1112,
   "id": "86a500f1",
   "metadata": {},
   "outputs": [
    {
     "data": {
      "text/plain": [
       "((3189, 141), (1063, 141))"
      ]
     },
     "execution_count": 1112,
     "metadata": {},
     "output_type": "execute_result"
    }
   ],
   "source": [
    "X_train.shape, X_test.shape"
   ]
  },
  {
   "cell_type": "markdown",
   "id": "300fd6a4",
   "metadata": {},
   "source": [
    "## Gradient Boosting Regression Model"
   ]
  },
  {
   "cell_type": "markdown",
   "id": "696bff8c",
   "metadata": {},
   "source": [
    "### Gradient Boosting Model: Hyperparameter Grid Search"
   ]
  },
  {
   "cell_type": "code",
   "execution_count": 1113,
   "id": "22473aa1",
   "metadata": {},
   "outputs": [],
   "source": [
    "#Define pipeline \n",
    "GB_pipe = make_pipeline(\n",
    "    SimpleImputer(strategy='mean'),\n",
    "    StandardScaler(),\n",
    "    GradientBoostingRegressor(random_state= 47)\n",
    ")"
   ]
  },
  {
   "cell_type": "code",
   "execution_count": 1114,
   "id": "b247d05f",
   "metadata": {},
   "outputs": [
    {
     "data": {
      "text/plain": [
       "dict_keys(['memory', 'steps', 'verbose', 'simpleimputer', 'standardscaler', 'gradientboostingregressor', 'simpleimputer__add_indicator', 'simpleimputer__copy', 'simpleimputer__fill_value', 'simpleimputer__missing_values', 'simpleimputer__strategy', 'simpleimputer__verbose', 'standardscaler__copy', 'standardscaler__with_mean', 'standardscaler__with_std', 'gradientboostingregressor__alpha', 'gradientboostingregressor__ccp_alpha', 'gradientboostingregressor__criterion', 'gradientboostingregressor__init', 'gradientboostingregressor__learning_rate', 'gradientboostingregressor__loss', 'gradientboostingregressor__max_depth', 'gradientboostingregressor__max_features', 'gradientboostingregressor__max_leaf_nodes', 'gradientboostingregressor__min_impurity_decrease', 'gradientboostingregressor__min_impurity_split', 'gradientboostingregressor__min_samples_leaf', 'gradientboostingregressor__min_samples_split', 'gradientboostingregressor__min_weight_fraction_leaf', 'gradientboostingregressor__n_estimators', 'gradientboostingregressor__n_iter_no_change', 'gradientboostingregressor__random_state', 'gradientboostingregressor__subsample', 'gradientboostingregressor__tol', 'gradientboostingregressor__validation_fraction', 'gradientboostingregressor__verbose', 'gradientboostingregressor__warm_start'])"
      ]
     },
     "execution_count": 1114,
     "metadata": {},
     "output_type": "execute_result"
    }
   ],
   "source": [
    "GB_pipe.get_params().keys()"
   ]
  },
  {
   "cell_type": "code",
   "execution_count": 1130,
   "id": "57b53602",
   "metadata": {},
   "outputs": [
    {
     "data": {
      "text/plain": [
       "{'gradientboostingregressor__n_estimators': [100, 110, 120],\n",
       " 'standardscaler': [StandardScaler()],\n",
       " 'simpleimputer__strategy': ['median'],\n",
       " 'gradientboostingregressor__learning_rate': [0.04, 0.05, 0.06],\n",
       " 'gradientboostingregressor__max_depth': [3, 4, 5],\n",
       " 'gradientboostingregressor__max_features': [9, 10, 11]}"
      ]
     },
     "execution_count": 1130,
     "metadata": {},
     "output_type": "execute_result"
    }
   ],
   "source": [
    "#Define Grid Parameters\n",
    "\n",
    "n_est = [100]\n",
    "learning_rate = [.05]\n",
    "max_depth = [3]\n",
    "max_features = [11]\n",
    "\n",
    "\n",
    "grid_params = {\n",
    "        'gradientboostingregressor__n_estimators': n_est,\n",
    "        'standardscaler': [StandardScaler()],\n",
    "        'simpleimputer__strategy': ['median'],\n",
    "        'gradientboostingregressor__learning_rate': learning_rate,\n",
    "        'gradientboostingregressor__max_depth': max_depth,\n",
    "        'gradientboostingregressor__max_features': max_features\n",
    "}\n",
    "grid_params\n",
    "\n",
    "#Best hyperparams for Clay 2015-2019 model version (2012-2014 stats accrual runway): \n",
    "#{'gradientboostingregressor__learning_rate': 0.05,\n",
    " #'gradientboostingregressor__max_depth': 3,\n",
    " #'gradientboostingregressor__max_features': 11,\n",
    " #'gradientboostingregressor__n_estimators': 100,\n",
    " #'simpleimputer__strategy': 'median',\n",
    " #'standardscaler': StandardScaler()}"
   ]
  },
  {
   "cell_type": "code",
   "execution_count": 1131,
   "id": "eb48abeb",
   "metadata": {},
   "outputs": [],
   "source": [
    "#Call `GridSearchCV` with the gradient boosting pipeline, passing in the above `grid_params`\n",
    "#dict for parameters to evaluate, 5-fold cross-validation\n",
    "gb_grid_cv = GridSearchCV(GB_pipe, param_grid=grid_params, cv=5)"
   ]
  },
  {
   "cell_type": "code",
   "execution_count": 1132,
   "id": "330fc1c6",
   "metadata": {},
   "outputs": [
    {
     "data": {
      "text/plain": [
       "GridSearchCV(cv=5,\n",
       "             estimator=Pipeline(steps=[('simpleimputer', SimpleImputer()),\n",
       "                                       ('standardscaler', StandardScaler()),\n",
       "                                       ('gradientboostingregressor',\n",
       "                                        GradientBoostingRegressor(random_state=47))]),\n",
       "             param_grid={'gradientboostingregressor__learning_rate': [0.04,\n",
       "                                                                      0.05,\n",
       "                                                                      0.06],\n",
       "                         'gradientboostingregressor__max_depth': [3, 4, 5],\n",
       "                         'gradientboostingregressor__max_features': [9, 10, 11],\n",
       "                         'gradientboostingregressor__n_estimators': [100, 110,\n",
       "                                                                     120],\n",
       "                         'simpleimputer__strategy': ['median'],\n",
       "                         'standardscaler': [StandardScaler()]})"
      ]
     },
     "execution_count": 1132,
     "metadata": {},
     "output_type": "execute_result"
    }
   ],
   "source": [
    "#conduct the grid search. \n",
    "gb_grid_cv.fit(X_train, y_train)"
   ]
  },
  {
   "cell_type": "code",
   "execution_count": 1133,
   "id": "57d15a7f",
   "metadata": {},
   "outputs": [
    {
     "data": {
      "text/plain": [
       "{'gradientboostingregressor__learning_rate': 0.05,\n",
       " 'gradientboostingregressor__max_depth': 3,\n",
       " 'gradientboostingregressor__max_features': 11,\n",
       " 'gradientboostingregressor__n_estimators': 100,\n",
       " 'simpleimputer__strategy': 'median',\n",
       " 'standardscaler': StandardScaler()}"
      ]
     },
     "execution_count": 1133,
     "metadata": {},
     "output_type": "execute_result"
    }
   ],
   "source": [
    "#Best params (`best_params_` attribute) from the grid search\n",
    "gb_grid_cv.best_params_"
   ]
  },
  {
   "cell_type": "markdown",
   "id": "f95f35b3",
   "metadata": {},
   "source": [
    "### Best Gradient Boosting Model Performance Metrics"
   ]
  },
  {
   "cell_type": "markdown",
   "id": "7820c285",
   "metadata": {},
   "source": [
    "#### R-squared (COD)"
   ]
  },
  {
   "cell_type": "code",
   "execution_count": 1134,
   "id": "6dc56798",
   "metadata": {},
   "outputs": [
    {
     "data": {
      "text/plain": [
       "array([0.25547785, 0.24860899, 0.2204727 , 0.15501287, 0.23598054])"
      ]
     },
     "execution_count": 1134,
     "metadata": {},
     "output_type": "execute_result"
    }
   ],
   "source": [
    "#Cross-validation defaults to R^2 metric for scoring regression\n",
    "gb_best_cv_results = cross_validate(gb_grid_cv.best_estimator_, X_train, y_train, cv=5)\n",
    "gb_best_scores = gb_best_cv_results['test_score']\n",
    "gb_best_scores"
   ]
  },
  {
   "cell_type": "code",
   "execution_count": 1135,
   "id": "b28a43c3",
   "metadata": {},
   "outputs": [
    {
     "data": {
      "text/plain": [
       "(0.22311059080985948, 0.03607686602334272)"
      ]
     },
     "execution_count": 1135,
     "metadata": {},
     "output_type": "execute_result"
    }
   ],
   "source": [
    "#Training set CV mean and std\n",
    "np.mean(gb_best_scores), np.std(gb_best_scores)"
   ]
  },
  {
   "cell_type": "markdown",
   "id": "c91478b1",
   "metadata": {},
   "source": [
    "#### Mean Absolute Error (MAE)"
   ]
  },
  {
   "cell_type": "code",
   "execution_count": 1136,
   "id": "e18c5910",
   "metadata": {},
   "outputs": [],
   "source": [
    "gb_neg_mae = cross_validate(gb_grid_cv.best_estimator_, X_train, y_train, \n",
    "                            scoring='neg_mean_absolute_error', cv=5, n_jobs=-1)"
   ]
  },
  {
   "cell_type": "code",
   "execution_count": 1137,
   "id": "fcd81789",
   "metadata": {},
   "outputs": [
    {
     "data": {
      "text/plain": [
       "(4.525693163350871, 0.18730245879154062)"
      ]
     },
     "execution_count": 1137,
     "metadata": {},
     "output_type": "execute_result"
    }
   ],
   "source": [
    "#Training set CV mean and std\n",
    "gb_mae_mean = np.mean(-1 * gb_neg_mae['test_score'])\n",
    "gb_mae_std = np.std(-1 * gb_neg_mae['test_score'])\n",
    "gb_mae_mean, gb_mae_std"
   ]
  },
  {
   "cell_type": "code",
   "execution_count": 1138,
   "id": "6d131fd6",
   "metadata": {},
   "outputs": [
    {
     "data": {
      "text/plain": [
       "4.597146510227209"
      ]
     },
     "execution_count": 1138,
     "metadata": {},
     "output_type": "execute_result"
    }
   ],
   "source": [
    "# Test set mean\n",
    "mean_absolute_error(y_test, gb_grid_cv.best_estimator_.predict(X_test))"
   ]
  },
  {
   "cell_type": "markdown",
   "id": "63e05fa0",
   "metadata": {},
   "source": [
    "#### Mean Squared Error (MSE)"
   ]
  },
  {
   "cell_type": "code",
   "execution_count": 1139,
   "id": "680649e1",
   "metadata": {},
   "outputs": [],
   "source": [
    "gb_neg_mse = cross_validate(gb_grid_cv.best_estimator_, X_train, y_train, \n",
    "                            scoring='neg_mean_squared_error', cv=5)"
   ]
  },
  {
   "cell_type": "code",
   "execution_count": 1140,
   "id": "5bf5c623",
   "metadata": {},
   "outputs": [
    {
     "data": {
      "text/plain": [
       "(32.534770380128066, 2.7361566375208533)"
      ]
     },
     "execution_count": 1140,
     "metadata": {},
     "output_type": "execute_result"
    }
   ],
   "source": [
    "#Training set CV mean and std\n",
    "gb_mse_mean = np.mean(-1 * gb_neg_mse['test_score'])\n",
    "gb_mse_std = np.std(-1 * gb_neg_mse['test_score'])\n",
    "gb_mse_mean, gb_mse_std"
   ]
  },
  {
   "cell_type": "code",
   "execution_count": 1141,
   "id": "a347d29a",
   "metadata": {},
   "outputs": [
    {
     "data": {
      "text/plain": [
       "35.063655236204085"
      ]
     },
     "execution_count": 1141,
     "metadata": {},
     "output_type": "execute_result"
    }
   ],
   "source": [
    "# Test set mean\n",
    "mean_squared_error(y_test, gb_grid_cv.best_estimator_.predict(X_test))"
   ]
  },
  {
   "cell_type": "markdown",
   "id": "fb2e2fa6",
   "metadata": {},
   "source": [
    "#### Root Mean Square Error (RMSE)"
   ]
  },
  {
   "cell_type": "code",
   "execution_count": 1142,
   "id": "637cc724",
   "metadata": {},
   "outputs": [],
   "source": [
    "gb_neg_rmse = cross_validate(gb_grid_cv.best_estimator_, X_train, y_train, \n",
    "                            scoring='neg_root_mean_squared_error', cv=5)"
   ]
  },
  {
   "cell_type": "code",
   "execution_count": 1143,
   "id": "129c9952",
   "metadata": {},
   "outputs": [
    {
     "data": {
      "text/plain": [
       "(5.698887760951874, 0.2396845180669819)"
      ]
     },
     "execution_count": 1143,
     "metadata": {},
     "output_type": "execute_result"
    }
   ],
   "source": [
    "#Training set CV mean and std\n",
    "gb_rmse_mean = np.mean(-1 * gb_neg_rmse['test_score'])\n",
    "gb_rmse_std = np.std(-1 * gb_neg_rmse['test_score'])\n",
    "gb_rmse_mean, gb_rmse_std"
   ]
  },
  {
   "cell_type": "code",
   "execution_count": 1144,
   "id": "1bac3e9c",
   "metadata": {},
   "outputs": [
    {
     "data": {
      "text/plain": [
       "5.921457188581548"
      ]
     },
     "execution_count": 1144,
     "metadata": {},
     "output_type": "execute_result"
    }
   ],
   "source": [
    "# Test set mean\n",
    "np.sqrt(mean_squared_error(y_test, gb_grid_cv.best_estimator_.predict(X_test)))"
   ]
  },
  {
   "cell_type": "markdown",
   "id": "3b42bbe6",
   "metadata": {},
   "source": [
    "### Best Gradient Boosting Model Feature Performance"
   ]
  },
  {
   "cell_type": "code",
   "execution_count": 1100,
   "id": "e1ca08e2",
   "metadata": {},
   "outputs": [
    {
     "data": {
      "image/png": "[encoded data removed]",
      "text/plain": [
       "<Figure size 1440x720 with 1 Axes>"
      ]
     },
     "metadata": {
      "needs_background": "light"
     },
     "output_type": "display_data"
    }
   ],
   "source": [
    "#Plot a barplot of the gradient boosting model's feature importances,\n",
    "#assigning the `feature_importances_` attribute of \n",
    "#`gb_grid_cv.best_estimator_.named_steps.gradientboostingregressor` to the name `imps` to then\n",
    "#create a pandas Series object of the feature importances, with the index given by the\n",
    "#training data column names, sorting the values in descending order\n",
    "plt.subplots(figsize=(20, 10))\n",
    "imps = gb_grid_cv.best_estimator_.named_steps.gradientboostingregressor.feature_importances_\n",
    "rf_feat_imps = pd.Series(imps, index=X_train.columns).sort_values(ascending=False)\n",
    "rf_feat_imps.plot(kind='bar')\n",
    "plt.xlabel('features')\n",
    "plt.ylabel('importance')\n",
    "plt.title('Best gradient boosting regressor feature importances');"
   ]
  },
  {
   "cell_type": "markdown",
   "id": "90889774",
   "metadata": {},
   "source": [
    "### Data Quality Assessment"
   ]
  },
  {
   "cell_type": "code",
   "execution_count": 916,
   "id": "866b98a7",
   "metadata": {},
   "outputs": [],
   "source": [
    "fractions = [.2, .25, .3, .35, .4, .45, .5, .6, .75, .8, .9, 1.0]\n",
    "train_size, train_scores, test_scores = learning_curve(GB_pipe, X_train, y_train, train_sizes=fractions)\n",
    "train_scores_mean = np.mean(train_scores, axis=1)\n",
    "train_scores_std = np.std(train_scores, axis=1)\n",
    "test_scores_mean = np.mean(test_scores, axis=1)\n",
    "test_scores_std = np.std(test_scores, axis=1)"
   ]
  },
  {
   "cell_type": "code",
   "execution_count": 917,
   "id": "0f4fe42e",
   "metadata": {},
   "outputs": [
    {
     "data": {
      "image/png": "[encoded data removed]",
      "text/plain": [
       "<Figure size 720x360 with 1 Axes>"
      ]
     },
     "metadata": {
      "needs_background": "light"
     },
     "output_type": "display_data"
    }
   ],
   "source": [
    "plt.subplots(figsize=(10, 5))\n",
    "plt.errorbar(train_size, test_scores_mean, yerr=test_scores_std)\n",
    "plt.xlabel('Training set size')\n",
    "plt.ylabel('CV scores')\n",
    "plt.title('Cross-validation score as training set size increases');"
   ]
  },
  {
   "cell_type": "code",
   "execution_count": null,
   "id": "deb48de1",
   "metadata": {},
   "outputs": [],
   "source": []
  }
 ],
 "metadata": {
  "kernelspec": {
   "display_name": "Python 3",
   "language": "python",
   "name": "python3"
  },
  "language_info": {
   "codemirror_mode": {
    "name": "ipython",
    "version": 3
   },
   "file_extension": ".py",
   "mimetype": "text/x-python",
   "name": "python",
   "nbconvert_exporter": "python",
   "pygments_lexer": "ipython3",
   "version": "3.8.8"
  }
 },
 "nbformat": 4,
 "nbformat_minor": 5
}
