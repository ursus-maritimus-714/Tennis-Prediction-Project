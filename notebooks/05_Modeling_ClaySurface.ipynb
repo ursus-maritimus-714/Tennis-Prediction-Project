{
 "cells": [
  {
   "cell_type": "markdown",
   "id": "3d3e098d",
   "metadata": {},
   "source": [
    "## Introduction to Modeling (Clay Court Version)\n",
    "\n",
    "In the previous stage (see Workbook 4; Preprocessing_Training_Claycourt), two simple benchmark models were generated:\n",
    "\n",
    "* \"Dummy\" Model, where the mean % total points won for given player in the training split (75% of hard court data from 2015-2019) was used to predict % total points won by a given player in a given match: \n",
    "    * Mean error (RMSE): 6.65% Train; 6.54% Test\n",
    "* Multivariate linear model including only ATP rankings (raw and matchup-differential) information in the same training split: \n",
    "    * Mean error/Standard Deviation (RMSE): 6.56% (.07%) Train; 6.42% Test\n",
    "* Here, the entire set of raw and differential predictive features (~150) is used to predict the target of % total points won by a given player in a given match. This is the clay court version; hard court prediction is conducted in a separate workbook (05_ModelingClaySurface).\n",
    "* For the Hard Court model (see notebook 05_Modeling_HardSurface), data from years 2015-2019 are used in EDA/modeling, with an additional 3 years prior to that (2012-2014) used for past performance match stats accrual for predictive feature generation. \n",
    "    * Because Clay Court matches constitute only ~30% of the total sample, for the Clay Court model an additional 3 years were used for modeling (2012-2019), with 2009-2011 additionally used for past performance match stats accrual for predictive feature generation. \n",
    "    * For the final reporting on this project, the effect on data size and time range used were extensively explored (see \"Reporting\" folder for pertinent notebooks, written report and Power Point Presentation)\n",
    "* A threshold of minimum of 20 prior matches for BOTH players in a given match to be predicted on is employed in the modeling stage. Not surprisingly, prediction accuracy is sensitive to the amount of data available to generate predictive features, as well as to the amount of data available to train and test the model. Critically, matches filtered out in the present stage WERE used in previous stages for stats accrual/feature development (though those matches filtered out in the initial stage WERE NOT used in feature accrual; see below)\n",
    "    * As a reminder, in the initial stage (see Workbook 1) of the project, matches played on grass (too low a sample size; also removed Davis up and Olympics matches for same reason as well as for their \"odd\" contexts) and matches where one player withdrew (usually for injury reason) either before the match or early on in the match were filtered out and NOT included in feature generation. \n",
    "* Four models are evaluated presently: Linear Regression and  decision tree models. The decision tree models evaluated are Random Forest, Gradient Boosting Regressor and HistGradient Boosting Regressor. The latter is still in beta for scikitlearn. It is a very fast (relative to standard gradient boosting models), consistently high-performing on heterogenous data sets, ensemble machine learning algorithm. Boosting, generally, refers to a class of ensemble learning algorithms that add tree models to an ensemble sequentially.\n"
   ]
  },
  {
   "cell_type": "markdown",
   "id": "18a88698",
   "metadata": {},
   "source": [
    "### Imports"
   ]
  },
  {
   "cell_type": "code",
   "execution_count": 138,
   "id": "318c8037",
   "metadata": {},
   "outputs": [],
   "source": [
    "import pandas as pd\n",
    "import numpy as np\n",
    "import os\n",
    "import pickle\n",
    "import matplotlib.pyplot as plt\n",
    "import seaborn as sns\n",
    "from sklearn import __version__ as sklearn_version\n",
    "#from sklearn.decomposition import PCA\n",
    "from sklearn.preprocessing import scale\n",
    "from sklearn.model_selection import train_test_split, cross_validate, GridSearchCV, learning_curve\n",
    "from sklearn.preprocessing import StandardScaler, MinMaxScaler\n",
    "from sklearn.dummy import DummyRegressor\n",
    "from sklearn.linear_model import LinearRegression\n",
    "from sklearn.ensemble import RandomForestRegressor\n",
    "from sklearn.ensemble import GradientBoostingRegressor\n",
    "from sklearn.experimental import enable_hist_gradient_boosting\n",
    "from sklearn.ensemble import HistGradientBoostingRegressor\n",
    "from sklearn.metrics import r2_score, mean_squared_error, mean_absolute_error\n",
    "from sklearn.pipeline import make_pipeline\n",
    "from sklearn.impute import SimpleImputer\n",
    "from sklearn.feature_selection import SelectKBest, f_regression\n",
    "import datetime\n",
    "from library.sb_utils import save_file"
   ]
  },
  {
   "cell_type": "markdown",
   "id": "654d682e",
   "metadata": {},
   "source": [
    "### Load and Filter Data"
   ]
  },
  {
   "cell_type": "markdown",
   "id": "f0180d31",
   "metadata": {},
   "source": [
    "Filtering parameters identical to in dummy/simple modeling stage. "
   ]
  },
  {
   "cell_type": "code",
   "execution_count": 139,
   "id": "af618860",
   "metadata": {},
   "outputs": [
    {
     "data": {
      "text/html": [
       "<div>\n",
       "<style scoped>\n",
       "    .dataframe tbody tr th:only-of-type {\n",
       "        vertical-align: middle;\n",
       "    }\n",
       "\n",
       "    .dataframe tbody tr th {\n",
       "        vertical-align: top;\n",
       "    }\n",
       "\n",
       "    .dataframe thead th {\n",
       "        text-align: right;\n",
       "    }\n",
       "</style>\n",
       "<table border=\"1\" class=\"dataframe\">\n",
       "  <thead>\n",
       "    <tr style=\"text-align: right;\">\n",
       "      <th></th>\n",
       "      <th>p_pts_won%</th>\n",
       "      <th>p_sv_pts_won%</th>\n",
       "      <th>p_ret_pts_won%</th>\n",
       "      <th>p_ace%</th>\n",
       "      <th>p_aced%</th>\n",
       "      <th>p_bp_save%</th>\n",
       "      <th>p_bp_convert%</th>\n",
       "      <th>t_id</th>\n",
       "      <th>t_date</th>\n",
       "      <th>tour_wk</th>\n",
       "      <th>...</th>\n",
       "      <th>p_tot_pts_last_diff</th>\n",
       "      <th>p_tot_pts_l6_diff</th>\n",
       "      <th>p_tot_pts_l6_decay_diff</th>\n",
       "      <th>p_matches_diff</th>\n",
       "      <th>p_matches_surf_diff</th>\n",
       "      <th>p_stam_adj_fatigue_diff</th>\n",
       "      <th>p_stam_adj_fatigue_decay_diff</th>\n",
       "      <th>p_H2H_diff</th>\n",
       "      <th>p_H2H_pts_won%_diff</th>\n",
       "      <th>m_outcome</th>\n",
       "    </tr>\n",
       "  </thead>\n",
       "  <tbody>\n",
       "    <tr>\n",
       "      <th>0</th>\n",
       "      <td>47.84</td>\n",
       "      <td>56.28</td>\n",
       "      <td>38.41</td>\n",
       "      <td>1.09</td>\n",
       "      <td>3.66</td>\n",
       "      <td>55.00</td>\n",
       "      <td>43.75</td>\n",
       "      <td>2019-560</td>\n",
       "      <td>20190826</td>\n",
       "      <td>2019_24</td>\n",
       "      <td>...</td>\n",
       "      <td>-0.0</td>\n",
       "      <td>-0.0</td>\n",
       "      <td>-0.0</td>\n",
       "      <td>-243.0</td>\n",
       "      <td>-109.0</td>\n",
       "      <td>179.240506</td>\n",
       "      <td>134.430380</td>\n",
       "      <td>-0.0</td>\n",
       "      <td>NaN</td>\n",
       "      <td>0</td>\n",
       "    </tr>\n",
       "    <tr>\n",
       "      <th>1</th>\n",
       "      <td>41.29</td>\n",
       "      <td>49.40</td>\n",
       "      <td>31.94</td>\n",
       "      <td>4.82</td>\n",
       "      <td>15.28</td>\n",
       "      <td>33.33</td>\n",
       "      <td>40.00</td>\n",
       "      <td>2019-M014</td>\n",
       "      <td>20191014</td>\n",
       "      <td>2019_29</td>\n",
       "      <td>...</td>\n",
       "      <td>-0.0</td>\n",
       "      <td>-0.0</td>\n",
       "      <td>-0.0</td>\n",
       "      <td>-0.0</td>\n",
       "      <td>-0.0</td>\n",
       "      <td>-0.000000</td>\n",
       "      <td>-0.000000</td>\n",
       "      <td>-0.0</td>\n",
       "      <td>NaN</td>\n",
       "      <td>0</td>\n",
       "    </tr>\n",
       "    <tr>\n",
       "      <th>2</th>\n",
       "      <td>37.23</td>\n",
       "      <td>51.85</td>\n",
       "      <td>17.50</td>\n",
       "      <td>3.70</td>\n",
       "      <td>5.00</td>\n",
       "      <td>33.33</td>\n",
       "      <td>0.00</td>\n",
       "      <td>2019-M004</td>\n",
       "      <td>20190225</td>\n",
       "      <td>2019_07</td>\n",
       "      <td>...</td>\n",
       "      <td>-0.0</td>\n",
       "      <td>-0.0</td>\n",
       "      <td>-0.0</td>\n",
       "      <td>-25.0</td>\n",
       "      <td>-24.0</td>\n",
       "      <td>133.805310</td>\n",
       "      <td>100.353982</td>\n",
       "      <td>-0.0</td>\n",
       "      <td>NaN</td>\n",
       "      <td>0</td>\n",
       "    </tr>\n",
       "    <tr>\n",
       "      <th>3</th>\n",
       "      <td>59.14</td>\n",
       "      <td>69.23</td>\n",
       "      <td>46.34</td>\n",
       "      <td>3.85</td>\n",
       "      <td>4.88</td>\n",
       "      <td>100.00</td>\n",
       "      <td>37.50</td>\n",
       "      <td>2019-7696</td>\n",
       "      <td>20191105</td>\n",
       "      <td>2019_33</td>\n",
       "      <td>...</td>\n",
       "      <td>9.0</td>\n",
       "      <td>49.0</td>\n",
       "      <td>46.9</td>\n",
       "      <td>-79.0</td>\n",
       "      <td>-77.0</td>\n",
       "      <td>109.423559</td>\n",
       "      <td>90.917141</td>\n",
       "      <td>0.0</td>\n",
       "      <td>NaN</td>\n",
       "      <td>1</td>\n",
       "    </tr>\n",
       "    <tr>\n",
       "      <th>4</th>\n",
       "      <td>53.66</td>\n",
       "      <td>70.77</td>\n",
       "      <td>34.48</td>\n",
       "      <td>7.69</td>\n",
       "      <td>3.45</td>\n",
       "      <td>88.89</td>\n",
       "      <td>37.50</td>\n",
       "      <td>2019-7696</td>\n",
       "      <td>20191105</td>\n",
       "      <td>2019_33</td>\n",
       "      <td>...</td>\n",
       "      <td>53.0</td>\n",
       "      <td>44.0</td>\n",
       "      <td>42.5</td>\n",
       "      <td>-17.0</td>\n",
       "      <td>-20.0</td>\n",
       "      <td>55.064126</td>\n",
       "      <td>48.178912</td>\n",
       "      <td>0.0</td>\n",
       "      <td>NaN</td>\n",
       "      <td>1</td>\n",
       "    </tr>\n",
       "  </tbody>\n",
       "</table>\n",
       "<p>5 rows × 160 columns</p>\n",
       "</div>"
      ],
      "text/plain": [
       "   p_pts_won%  p_sv_pts_won%  p_ret_pts_won%  p_ace%  p_aced%  p_bp_save%  \\\n",
       "0       47.84          56.28           38.41    1.09     3.66       55.00   \n",
       "1       41.29          49.40           31.94    4.82    15.28       33.33   \n",
       "2       37.23          51.85           17.50    3.70     5.00       33.33   \n",
       "3       59.14          69.23           46.34    3.85     4.88      100.00   \n",
       "4       53.66          70.77           34.48    7.69     3.45       88.89   \n",
       "\n",
       "   p_bp_convert%       t_id    t_date  tour_wk  ... p_tot_pts_last_diff  \\\n",
       "0          43.75   2019-560  20190826  2019_24  ...                -0.0   \n",
       "1          40.00  2019-M014  20191014  2019_29  ...                -0.0   \n",
       "2           0.00  2019-M004  20190225  2019_07  ...                -0.0   \n",
       "3          37.50  2019-7696  20191105  2019_33  ...                 9.0   \n",
       "4          37.50  2019-7696  20191105  2019_33  ...                53.0   \n",
       "\n",
       "  p_tot_pts_l6_diff  p_tot_pts_l6_decay_diff  p_matches_diff  \\\n",
       "0              -0.0                     -0.0          -243.0   \n",
       "1              -0.0                     -0.0            -0.0   \n",
       "2              -0.0                     -0.0           -25.0   \n",
       "3              49.0                     46.9           -79.0   \n",
       "4              44.0                     42.5           -17.0   \n",
       "\n",
       "   p_matches_surf_diff  p_stam_adj_fatigue_diff  \\\n",
       "0               -109.0               179.240506   \n",
       "1                 -0.0                -0.000000   \n",
       "2                -24.0               133.805310   \n",
       "3                -77.0               109.423559   \n",
       "4                -20.0                55.064126   \n",
       "\n",
       "   p_stam_adj_fatigue_decay_diff  p_H2H_diff  p_H2H_pts_won%_diff  m_outcome  \n",
       "0                     134.430380        -0.0                  NaN          0  \n",
       "1                      -0.000000        -0.0                  NaN          0  \n",
       "2                     100.353982        -0.0                  NaN          0  \n",
       "3                      90.917141         0.0                  NaN          1  \n",
       "4                      48.178912         0.0                  NaN          1  \n",
       "\n",
       "[5 rows x 160 columns]"
      ]
     },
     "execution_count": 139,
     "metadata": {},
     "output_type": "execute_result"
    }
   ],
   "source": [
    "df = pd.read_csv('../data/df_player_all_2009to2019.csv')\n",
    "df.head()"
   ]
  },
  {
   "cell_type": "code",
   "execution_count": 140,
   "id": "15247e33",
   "metadata": {},
   "outputs": [
    {
     "name": "stdout",
     "output_type": "stream",
     "text": [
      "<class 'pandas.core.frame.DataFrame'>\n",
      "RangeIndex: 50356 entries, 0 to 50355\n",
      "Columns: 160 entries, p_pts_won% to m_outcome\n",
      "dtypes: float64(138), int64(16), object(6)\n",
      "memory usage: 61.5+ MB\n"
     ]
    }
   ],
   "source": [
    "df.info()"
   ]
  },
  {
   "cell_type": "code",
   "execution_count": 141,
   "id": "53843e8d",
   "metadata": {},
   "outputs": [
    {
     "data": {
      "text/plain": [
       "0         1.0\n",
       "1         1.0\n",
       "2         1.0\n",
       "3        12.0\n",
       "4        11.0\n",
       "         ... \n",
       "50351     4.0\n",
       "50352     3.0\n",
       "50353     2.0\n",
       "50354     1.0\n",
       "50355     1.0\n",
       "Name: p_matches_surf, Length: 50356, dtype: float64"
      ]
     },
     "execution_count": 141,
     "metadata": {},
     "output_type": "execute_result"
    }
   ],
   "source": [
    "df[\"p_matches_surf\"]"
   ]
  },
  {
   "cell_type": "code",
   "execution_count": 142,
   "id": "0a8c96bd",
   "metadata": {},
   "outputs": [],
   "source": [
    "df_filter = df[~df['tour_wk'].str.contains(\"2009\")] \n",
    "df_filter = df_filter[~df_filter['tour_wk'].str.contains(\"2010\")]\n",
    "df_filter = df_filter[~df_filter['tour_wk'].str.contains(\"2011\")]\n",
    "#df_filter = df_filter[~df_filter['tour_wk'].str.contains(\"2012\")]\n",
    "#df_filter = df_filter[~df_filter['tour_wk'].str.contains(\"2013\")]\n",
    "#df_filter = df_filter[~df_filter['tour_wk'].str.contains(\"2014\")]\n",
    "#df_filter = df_filter[~df_filter['tour_wk'].str.contains(\"2015\")]\n",
    "#df_filter = df_filter[~df_filter['tour_wk'].str.contains(\"2016\")]\n",
    "#df_filter = df_filter[~df_filter['tour_wk'].str.contains(\"2017\")]\n",
    "#df_filter = df_filter[~df_filter['tour_wk'].str.contains(\"2018\")]\n",
    "#df_filter = df_filter[~df_filter['tour_wk'].str.contains(\"2019\")]"
   ]
  },
  {
   "cell_type": "code",
   "execution_count": 143,
   "id": "995cacae",
   "metadata": {},
   "outputs": [],
   "source": [
    "# Filter down to only matches played on clay courts\n",
    "df_filter2 = df_filter.loc[(df_filter[\"t_surf\"] == 1)]\n",
    "#df_filter2 = df_filter.loc[(df_filter[\"t_surf\"] == 1) & (df_filter[\"p_matches_surf\"] > 50)]"
   ]
  },
  {
   "cell_type": "code",
   "execution_count": 144,
   "id": "35bdde16",
   "metadata": {},
   "outputs": [],
   "source": [
    "# Now also will remove BOTH players from individual matches remaining in the surface-specific sample already filtered by year range\n",
    "# where one or both players has played N or fewer matches prior to the one to be predicted on. \n",
    "df_low = df_filter2.loc[df_filter2['p_matches_surf'] <= 20, 'm_num']\n",
    "df_filter3 = df_filter2[~df_filter2['m_num'].isin(df_low)]"
   ]
  },
  {
   "cell_type": "code",
   "execution_count": 145,
   "id": "c0170740",
   "metadata": {},
   "outputs": [],
   "source": [
    "#Pared down to just the predictive features(both raw and player-opponent differential for match being predicted on), and the target feature itself ( player % pts won in the mtch being predicted on)\n",
    "# All features are derived from data available prior to any given match being predicted on. No data leakage!\n",
    "df_model1 = df_filter3[[\"p_pts_won%\", \"t_indoor\", \"t_alt\", \"t_ace%_last\", \"t_lvl\", \"t_draw_size\", \"t_rd_num\", \"m_best_of\", \"p_rank\", \"p_log_rank\", \"p_rank_pts\", \"p_ent\", \"p_hd\", \"p_ht\", \"p_age\", \"p_matches\", \"p_matches_surf\", \"p_H2H_w\", \"p_H2H_pts_won%\", \"p_pts_won%_l60_decay\", \"p_pts_won%_l60_decay_IO\", \"p_pts_won%_l10\", \"p_SOS_adj_pts_won%_l60_decay\", \"p_SOS_adj_pts_won%_l60_decay_IO\", \"p_SOS_adj_pts_won%_l60_decay_IO_weighted\", \"p_SOS_adj_pts_won%_l10\", \"p_sv_pts_won%_l60_decay\", \"p_sv_pts_won%_l10\", \"p_SOS_adj_sv_pts_won%_l60_decay\", \"p_SOS_adj_sv_pts_won%_l10\", \"p_ret_pts_won%_l60_decay\", \"p_ret_pts_won%_l10\", \"p_SOS_adj_ret_pts_won%_l60_decay\", \"p_SOS_adj_ret_pts_won%_l10\", \"p_ace%_l60_decay\", \"p_ace%_l10\", \"p_SOS_adj_ace%_l60_decay\", \"p_SOS_adj_ace%_l10\", \"p_aced%_l60_decay\", \"p_aced%_l10\", \"p_SOS_adj_aced%_l60_decay\", \"p_SOS_adj_aced%_l10\", \"p_bp_save%_l60\", \"p_bp_save%_l10\", \"p_SOS_adj_bp_save%_l60\", \"p_SOS_adj_bp_save%_l10\", \"p_bp_convert%_l60\", \"p_bp_convert%_l10\", \"p_SOS_adj_bp_convert%_l60\", \"p_SOS_adj_bp_convert%_l10\", \"p_pts_won%_std_l60_decay\",\"p_sv_pts_won%_std_l60_decay\", \"p_ret_pts_won%_std_l60_decay\",\"p_m_time_last\", \"p_tot_time_l6\", \"p_tot_time_l6_decay\", \"p_tot_pts_last\", \"p_tot_pts_l6\", \"p_tot_pts_l6_decay\", \"p_stamina_adj_fatigue\", \"p_stamina_adj_fatigue_decay\", \"high_t_ace_p_ace\", \"high_t_ace_p_aced\", \"p_opp_rank_diff\", \"p_opp_log_rank_diff\", \"p_opp_rank_pts_diff\", \"p_ent_diff\", \"p_opp_ht_diff\", \"p_opp_age_diff\", \"p_L_opp_R\", \"p_HCA_opp_N\", \"p_pts_won%_l60_decay_diff\", \"p_pts_won%_l60_decay_IO_diff\", \"p_SOS_adj_pts_won%_l60_decay_diff\", \"p_SOS_adj_pts_won%_l60_decay_IO_diff\", \"p_SOS_adj_pts_won%_l60_decay_IO_weighted_diff\", \"p_pts_won%_l10_diff\", \"p_SOS_adj_pts_won%_l10_diff\", \"p_sv_pts_won%_l60_decay_diff\", \"p_SOS_adj_sv_pts_won%_l60_decay_diff\", \"p_sv_pts_won%_l10_diff\", \"p_SOS_adj_sv_pts_won%_l10_diff\", \"p_ret_pts_won%_l60_decay_diff\", \"p_SOS_adj_ret_pts_won%_l60_decay_diff\", \"p_ret_pts_won%_l10_diff\", \"p_SOS_adj_ret_pts_won%_l10_diff\", \"p_sv_opp_ret_pts_won%_l60_decay_diff\", \"p_SOS_adj_sv_opp_ret_pts_won%_l60_decay_diff\", \"p_sv_opp_ret_pts_won%_l10_diff\", \"p_SOS_adj_sv_opp_ret_pts_won%_l10_diff\", \"p_ret_opp_sv_pts_won%_l60_decay_diff\", \"p_SOS_adj_ret_opp_sv_pts_won%_l60_decay_diff\", \"p_ret_opp_sv_pts_won%_l10_diff\", \"p_SOS_adj_ret_opp_sv_pts_won%_l10_diff\", \"p_ace%_l60_decay_diff\", \"p_SOS_adj_ace%_l60_decay_diff\", \"p_ace%_l10_diff\", \"p_SOS_adj_ace%_l10_diff\", \"p_aced%_l60_decay_diff\", \"p_SOS_adj_aced%_l60_decay_diff\", \"p_aced%_l10_diff\", \"p_SOS_adj_aced%_l10_diff\", \"p_ace%_opp_aced%_l60_decay_diff\", \"p_SOS_adj_ace%_opp_aced%_l60_decay_diff\", \"p_ace%_opp_aced%_l10_diff\", \"p_SOS_adj_ace%_opp_aced%_l10_diff\", \"p_aced%_opp_ace%_l60_decay_diff\", \"p_SOS_adj_aced%_opp_ace%_l60_decay_diff\", \"p_aced%_opp_ace%_l10_diff\", \"p_SOS_adj_aced%_opp_ace%_l10_diff\", \"p_bp_save%_l60_diff\", \"p_SOS_adj_bp_save%_l60_diff\", \"p_bp_save%_l10_diff\", \"p_SOS_adj_bp_save%_l10_diff\", \"p_bp_convert%_l60_diff\", \"p_SOS_adj_bp_convert%_l60_diff\", \"p_bp_convert%_l10_diff\", \"p_SOS_adj_bp_convert%_l10_diff\", \"p_bp_convert%_opp_bp_save%_l60_diff\", \"p_SOS_adj_bp_convert%_opp_bp_save%_l60_diff\", \"p_bp_convert%_opp_bp_save%_l10_diff\", \"p_SOS_adj_bp_convert%_opp_bp_save%_l10_diff\", \"p_bp_save%_opp_bp_convert%_l60_diff\", \"p_SOS_adj_bp_save%_opp_bp_convert%_l60_diff\", \"p_bp_save%_opp_bp_convert%_l10_diff\", \"p_SOS_adj_bp_save%_opp_bp_convert%_l10_diff\", \"p_pts_won%_std_l60_decay_diff\", 'p_sv_pts_won%_std_l60_decay_diff','p_ret_pts_won%_std_l60_decay_diff', \"p_m_time_last_diff\", \"p_tot_time_l6_diff\", \"p_tot_time_l6_decay_diff\", \"p_tot_pts_last_diff\", \"p_tot_pts_l6_diff\", \"p_tot_pts_l6_decay_diff\", \"p_matches_diff\", \"p_matches_surf_diff\", \"p_stam_adj_fatigue_diff\", \"p_stam_adj_fatigue_decay_diff\", \"p_H2H_diff\", \"p_H2H_pts_won%_diff\"]] #all features"
   ]
  },
  {
   "cell_type": "markdown",
   "id": "af0ed9b0",
   "metadata": {},
   "source": [
    "### Data Split for Modeling"
   ]
  },
  {
   "cell_type": "markdown",
   "id": "95620510",
   "metadata": {},
   "source": [
    "Identical split as for dummy/simple modeling"
   ]
  },
  {
   "cell_type": "code",
   "execution_count": 146,
   "id": "e7f2b6c5",
   "metadata": {},
   "outputs": [
    {
     "data": {
      "text/plain": [
       "(5410.5, 1803.5)"
      ]
     },
     "execution_count": 146,
     "metadata": {},
     "output_type": "execute_result"
    }
   ],
   "source": [
    "len(df_model1) * .75, len(df_model1) * .25"
   ]
  },
  {
   "cell_type": "code",
   "execution_count": 147,
   "id": "319fbf70",
   "metadata": {},
   "outputs": [],
   "source": [
    "#Replicates EXACT train-test split from dummy and simpler modeling\n",
    "X_train, X_test, y_train, y_test = train_test_split(df_model1.drop(columns='p_pts_won%'), \n",
    "                                                    df_model1[\"p_pts_won%\"], test_size=0.25, \n",
    "                                                    random_state=47)"
   ]
  },
  {
   "cell_type": "code",
   "execution_count": 148,
   "id": "9bd84540",
   "metadata": {},
   "outputs": [
    {
     "data": {
      "text/plain": [
       "((5410,), (1804,))"
      ]
     },
     "execution_count": 148,
     "metadata": {},
     "output_type": "execute_result"
    }
   ],
   "source": [
    "y_train.shape, y_test.shape"
   ]
  },
  {
   "cell_type": "code",
   "execution_count": 149,
   "id": "51897b2b",
   "metadata": {},
   "outputs": [
    {
     "data": {
      "text/plain": [
       "15651    50.00\n",
       "43357    45.58\n",
       "13239    47.62\n",
       "20905    42.34\n",
       "13998    50.46\n",
       "         ...  \n",
       "44313    37.89\n",
       "22584    54.01\n",
       "42353    45.14\n",
       "14115    47.73\n",
       "33993    53.42\n",
       "Name: p_pts_won%, Length: 5410, dtype: float64"
      ]
     },
     "execution_count": 149,
     "metadata": {},
     "output_type": "execute_result"
    }
   ],
   "source": [
    "y_train"
   ]
  },
  {
   "cell_type": "code",
   "execution_count": 150,
   "id": "86a500f1",
   "metadata": {},
   "outputs": [
    {
     "data": {
      "text/plain": [
       "((5410, 140), (1804, 140))"
      ]
     },
     "execution_count": 150,
     "metadata": {},
     "output_type": "execute_result"
    }
   ],
   "source": [
    "X_train.shape, X_test.shape"
   ]
  },
  {
   "cell_type": "markdown",
   "id": "b9671adf",
   "metadata": {},
   "source": [
    "## Linear Model"
   ]
  },
  {
   "cell_type": "code",
   "execution_count": 13,
   "id": "5095b71a",
   "metadata": {},
   "outputs": [],
   "source": [
    "lr_pipe = make_pipeline(\n",
    "    SimpleImputer(strategy='median'), \n",
    "    StandardScaler(),\n",
    "    SelectKBest(f_regression),\n",
    "    LinearRegression()\n",
    ")"
   ]
  },
  {
   "cell_type": "code",
   "execution_count": 14,
   "id": "dd4a0548",
   "metadata": {},
   "outputs": [
    {
     "data": {
      "text/plain": [
       "dict_keys(['memory', 'steps', 'verbose', 'simpleimputer', 'standardscaler', 'selectkbest', 'linearregression', 'simpleimputer__add_indicator', 'simpleimputer__copy', 'simpleimputer__fill_value', 'simpleimputer__missing_values', 'simpleimputer__strategy', 'simpleimputer__verbose', 'standardscaler__copy', 'standardscaler__with_mean', 'standardscaler__with_std', 'selectkbest__k', 'selectkbest__score_func', 'linearregression__copy_X', 'linearregression__fit_intercept', 'linearregression__n_jobs', 'linearregression__normalize', 'linearregression__positive'])"
      ]
     },
     "execution_count": 14,
     "metadata": {},
     "output_type": "execute_result"
    }
   ],
   "source": [
    "#Dict of available parameters for linear regression pipe\n",
    "lr_pipe.get_params().keys()"
   ]
  },
  {
   "cell_type": "code",
   "execution_count": 15,
   "id": "826c304c",
   "metadata": {},
   "outputs": [],
   "source": [
    "#Define search grid parameters\n",
    "k = [k+1 for k in range(len(X_train.columns))]\n",
    "\n",
    "grid_params = {\n",
    "    'standardscaler': [StandardScaler(), None],\n",
    "    'simpleimputer__strategy': ['mean','median'],\n",
    "    'selectkbest__k': k\n",
    "}\n"
   ]
  },
  {
   "cell_type": "code",
   "execution_count": 16,
   "id": "598e4cf6",
   "metadata": {},
   "outputs": [],
   "source": [
    "#Call `GridSearchCV` with linear regression pipeline, passing in the above `grid_params`\n",
    "#dict for parameters to evaluate with 5-fold cross-validation\n",
    "lr_grid_cv = GridSearchCV(lr_pipe, param_grid=grid_params, cv=5)"
   ]
  },
  {
   "cell_type": "code",
   "execution_count": 17,
   "id": "2363c024",
   "metadata": {},
   "outputs": [
    {
     "data": {
      "text/plain": [
       "GridSearchCV(cv=5,\n",
       "             estimator=Pipeline(steps=[('simpleimputer',\n",
       "                                        SimpleImputer(strategy='median')),\n",
       "                                       ('standardscaler', StandardScaler()),\n",
       "                                       ('selectkbest',\n",
       "                                        SelectKBest(score_func=<function f_regression at 0x00000193D65EA310>)),\n",
       "                                       ('linearregression',\n",
       "                                        LinearRegression())]),\n",
       "             param_grid={'selectkbest__k': [1, 2, 3, 4, 5, 6, 7, 8, 9, 10, 11,\n",
       "                                            12, 13, 14, 15, 16, 17, 18, 19, 20,\n",
       "                                            21, 22, 23, 24, 25, 26, 27, 28, 29,\n",
       "                                            30, ...],\n",
       "                         'simpleimputer__strategy': ['mean', 'median'],\n",
       "                         'standardscaler': [StandardScaler(), None]})"
      ]
     },
     "execution_count": 17,
     "metadata": {},
     "output_type": "execute_result"
    }
   ],
   "source": [
    "#Conduct grid search. \n",
    "lr_grid_cv.fit(X_train, y_train)"
   ]
  },
  {
   "cell_type": "code",
   "execution_count": 18,
   "id": "b928eea5",
   "metadata": {},
   "outputs": [
    {
     "data": {
      "text/plain": [
       "{'selectkbest__k': 15,\n",
       " 'simpleimputer__strategy': 'median',\n",
       " 'standardscaler': StandardScaler()}"
      ]
     },
     "execution_count": 18,
     "metadata": {},
     "output_type": "execute_result"
    }
   ],
   "source": [
    "#Best params from grid search\n",
    "lr_grid_cv.best_params_"
   ]
  },
  {
   "cell_type": "markdown",
   "id": "abfcd36d",
   "metadata": {},
   "source": [
    "### K Best Features Visualization"
   ]
  },
  {
   "cell_type": "code",
   "execution_count": 19,
   "id": "468ab23d",
   "metadata": {},
   "outputs": [
    {
     "data": {
      "image/png": "[encoded data removed]",
      "text/plain": [
       "<Figure size 720x360 with 1 Axes>"
      ]
     },
     "metadata": {
      "needs_background": "light"
     },
     "output_type": "display_data"
    }
   ],
   "source": [
    "score_mean = lr_grid_cv.cv_results_['mean_test_score']\n",
    "score_std = lr_grid_cv.cv_results_['std_test_score']\n",
    "cv_k = [k for k in lr_grid_cv.cv_results_['param_selectkbest__k']]\n",
    "\n",
    "best_k = lr_grid_cv.best_params_['selectkbest__k']\n",
    "plt.subplots(figsize=(10, 5))\n",
    "plt.errorbar(cv_k, score_mean, yerr=score_std)\n",
    "plt.axvline(x=best_k, c='r', ls='--', alpha=.5)\n",
    "plt.xlabel('k')\n",
    "plt.ylabel('CV score (r-squared)')\n",
    "plt.title('Pipeline mean CV score (error bars +/- 1sd)');"
   ]
  },
  {
   "cell_type": "markdown",
   "id": "dce1edcb",
   "metadata": {},
   "source": [
    "### Best Linear Model Performance Metrics"
   ]
  },
  {
   "cell_type": "markdown",
   "id": "b8302046",
   "metadata": {},
   "source": [
    "#### R-squared (COD)"
   ]
  },
  {
   "cell_type": "code",
   "execution_count": 20,
   "id": "14d553fe",
   "metadata": {},
   "outputs": [
    {
     "data": {
      "text/plain": [
       "array([0.20143483, 0.24905655, 0.22475243, 0.24228136, 0.21879248])"
      ]
     },
     "execution_count": 20,
     "metadata": {},
     "output_type": "execute_result"
    }
   ],
   "source": [
    "#Cross-validation defaults to R^2 metric for scoring regression\n",
    "lr_best_cv_results = cross_validate(lr_grid_cv.best_estimator_, X_train, y_train, cv=5)\n",
    "lr_best_scores = lr_best_cv_results['test_score']\n",
    "lr_best_scores"
   ]
  },
  {
   "cell_type": "code",
   "execution_count": 21,
   "id": "32f97506",
   "metadata": {},
   "outputs": [
    {
     "data": {
      "text/plain": [
       "(0.22726352689362353, 0.017003864439283173)"
      ]
     },
     "execution_count": 21,
     "metadata": {},
     "output_type": "execute_result"
    }
   ],
   "source": [
    "#Training set CV mean and std\n",
    "np.mean(lr_best_scores), np.std(lr_best_scores)"
   ]
  },
  {
   "cell_type": "markdown",
   "id": "a7e8d9a8",
   "metadata": {},
   "source": [
    "#### Mean Absolute Error (MAE)"
   ]
  },
  {
   "cell_type": "code",
   "execution_count": 22,
   "id": "26ab74eb",
   "metadata": {},
   "outputs": [],
   "source": [
    "lr_neg_mae = cross_validate(lr_grid_cv.best_estimator_, X_train, y_train, \n",
    "                            scoring='neg_mean_absolute_error', cv=5, n_jobs=-1)"
   ]
  },
  {
   "cell_type": "code",
   "execution_count": 23,
   "id": "e14b2ea4",
   "metadata": {},
   "outputs": [
    {
     "data": {
      "text/plain": [
       "(4.61556277750752, 0.0738053043472547)"
      ]
     },
     "execution_count": 23,
     "metadata": {},
     "output_type": "execute_result"
    }
   ],
   "source": [
    "# Training set MAE and STD \n",
    "lr_mae_mean = np.mean(-1 * lr_neg_mae['test_score'])\n",
    "lr_mae_std = np.std(-1 * lr_neg_mae['test_score'])\n",
    "MAE_LR_train = lr_mae_mean, lr_mae_std\n",
    "MAE_LR_train"
   ]
  },
  {
   "cell_type": "code",
   "execution_count": 24,
   "id": "488c1a9f",
   "metadata": {},
   "outputs": [
    {
     "data": {
      "text/plain": [
       "4.648691351888765"
      ]
     },
     "execution_count": 24,
     "metadata": {},
     "output_type": "execute_result"
    }
   ],
   "source": [
    "# Test set mean\n",
    "MAE_LR_test = mean_absolute_error(y_test, lr_grid_cv.best_estimator_.predict(X_test))\n",
    "MAE_LR_test"
   ]
  },
  {
   "cell_type": "markdown",
   "id": "b49f733d",
   "metadata": {},
   "source": [
    "#### Mean Squared Error (MSE)"
   ]
  },
  {
   "cell_type": "code",
   "execution_count": 25,
   "id": "c61cf64d",
   "metadata": {},
   "outputs": [],
   "source": [
    "lr_neg_mse = cross_validate(lr_grid_cv.best_estimator_, X_train, y_train, \n",
    "                            scoring='neg_mean_squared_error', cv=5)"
   ]
  },
  {
   "cell_type": "code",
   "execution_count": 26,
   "id": "261aa756",
   "metadata": {},
   "outputs": [
    {
     "data": {
      "text/plain": [
       "(34.09652272698988, 0.9399309496381223)"
      ]
     },
     "execution_count": 26,
     "metadata": {},
     "output_type": "execute_result"
    }
   ],
   "source": [
    "#Training set CV mean and std\n",
    "lr_mse_mean = np.mean(-1 * lr_neg_mse['test_score'])\n",
    "lr_mse_std = np.std(-1 * lr_neg_mse['test_score'])\n",
    "MSE_LR_train = lr_mse_mean, lr_mse_std\n",
    "MSE_LR_train"
   ]
  },
  {
   "cell_type": "code",
   "execution_count": 27,
   "id": "dac1d8f7",
   "metadata": {},
   "outputs": [
    {
     "data": {
      "text/plain": [
       "34.4636848530822"
      ]
     },
     "execution_count": 27,
     "metadata": {},
     "output_type": "execute_result"
    }
   ],
   "source": [
    "# Test set mean\n",
    "MSE_LR_test = mean_squared_error(y_test, lr_grid_cv.best_estimator_.predict(X_test))\n",
    "MSE_LR_test"
   ]
  },
  {
   "cell_type": "markdown",
   "id": "f710a68c",
   "metadata": {},
   "source": [
    "#### Root Mean Square Error (RMSE)"
   ]
  },
  {
   "cell_type": "code",
   "execution_count": 28,
   "id": "e6152057",
   "metadata": {},
   "outputs": [],
   "source": [
    "lr_neg_rmse = cross_validate(lr_grid_cv.best_estimator_, X_train, y_train, \n",
    "                            scoring='neg_root_mean_squared_error', cv=5)"
   ]
  },
  {
   "cell_type": "code",
   "execution_count": 29,
   "id": "713bd6b2",
   "metadata": {},
   "outputs": [
    {
     "data": {
      "text/plain": [
       "(5.838669513555394, 0.08038058514779303)"
      ]
     },
     "execution_count": 29,
     "metadata": {},
     "output_type": "execute_result"
    }
   ],
   "source": [
    "#Training set CV mean and std\n",
    "lr_rmse_mean = np.mean(-1 * lr_neg_rmse['test_score'])\n",
    "lr_rmse_std = np.std(-1 * lr_neg_rmse['test_score'])\n",
    "RMSE_LR_train = lr_rmse_mean, lr_rmse_std\n",
    "RMSE_LR_train"
   ]
  },
  {
   "cell_type": "code",
   "execution_count": 30,
   "id": "e71e1b3a",
   "metadata": {},
   "outputs": [
    {
     "data": {
      "text/plain": [
       "5.870577897710088"
      ]
     },
     "execution_count": 30,
     "metadata": {},
     "output_type": "execute_result"
    }
   ],
   "source": [
    "# Test set mean\n",
    "RMSE_LR_test = np.sqrt(mean_squared_error(y_test, lr_grid_cv.best_estimator_.predict(X_test)))\n",
    "RMSE_LR_test"
   ]
  },
  {
   "cell_type": "markdown",
   "id": "8fc4dcbd",
   "metadata": {},
   "source": [
    "### Best Linear Model Feature Importance"
   ]
  },
  {
   "cell_type": "code",
   "execution_count": 31,
   "id": "04bdbfb1",
   "metadata": {},
   "outputs": [
    {
     "data": {
      "image/png": "[encoded data removed]",
      "text/plain": [
       "<Figure size 720x360 with 1 Axes>"
      ]
     },
     "metadata": {
      "needs_background": "light"
     },
     "output_type": "display_data"
    }
   ],
   "source": [
    "#Plot a barplot of the linear regressor feature importances,\n",
    "#assigning the `feature_importances_` attribute of \n",
    "#`lv_grid_cv.best_estimator_.named_steps.linearregression` to the name `imps` to then\n",
    "#create a pandas Series object of the feature importances, with the index given by the\n",
    "#training data column names, sorting the values in descending order\n",
    "selected = lr_grid_cv.best_estimator_.named_steps.selectkbest.get_support()\n",
    "plt.subplots(figsize=(10, 5))\n",
    "imps = lr_grid_cv.best_estimator_.named_steps.linearregression.coef_\n",
    "lr_feat_imps = pd.Series(imps, index=X_train.columns[selected]).sort_values(ascending=False)\n",
    "lr_feat_imps.plot(kind='bar')\n",
    "plt.xlabel('features')\n",
    "plt.ylabel('importance')\n",
    "plt.title('Best linear regressor feature importances');"
   ]
  },
  {
   "cell_type": "markdown",
   "id": "3053eeee",
   "metadata": {},
   "source": [
    "## Random Forest Regression Model"
   ]
  },
  {
   "cell_type": "markdown",
   "id": "c2bef200",
   "metadata": {},
   "source": [
    "### Random Forest Model: Hyperparameter Grid Search"
   ]
  },
  {
   "cell_type": "code",
   "execution_count": 32,
   "id": "5fe47215",
   "metadata": {},
   "outputs": [],
   "source": [
    "#Define pipeline\n",
    "RF_pipe = make_pipeline(\n",
    "    SimpleImputer(strategy='median'),\n",
    "    StandardScaler(),\n",
    "    RandomForestRegressor(random_state=47)\n",
    ")"
   ]
  },
  {
   "cell_type": "code",
   "execution_count": 33,
   "id": "35687bdf",
   "metadata": {},
   "outputs": [
    {
     "data": {
      "text/plain": [
       "dict_keys(['memory', 'steps', 'verbose', 'simpleimputer', 'standardscaler', 'randomforestregressor', 'simpleimputer__add_indicator', 'simpleimputer__copy', 'simpleimputer__fill_value', 'simpleimputer__missing_values', 'simpleimputer__strategy', 'simpleimputer__verbose', 'standardscaler__copy', 'standardscaler__with_mean', 'standardscaler__with_std', 'randomforestregressor__bootstrap', 'randomforestregressor__ccp_alpha', 'randomforestregressor__criterion', 'randomforestregressor__max_depth', 'randomforestregressor__max_features', 'randomforestregressor__max_leaf_nodes', 'randomforestregressor__max_samples', 'randomforestregressor__min_impurity_decrease', 'randomforestregressor__min_impurity_split', 'randomforestregressor__min_samples_leaf', 'randomforestregressor__min_samples_split', 'randomforestregressor__min_weight_fraction_leaf', 'randomforestregressor__n_estimators', 'randomforestregressor__n_jobs', 'randomforestregressor__oob_score', 'randomforestregressor__random_state', 'randomforestregressor__verbose', 'randomforestregressor__warm_start'])"
      ]
     },
     "execution_count": 33,
     "metadata": {},
     "output_type": "execute_result"
    }
   ],
   "source": [
    "#Dict of available parameters for RF pipe\n",
    "RF_pipe.get_params().keys()"
   ]
  },
  {
   "cell_type": "code",
   "execution_count": 34,
   "id": "ec1fa9bb",
   "metadata": {},
   "outputs": [
    {
     "data": {
      "text/plain": [
       "{'randomforestregressor__n_estimators': [10, 100, 500, 1000],\n",
       " 'standardscaler': [StandardScaler(), None],\n",
       " 'simpleimputer__strategy': ['mean', 'median']}"
      ]
     },
     "execution_count": 34,
     "metadata": {},
     "output_type": "execute_result"
    }
   ],
   "source": [
    "#Define search grid parameters\n",
    "\n",
    "#n_est = [int(n) for n in np.logspace(start=1, stop=3, num=20)]\n",
    "n_est = [10, 100, 500, 1000]\n",
    "\n",
    "grid_params = {\n",
    "        'randomforestregressor__n_estimators': n_est,\n",
    "        'standardscaler': [StandardScaler(), None],\n",
    "        'simpleimputer__strategy': ['mean', 'median']\n",
    "}\n",
    "grid_params\n",
    "\n",
    "#Best n_est was 1,000 (10, 100, 500, 1000 searched)\n",
    "#Best imputation strategy median (mean aso tested)\n",
    "#Best scaler was none (StandardScaler also tested)"
   ]
  },
  {
   "cell_type": "code",
   "execution_count": 35,
   "id": "7bc094e8",
   "metadata": {},
   "outputs": [],
   "source": [
    "#Call `GridSearchCV` with random forest pipeline, passing in the above `grid_params`\n",
    "#dict for parameters to evaluate with 5-fold cross-validation\n",
    "rf_grid_cv = GridSearchCV(RF_pipe, param_grid=grid_params, cv=5)"
   ]
  },
  {
   "cell_type": "code",
   "execution_count": 36,
   "id": "71dda4e0",
   "metadata": {},
   "outputs": [
    {
     "data": {
      "text/plain": [
       "GridSearchCV(cv=5,\n",
       "             estimator=Pipeline(steps=[('simpleimputer',\n",
       "                                        SimpleImputer(strategy='median')),\n",
       "                                       ('standardscaler', StandardScaler()),\n",
       "                                       ('randomforestregressor',\n",
       "                                        RandomForestRegressor(random_state=47))]),\n",
       "             param_grid={'randomforestregressor__n_estimators': [10, 100, 500,\n",
       "                                                                 1000],\n",
       "                         'simpleimputer__strategy': ['mean', 'median'],\n",
       "                         'standardscaler': [StandardScaler(), None]})"
      ]
     },
     "execution_count": 36,
     "metadata": {},
     "output_type": "execute_result"
    }
   ],
   "source": [
    "#Conduct grid search.  \n",
    "rf_grid_cv.fit(X_train, y_train)"
   ]
  },
  {
   "cell_type": "code",
   "execution_count": 37,
   "id": "52fb2678",
   "metadata": {},
   "outputs": [
    {
     "data": {
      "text/plain": [
       "{'randomforestregressor__n_estimators': 1000,\n",
       " 'simpleimputer__strategy': 'median',\n",
       " 'standardscaler': None}"
      ]
     },
     "execution_count": 37,
     "metadata": {},
     "output_type": "execute_result"
    }
   ],
   "source": [
    "#Print the best params (`best_params_` attribute) from the grid search\n",
    "rf_grid_cv.best_params_"
   ]
  },
  {
   "cell_type": "markdown",
   "id": "f1d9b2b2",
   "metadata": {},
   "source": [
    "### Best Random Forest Model Performance Metrics"
   ]
  },
  {
   "cell_type": "markdown",
   "id": "d6901c28",
   "metadata": {},
   "source": [
    "#### R-squared (COD)"
   ]
  },
  {
   "cell_type": "code",
   "execution_count": 38,
   "id": "cda23353",
   "metadata": {},
   "outputs": [
    {
     "data": {
      "text/plain": [
       "array([0.18926347, 0.2300981 , 0.2309293 , 0.24102358, 0.21200829])"
      ]
     },
     "execution_count": 38,
     "metadata": {},
     "output_type": "execute_result"
    }
   ],
   "source": [
    "#Cross-validation defaults to R^2 metric for scoring regression\n",
    "rf_best_cv_results = cross_validate(rf_grid_cv.best_estimator_, X_train, y_train, cv=5)\n",
    "rf_best_scores = rf_best_cv_results['test_score']\n",
    "rf_best_scores"
   ]
  },
  {
   "cell_type": "code",
   "execution_count": 39,
   "id": "d0b79ceb",
   "metadata": {},
   "outputs": [
    {
     "data": {
      "text/plain": [
       "(0.22066455028096393, 0.01827460350074567)"
      ]
     },
     "execution_count": 39,
     "metadata": {},
     "output_type": "execute_result"
    }
   ],
   "source": [
    "#Training set CV mean and std\n",
    "np.mean(rf_best_scores), np.std(rf_best_scores)"
   ]
  },
  {
   "cell_type": "markdown",
   "id": "42651b69",
   "metadata": {},
   "source": [
    "#### Mean Absolute Error (MAE)"
   ]
  },
  {
   "cell_type": "code",
   "execution_count": 40,
   "id": "fad110a7",
   "metadata": {},
   "outputs": [],
   "source": [
    "rf_neg_mae = cross_validate(rf_grid_cv.best_estimator_, X_train, y_train, \n",
    "                            scoring='neg_mean_absolute_error', cv=5)"
   ]
  },
  {
   "cell_type": "code",
   "execution_count": 41,
   "id": "a4f2246c",
   "metadata": {},
   "outputs": [
    {
     "data": {
      "text/plain": [
       "(4.626668857670978, 0.06988661366503905)"
      ]
     },
     "execution_count": 41,
     "metadata": {},
     "output_type": "execute_result"
    }
   ],
   "source": [
    "#Training set CV mean and std\n",
    "rf_mae_mean = np.mean(-1 * rf_neg_mae['test_score'])\n",
    "rf_mae_std = np.std(-1 * rf_neg_mae['test_score'])\n",
    "rf_mae_mean, rf_mae_std"
   ]
  },
  {
   "cell_type": "code",
   "execution_count": 42,
   "id": "ca0f8856",
   "metadata": {},
   "outputs": [
    {
     "data": {
      "text/plain": [
       "4.709697893569846"
      ]
     },
     "execution_count": 42,
     "metadata": {},
     "output_type": "execute_result"
    }
   ],
   "source": [
    "# Test set mean\n",
    "mean_absolute_error(y_test, rf_grid_cv.best_estimator_.predict(X_test))"
   ]
  },
  {
   "cell_type": "markdown",
   "id": "32fd6855",
   "metadata": {},
   "source": [
    "#### Mean Squared Error (MSE)"
   ]
  },
  {
   "cell_type": "code",
   "execution_count": 50,
   "id": "b4046ad1",
   "metadata": {},
   "outputs": [],
   "source": [
    "rf_neg_mse = cross_validate(rf_grid_cv.best_estimator_, X_train, y_train, \n",
    "                            scoring='neg_mean_squared_error', cv=5)"
   ]
  },
  {
   "cell_type": "code",
   "execution_count": 51,
   "id": "d7ede1dd",
   "metadata": {},
   "outputs": [
    {
     "data": {
      "text/plain": [
       "(34.38717960003633, 0.968387965997972)"
      ]
     },
     "execution_count": 51,
     "metadata": {},
     "output_type": "execute_result"
    }
   ],
   "source": [
    "#Training set CV mean and std\n",
    "rf_mse_mean = np.mean(-1 * rf_neg_mse['test_score'])\n",
    "rf_mse_std = np.std(-1 * rf_neg_mse['test_score'])\n",
    "rf_mse_mean, rf_mse_std"
   ]
  },
  {
   "cell_type": "code",
   "execution_count": 52,
   "id": "c1b08f72",
   "metadata": {},
   "outputs": [
    {
     "data": {
      "text/plain": [
       "35.0415037255457"
      ]
     },
     "execution_count": 52,
     "metadata": {},
     "output_type": "execute_result"
    }
   ],
   "source": [
    "# Test set mean\n",
    "mean_squared_error(y_test, rf_grid_cv.best_estimator_.predict(X_test))"
   ]
  },
  {
   "cell_type": "markdown",
   "id": "3e2d6e23",
   "metadata": {},
   "source": [
    "#### Root Mean Square Error (RMSE)"
   ]
  },
  {
   "cell_type": "code",
   "execution_count": 53,
   "id": "88da8d23",
   "metadata": {},
   "outputs": [],
   "source": [
    "rf_neg_rmse = cross_validate(rf_grid_cv.best_estimator_, X_train, y_train, \n",
    "                            scoring='neg_root_mean_squared_error', cv=5)"
   ]
  },
  {
   "cell_type": "code",
   "execution_count": 54,
   "id": "3a89c733",
   "metadata": {},
   "outputs": [
    {
     "data": {
      "text/plain": [
       "(5.8634796827750355, 0.0823748124167158)"
      ]
     },
     "execution_count": 54,
     "metadata": {},
     "output_type": "execute_result"
    }
   ],
   "source": [
    "#Training set CV mean and std\n",
    "rf_rmse_mean = np.mean(-1 * rf_neg_rmse['test_score'])\n",
    "rf_rmse_std = np.std(-1 * rf_neg_rmse['test_score'])\n",
    "rf_rmse_mean, rf_rmse_std"
   ]
  },
  {
   "cell_type": "code",
   "execution_count": 55,
   "id": "890b72d9",
   "metadata": {},
   "outputs": [
    {
     "data": {
      "text/plain": [
       "5.919586448861584"
      ]
     },
     "execution_count": 55,
     "metadata": {},
     "output_type": "execute_result"
    }
   ],
   "source": [
    "# Test set mean\n",
    "np.sqrt(mean_squared_error(y_test, rf_grid_cv.best_estimator_.predict(X_test)))"
   ]
  },
  {
   "cell_type": "markdown",
   "id": "66528167",
   "metadata": {},
   "source": [
    "### Best Random Forest Model Feature Performance"
   ]
  },
  {
   "cell_type": "code",
   "execution_count": 56,
   "id": "d849e84d",
   "metadata": {},
   "outputs": [
    {
     "data": {
      "image/png": "[encoded data removed]",
      "text/plain": [
       "<Figure size 1440x720 with 1 Axes>"
      ]
     },
     "metadata": {
      "needs_background": "light"
     },
     "output_type": "display_data"
    }
   ],
   "source": [
    "#Plot a barplot of the random forest's feature importances,\n",
    "#assigning the `feature_importances_` attribute of \n",
    "#`rf_grid_cv.best_estimator_.named_steps.randomforestregressor` to the name `imps` to then\n",
    "#create a pandas Series object of the feature importances, with the index given by the\n",
    "#training data column names, sorting the values in descending order\n",
    "plt.subplots(figsize=(20, 10))\n",
    "imps = rf_grid_cv.best_estimator_.named_steps.randomforestregressor.feature_importances_\n",
    "rf_feat_imps = pd.Series(imps, index=X_train.columns).sort_values(ascending=False)\n",
    "rf_feat_imps.plot(kind='bar')\n",
    "plt.xlabel('features')\n",
    "plt.ylabel('importance')\n",
    "plt.title('Best random forest regressor feature importances');"
   ]
  },
  {
   "cell_type": "markdown",
   "id": "e392ff08",
   "metadata": {},
   "source": [
    "#Random Forest Best Model Performance: 20 match threshold, 2012-2019 in model (with additional 2009-2011 stats accrual runway)\n",
    "#Best hyperparams of n_est =1,000, 'median' imputation, no scaling\n",
    "R2: (0.22066455028096393, 0.01827460350074567)\n",
    "MAE: (4.626668857670978, 0.06988661366503905), 4.709697893569846\n",
    "MSE: (34.38717960003633, 0.968387965997972), 35.0415037255457\n",
    "RMSE: (5.8634796827750355, 0.0823748124167158), 5.919586448861584\n",
    "\n",
    "#This model runs insanely slowly, so summarizing best values here in case output is cleared."
   ]
  },
  {
   "cell_type": "markdown",
   "id": "eb904b45",
   "metadata": {},
   "source": [
    "## Gradient Boosting Regression Model"
   ]
  },
  {
   "cell_type": "markdown",
   "id": "7cc24633",
   "metadata": {},
   "source": [
    "### Gradient Boosting Model: Hyperparameter Grid Search"
   ]
  },
  {
   "cell_type": "code",
   "execution_count": 151,
   "id": "349e8d2a",
   "metadata": {},
   "outputs": [],
   "source": [
    "#Define pipeline \n",
    "GB_pipe = make_pipeline(\n",
    "    SimpleImputer(strategy='mean'),\n",
    "    StandardScaler(),\n",
    "    GradientBoostingRegressor(random_state= 47)\n",
    ")"
   ]
  },
  {
   "cell_type": "code",
   "execution_count": 152,
   "id": "e40356aa",
   "metadata": {},
   "outputs": [
    {
     "data": {
      "text/plain": [
       "dict_keys(['memory', 'steps', 'verbose', 'simpleimputer', 'standardscaler', 'gradientboostingregressor', 'simpleimputer__add_indicator', 'simpleimputer__copy', 'simpleimputer__fill_value', 'simpleimputer__missing_values', 'simpleimputer__strategy', 'simpleimputer__verbose', 'standardscaler__copy', 'standardscaler__with_mean', 'standardscaler__with_std', 'gradientboostingregressor__alpha', 'gradientboostingregressor__ccp_alpha', 'gradientboostingregressor__criterion', 'gradientboostingregressor__init', 'gradientboostingregressor__learning_rate', 'gradientboostingregressor__loss', 'gradientboostingregressor__max_depth', 'gradientboostingregressor__max_features', 'gradientboostingregressor__max_leaf_nodes', 'gradientboostingregressor__min_impurity_decrease', 'gradientboostingregressor__min_impurity_split', 'gradientboostingregressor__min_samples_leaf', 'gradientboostingregressor__min_samples_split', 'gradientboostingregressor__min_weight_fraction_leaf', 'gradientboostingregressor__n_estimators', 'gradientboostingregressor__n_iter_no_change', 'gradientboostingregressor__random_state', 'gradientboostingregressor__subsample', 'gradientboostingregressor__tol', 'gradientboostingregressor__validation_fraction', 'gradientboostingregressor__verbose', 'gradientboostingregressor__warm_start'])"
      ]
     },
     "execution_count": 152,
     "metadata": {},
     "output_type": "execute_result"
    }
   ],
   "source": [
    "GB_pipe.get_params().keys()"
   ]
  },
  {
   "cell_type": "code",
   "execution_count": 153,
   "id": "93e204cd",
   "metadata": {},
   "outputs": [
    {
     "data": {
      "text/plain": [
       "{'gradientboostingregressor__n_estimators': [100],\n",
       " 'standardscaler': [StandardScaler()],\n",
       " 'simpleimputer__strategy': ['median'],\n",
       " 'gradientboostingregressor__learning_rate': [0.04],\n",
       " 'gradientboostingregressor__max_depth': [4],\n",
       " 'gradientboostingregressor__max_features': [9]}"
      ]
     },
     "execution_count": 153,
     "metadata": {},
     "output_type": "execute_result"
    }
   ],
   "source": [
    "#Define Grid Parameters\n",
    "\n",
    "n_est = [100]\n",
    "learning_rate = [.04]\n",
    "max_depth = [4]\n",
    "max_features = [9]\n",
    "\n",
    "\n",
    "grid_params = {\n",
    "        'gradientboostingregressor__n_estimators': n_est,\n",
    "        'standardscaler': [StandardScaler()],\n",
    "        'simpleimputer__strategy': ['median'],\n",
    "        'gradientboostingregressor__learning_rate': learning_rate,\n",
    "        'gradientboostingregressor__max_depth': max_depth,\n",
    "        'gradientboostingregressor__max_features': max_features\n",
    "}\n",
    "grid_params\n",
    "\n",
    "#First Pass [Space Explored] and Best\n",
    "#n_est = [75, 100, 125] 100\n",
    "#learning_rate = [.04, .06, .08] .04\n",
    "#max_depth = [3, 4, 5, 6] 4\n",
    "#max_features = [7, 8, 9, 10] 9\n",
    "#scalers = [StandardScaler(), None] StandardScaler()\n",
    "#imputation = ['mean','median'] 'median'\n",
    "\n",
    "#Second Pass\n",
    "#n_est = [90,100,110] 100\n",
    "#learning_rate = [.03, .04, .05] .04\n",
    "#other hyperparameters set well by first pass range exploration\n",
    "\n",
    "#Two passes sufficient to set hyperparameters for best model "
   ]
  },
  {
   "cell_type": "code",
   "execution_count": 154,
   "id": "7888e0d6",
   "metadata": {},
   "outputs": [],
   "source": [
    "#Call `GridSearchCV` with the gradient boosting pipeline, passing in the above `grid_params`\n",
    "#dict for parameters to evaluate, 5-fold cross-validation\n",
    "gb_grid_cv = GridSearchCV(GB_pipe, param_grid=grid_params, cv=5)"
   ]
  },
  {
   "cell_type": "code",
   "execution_count": 155,
   "id": "525253b5",
   "metadata": {},
   "outputs": [
    {
     "data": {
      "text/plain": [
       "GridSearchCV(cv=5,\n",
       "             estimator=Pipeline(steps=[('simpleimputer', SimpleImputer()),\n",
       "                                       ('standardscaler', StandardScaler()),\n",
       "                                       ('gradientboostingregressor',\n",
       "                                        GradientBoostingRegressor(random_state=47))]),\n",
       "             param_grid={'gradientboostingregressor__learning_rate': [0.04],\n",
       "                         'gradientboostingregressor__max_depth': [4],\n",
       "                         'gradientboostingregressor__max_features': [9],\n",
       "                         'gradientboostingregressor__n_estimators': [100],\n",
       "                         'simpleimputer__strategy': ['median'],\n",
       "                         'standardscaler': [StandardScaler()]})"
      ]
     },
     "execution_count": 155,
     "metadata": {},
     "output_type": "execute_result"
    }
   ],
   "source": [
    "#conduct the grid search. \n",
    "gb_grid_cv.fit(X_train, y_train)"
   ]
  },
  {
   "cell_type": "code",
   "execution_count": 156,
   "id": "81a94ace",
   "metadata": {},
   "outputs": [
    {
     "data": {
      "text/plain": [
       "{'gradientboostingregressor__learning_rate': 0.04,\n",
       " 'gradientboostingregressor__max_depth': 4,\n",
       " 'gradientboostingregressor__max_features': 9,\n",
       " 'gradientboostingregressor__n_estimators': 100,\n",
       " 'simpleimputer__strategy': 'median',\n",
       " 'standardscaler': StandardScaler()}"
      ]
     },
     "execution_count": 156,
     "metadata": {},
     "output_type": "execute_result"
    }
   ],
   "source": [
    "#Best params (`best_params_` attribute) from the grid search\n",
    "gb_grid_cv.best_params_"
   ]
  },
  {
   "cell_type": "markdown",
   "id": "8159e6c4",
   "metadata": {},
   "source": [
    "### Best Gradient Boosting Model Performance Metrics"
   ]
  },
  {
   "cell_type": "markdown",
   "id": "8e790483",
   "metadata": {},
   "source": [
    "#### R-squared (COD)"
   ]
  },
  {
   "cell_type": "code",
   "execution_count": 157,
   "id": "6a228ec2",
   "metadata": {},
   "outputs": [
    {
     "data": {
      "text/plain": [
       "array([0.20044807, 0.24790626, 0.23715259, 0.23748607, 0.21713935])"
      ]
     },
     "execution_count": 157,
     "metadata": {},
     "output_type": "execute_result"
    }
   ],
   "source": [
    "#Cross-validation defaults to R^2 metric for scoring regression\n",
    "gb_best_cv_results = cross_validate(gb_grid_cv.best_estimator_, X_train, y_train, cv=5)\n",
    "gb_best_scores = gb_best_cv_results['test_score']\n",
    "gb_best_scores"
   ]
  },
  {
   "cell_type": "code",
   "execution_count": 158,
   "id": "3f0c7015",
   "metadata": {},
   "outputs": [
    {
     "data": {
      "text/plain": [
       "(0.22802646725487702, 0.017012190527119372)"
      ]
     },
     "execution_count": 158,
     "metadata": {},
     "output_type": "execute_result"
    }
   ],
   "source": [
    "#Training set CV mean and std\n",
    "np.mean(gb_best_scores), np.std(gb_best_scores)"
   ]
  },
  {
   "cell_type": "markdown",
   "id": "db683436",
   "metadata": {},
   "source": [
    "#### Mean Absolute Error (MAE)"
   ]
  },
  {
   "cell_type": "code",
   "execution_count": 159,
   "id": "e0b7aa02",
   "metadata": {},
   "outputs": [],
   "source": [
    "gb_neg_mae = cross_validate(gb_grid_cv.best_estimator_, X_train, y_train, \n",
    "                            scoring='neg_mean_absolute_error', cv=5, n_jobs=-1)"
   ]
  },
  {
   "cell_type": "code",
   "execution_count": 160,
   "id": "708abcf1",
   "metadata": {},
   "outputs": [
    {
     "data": {
      "text/plain": [
       "(4.6082734722435506, 0.07826444698977988)"
      ]
     },
     "execution_count": 160,
     "metadata": {},
     "output_type": "execute_result"
    }
   ],
   "source": [
    "#Training set CV mean and std\n",
    "gb_mae_mean = np.mean(-1 * gb_neg_mae['test_score'])\n",
    "gb_mae_std = np.std(-1 * gb_neg_mae['test_score'])\n",
    "gb_mae_mean, gb_mae_std"
   ]
  },
  {
   "cell_type": "code",
   "execution_count": 161,
   "id": "4fd4c6af",
   "metadata": {},
   "outputs": [
    {
     "data": {
      "text/plain": [
       "4.650649760517992"
      ]
     },
     "execution_count": 161,
     "metadata": {},
     "output_type": "execute_result"
    }
   ],
   "source": [
    "# Test set mean\n",
    "mean_absolute_error(y_test, gb_grid_cv.best_estimator_.predict(X_test))"
   ]
  },
  {
   "cell_type": "markdown",
   "id": "1064d6ba",
   "metadata": {},
   "source": [
    "#### Mean Squared Error (MSE)"
   ]
  },
  {
   "cell_type": "code",
   "execution_count": 162,
   "id": "dff61d46",
   "metadata": {},
   "outputs": [],
   "source": [
    "gb_neg_mse = cross_validate(gb_grid_cv.best_estimator_, X_train, y_train, \n",
    "                            scoring='neg_mean_squared_error', cv=5)"
   ]
  },
  {
   "cell_type": "code",
   "execution_count": 163,
   "id": "8f2661be",
   "metadata": {},
   "outputs": [
    {
     "data": {
      "text/plain": [
       "(34.06562809590339, 1.0365049329607297)"
      ]
     },
     "execution_count": 163,
     "metadata": {},
     "output_type": "execute_result"
    }
   ],
   "source": [
    "#Training set CV mean and std\n",
    "gb_mse_mean = np.mean(-1 * gb_neg_mse['test_score'])\n",
    "gb_mse_std = np.std(-1 * gb_neg_mse['test_score'])\n",
    "gb_mse_mean, gb_mse_std"
   ]
  },
  {
   "cell_type": "code",
   "execution_count": 164,
   "id": "9b0d5657",
   "metadata": {},
   "outputs": [
    {
     "data": {
      "text/plain": [
       "34.47199483651195"
      ]
     },
     "execution_count": 164,
     "metadata": {},
     "output_type": "execute_result"
    }
   ],
   "source": [
    "# Test set mean\n",
    "mean_squared_error(y_test, gb_grid_cv.best_estimator_.predict(X_test))"
   ]
  },
  {
   "cell_type": "markdown",
   "id": "f3f6c4d8",
   "metadata": {},
   "source": [
    "#### Root Mean Square Error (RMSE)"
   ]
  },
  {
   "cell_type": "code",
   "execution_count": 165,
   "id": "038e4518",
   "metadata": {},
   "outputs": [],
   "source": [
    "gb_neg_rmse = cross_validate(gb_grid_cv.best_estimator_, X_train, y_train, \n",
    "                            scoring='neg_root_mean_squared_error', cv=5)"
   ]
  },
  {
   "cell_type": "code",
   "execution_count": 166,
   "id": "1ceb9d21",
   "metadata": {},
   "outputs": [
    {
     "data": {
      "text/plain": [
       "(5.835905096159198, 0.08854267065367404)"
      ]
     },
     "execution_count": 166,
     "metadata": {},
     "output_type": "execute_result"
    }
   ],
   "source": [
    "#Training set CV mean and std\n",
    "gb_rmse_mean = np.mean(-1 * gb_neg_rmse['test_score'])\n",
    "gb_rmse_std = np.std(-1 * gb_neg_rmse['test_score'])\n",
    "gb_rmse_mean, gb_rmse_std"
   ]
  },
  {
   "cell_type": "code",
   "execution_count": 167,
   "id": "8f7b73e0",
   "metadata": {},
   "outputs": [
    {
     "data": {
      "text/plain": [
       "5.871285620416703"
      ]
     },
     "execution_count": 167,
     "metadata": {},
     "output_type": "execute_result"
    }
   ],
   "source": [
    "# Test set mean\n",
    "np.sqrt(mean_squared_error(y_test, gb_grid_cv.best_estimator_.predict(X_test)))"
   ]
  },
  {
   "cell_type": "markdown",
   "id": "5f5145d7",
   "metadata": {},
   "source": [
    "### Best Gradient Boosting Model Feature Performance"
   ]
  },
  {
   "cell_type": "code",
   "execution_count": 168,
   "id": "3052c038",
   "metadata": {},
   "outputs": [
    {
     "data": {
      "image/png": "[encoded data removed]",
      "text/plain": [
       "<Figure size 1440x720 with 1 Axes>"
      ]
     },
     "metadata": {
      "needs_background": "light"
     },
     "output_type": "display_data"
    }
   ],
   "source": [
    "#Plot a barplot of the gradient boosting model's feature importances,\n",
    "#assigning the `feature_importances_` attribute of \n",
    "#`gb_grid_cv.best_estimator_.named_steps.gradientboostingregressor` to the name `imps` to then\n",
    "#create a pandas Series object of the feature importances, with the index given by the\n",
    "#training data column names, sorting the values in descending order\n",
    "plt.subplots(figsize=(20, 10))\n",
    "imps = gb_grid_cv.best_estimator_.named_steps.gradientboostingregressor.feature_importances_\n",
    "rf_feat_imps = pd.Series(imps, index=X_train.columns).sort_values(ascending=False)\n",
    "rf_feat_imps.plot(kind='bar')\n",
    "plt.xlabel('features')\n",
    "plt.ylabel('importance')\n",
    "plt.title('Best gradient boosting regressor feature importances');"
   ]
  },
  {
   "cell_type": "markdown",
   "id": "3fd76763",
   "metadata": {},
   "source": [
    "### Data Quality Assessment"
   ]
  },
  {
   "cell_type": "markdown",
   "id": "fdb42906",
   "metadata": {},
   "source": [
    "Because Gradient Boosting Regressor turned out to be the best of the four models tested (in terms of cross-validation RMSE) for clay courts, a Data Quality Assessment was run on this model to ensure that results are not hindered by sample size. Much more analysis of data size and year range of inclusion is conducted in the final reporting (see Reporting folder)"
   ]
  },
  {
   "cell_type": "code",
   "execution_count": 169,
   "id": "87eb2ff9",
   "metadata": {},
   "outputs": [],
   "source": [
    "fractions = [.2, .25, .3, .35, .4, .45, .5, .6, .75, .8, .9, 1.0]\n",
    "train_size, train_scores, test_scores = learning_curve(GB_pipe, X_train, y_train, train_sizes=fractions)\n",
    "train_scores_mean = np.mean(train_scores, axis=1)\n",
    "train_scores_std = np.std(train_scores, axis=1)\n",
    "test_scores_mean = np.mean(test_scores, axis=1)\n",
    "test_scores_std = np.std(test_scores, axis=1)"
   ]
  },
  {
   "cell_type": "code",
   "execution_count": 170,
   "id": "8fc8f30f",
   "metadata": {},
   "outputs": [
    {
     "data": {
      "image/png": "[encoded data removed]",
      "text/plain": [
       "<Figure size 720x360 with 1 Axes>"
      ]
     },
     "metadata": {
      "needs_background": "light"
     },
     "output_type": "display_data"
    }
   ],
   "source": [
    "plt.subplots(figsize=(10, 5))\n",
    "plt.errorbar(train_size, test_scores_mean, yerr=test_scores_std)\n",
    "plt.xlabel('Training set size')\n",
    "plt.ylabel('CV scores')\n",
    "plt.title('Cross-validation score as training set size increases');"
   ]
  },
  {
   "cell_type": "markdown",
   "id": "4d5e3ecc",
   "metadata": {},
   "source": [
    "## HistGradientBoosting Model"
   ]
  },
  {
   "cell_type": "markdown",
   "id": "89c84356",
   "metadata": {},
   "source": [
    "### Pipeline Creation"
   ]
  },
  {
   "cell_type": "code",
   "execution_count": 105,
   "id": "4343e443",
   "metadata": {},
   "outputs": [],
   "source": [
    "#Define pipeline\n",
    "HGB_pipe = make_pipeline(\n",
    "    SimpleImputer(strategy='mean'),\n",
    "    StandardScaler(),\n",
    "    HistGradientBoostingRegressor(random_state= 47)\n",
    ")"
   ]
  },
  {
   "cell_type": "code",
   "execution_count": 106,
   "id": "b55be03d",
   "metadata": {},
   "outputs": [
    {
     "data": {
      "text/plain": [
       "dict_keys(['memory', 'steps', 'verbose', 'simpleimputer', 'standardscaler', 'histgradientboostingregressor', 'simpleimputer__add_indicator', 'simpleimputer__copy', 'simpleimputer__fill_value', 'simpleimputer__missing_values', 'simpleimputer__strategy', 'simpleimputer__verbose', 'standardscaler__copy', 'standardscaler__with_mean', 'standardscaler__with_std', 'histgradientboostingregressor__categorical_features', 'histgradientboostingregressor__early_stopping', 'histgradientboostingregressor__l2_regularization', 'histgradientboostingregressor__learning_rate', 'histgradientboostingregressor__loss', 'histgradientboostingregressor__max_bins', 'histgradientboostingregressor__max_depth', 'histgradientboostingregressor__max_iter', 'histgradientboostingregressor__max_leaf_nodes', 'histgradientboostingregressor__min_samples_leaf', 'histgradientboostingregressor__monotonic_cst', 'histgradientboostingregressor__n_iter_no_change', 'histgradientboostingregressor__random_state', 'histgradientboostingregressor__scoring', 'histgradientboostingregressor__tol', 'histgradientboostingregressor__validation_fraction', 'histgradientboostingregressor__verbose', 'histgradientboostingregressor__warm_start'])"
      ]
     },
     "execution_count": 106,
     "metadata": {},
     "output_type": "execute_result"
    }
   ],
   "source": [
    "HGB_pipe.get_params().keys()"
   ]
  },
  {
   "cell_type": "markdown",
   "id": "c4ac4398",
   "metadata": {},
   "source": [
    "### Hyperparameter  Grid Search and Model Fit Using Best Parameters from Grid Search"
   ]
  },
  {
   "cell_type": "code",
   "execution_count": 107,
   "id": "032859f2",
   "metadata": {},
   "outputs": [
    {
     "data": {
      "text/plain": [
       "{'standardscaler': [StandardScaler(), None],\n",
       " 'simpleimputer__strategy': ['mean', 'median'],\n",
       " 'histgradientboostingregressor__learning_rate': [0.03, 0.04, 0.05],\n",
       " 'histgradientboostingregressor__max_iter': [100, 110, 120],\n",
       " 'histgradientboostingregressor__max_depth': [3, 4, 5, 6]}"
      ]
     },
     "execution_count": 107,
     "metadata": {},
     "output_type": "execute_result"
    }
   ],
   "source": [
    "#Define grid search parameters\n",
    "\n",
    "learning_rate = [.04]\n",
    "max_iterations = [110]\n",
    "max_depth = [3]\n",
    "\n",
    "grid_params = {\n",
    "        'standardscaler': [StandardScaler()],\n",
    "        'simpleimputer__strategy': ['mean'],\n",
    "        'histgradientboostingregressor__learning_rate': learning_rate,\n",
    "        'histgradientboostingregressor__max_iter': max_iterations,\n",
    "        'histgradientboostingregressor__max_depth': max_depth\n",
    "}\n",
    "grid_params\n",
    "\n",
    "# First Pass [Explored] Best (NOTE: larger range had already been explored for slightly less inclusive data set, so this was already a reasonable range guess per hyperparameter)\n",
    "#learning_rate = [.03, .04, .05] .04\n",
    "#max_iterations = [100, 110, 120] 110\n",
    "#max_depth = [3, 4, 5, 6] 3\n",
    "#scaler = [StandardScaler(), None] StandardScaler()\n",
    "#imputation = ['mean','median'] mean\n",
    "#this pass, coupled with previous explorations was sufficient to nail down best hyperparameters."
   ]
  },
  {
   "cell_type": "code",
   "execution_count": 108,
   "id": "308e86e1",
   "metadata": {},
   "outputs": [],
   "source": [
    "#Call `GridSearchCV` with the hist gradient boosting pipeline, passing in the above `grid_params`\n",
    "#dict for parameters to evaluate, 5-fold cross-validation.\n",
    "hgb_grid_cv = GridSearchCV(HGB_pipe, param_grid=grid_params, cv=5)"
   ]
  },
  {
   "cell_type": "code",
   "execution_count": 109,
   "id": "403f1f8a",
   "metadata": {},
   "outputs": [
    {
     "data": {
      "text/plain": [
       "GridSearchCV(cv=5,\n",
       "             estimator=Pipeline(steps=[('simpleimputer', SimpleImputer()),\n",
       "                                       ('standardscaler', StandardScaler()),\n",
       "                                       ('histgradientboostingregressor',\n",
       "                                        HistGradientBoostingRegressor(random_state=47))]),\n",
       "             param_grid={'histgradientboostingregressor__learning_rate': [0.03,\n",
       "                                                                          0.04,\n",
       "                                                                          0.05],\n",
       "                         'histgradientboostingregressor__max_depth': [3, 4, 5,\n",
       "                                                                      6],\n",
       "                         'histgradientboostingregressor__max_iter': [100, 110,\n",
       "                                                                     120],\n",
       "                         'simpleimputer__strategy': ['mean', 'median'],\n",
       "                         'standardscaler': [StandardScaler(), None]})"
      ]
     },
     "execution_count": 109,
     "metadata": {},
     "output_type": "execute_result"
    }
   ],
   "source": [
    "#`GridSearchCV`'s `fit()` method with `X_train` and `y_train` as arguments\n",
    "#to actually start the grid search. \n",
    "hgb_grid_cv.fit(X_train, y_train)"
   ]
  },
  {
   "cell_type": "code",
   "execution_count": 110,
   "id": "6b803963",
   "metadata": {},
   "outputs": [
    {
     "data": {
      "text/plain": [
       "{'histgradientboostingregressor__learning_rate': 0.04,\n",
       " 'histgradientboostingregressor__max_depth': 3,\n",
       " 'histgradientboostingregressor__max_iter': 110,\n",
       " 'simpleimputer__strategy': 'mean',\n",
       " 'standardscaler': StandardScaler()}"
      ]
     },
     "execution_count": 110,
     "metadata": {},
     "output_type": "execute_result"
    }
   ],
   "source": [
    "#Best params (`best_params_` attribute) from the grid search    check Mon morning\n",
    "hgb_grid_cv.best_params_"
   ]
  },
  {
   "cell_type": "markdown",
   "id": "962d7789",
   "metadata": {},
   "source": [
    "### Model Cross-Validation and Fit Metrics"
   ]
  },
  {
   "cell_type": "markdown",
   "id": "d840bb5f",
   "metadata": {},
   "source": [
    "#### R-Squared (Training Cross Validation, then Testing)"
   ]
  },
  {
   "cell_type": "code",
   "execution_count": 111,
   "id": "17b0bf21",
   "metadata": {},
   "outputs": [
    {
     "data": {
      "text/plain": [
       "array([0.19630556, 0.2493503 , 0.23122618, 0.23837956, 0.22087923])"
      ]
     },
     "execution_count": 111,
     "metadata": {},
     "output_type": "execute_result"
    }
   ],
   "source": [
    "#Cross-validation defaults to R^2 metric for scoring regression\n",
    "hgb_best_cv_results = cross_validate(hgb_grid_cv.best_estimator_, X_train, y_train, cv=5)\n",
    "hgb_best_scores = hgb_best_cv_results['test_score']\n",
    "hgb_best_scores"
   ]
  },
  {
   "cell_type": "code",
   "execution_count": 112,
   "id": "e381f22b",
   "metadata": {},
   "outputs": [
    {
     "data": {
      "text/plain": [
       "(0.22722816626397185, 0.018034649491736297)"
      ]
     },
     "execution_count": 112,
     "metadata": {},
     "output_type": "execute_result"
    }
   ],
   "source": [
    "#Training set CV mean and std\n",
    "np.mean(hgb_best_scores), np.std(hgb_best_scores)"
   ]
  },
  {
   "cell_type": "markdown",
   "id": "c878ded0",
   "metadata": {},
   "source": [
    "#### Mean Absolute Error (MAE)"
   ]
  },
  {
   "cell_type": "code",
   "execution_count": 113,
   "id": "e105655e",
   "metadata": {},
   "outputs": [],
   "source": [
    "hgb_neg_mae = cross_validate(hgb_grid_cv.best_estimator_, X_train, y_train, \n",
    "                            scoring='neg_mean_absolute_error', cv=5, n_jobs=-1)"
   ]
  },
  {
   "cell_type": "code",
   "execution_count": 114,
   "id": "6c4a8394",
   "metadata": {},
   "outputs": [
    {
     "data": {
      "text/plain": [
       "(4.612867849880609, 0.08595259337338358)"
      ]
     },
     "execution_count": 114,
     "metadata": {},
     "output_type": "execute_result"
    }
   ],
   "source": [
    "#Training set CV mean and std\n",
    "hgb_mae_mean = np.mean(-1 * hgb_neg_mae['test_score'])\n",
    "hgb_mae_std = np.std(-1 * hgb_neg_mae['test_score'])\n",
    "hgb_mae_mean, hgb_mae_std"
   ]
  },
  {
   "cell_type": "code",
   "execution_count": 115,
   "id": "7ffb6dc0",
   "metadata": {},
   "outputs": [
    {
     "data": {
      "text/plain": [
       "4.664049076801197"
      ]
     },
     "execution_count": 115,
     "metadata": {},
     "output_type": "execute_result"
    }
   ],
   "source": [
    "# Test set mean\n",
    "mean_absolute_error(y_test, hgb_grid_cv.best_estimator_.predict(X_test))"
   ]
  },
  {
   "cell_type": "markdown",
   "id": "1a49de65",
   "metadata": {},
   "source": [
    "#### Mean Squared Error (MSE)"
   ]
  },
  {
   "cell_type": "code",
   "execution_count": 116,
   "id": "2a47bccc",
   "metadata": {},
   "outputs": [],
   "source": [
    "hgb_neg_mse = cross_validate(hgb_grid_cv.best_estimator_, X_train, y_train, \n",
    "                            scoring='neg_mean_squared_error', cv= 5)"
   ]
  },
  {
   "cell_type": "code",
   "execution_count": 117,
   "id": "981e2931",
   "metadata": {},
   "outputs": [
    {
     "data": {
      "text/plain": [
       "(34.10129970976993, 1.0832903845204005)"
      ]
     },
     "execution_count": 117,
     "metadata": {},
     "output_type": "execute_result"
    }
   ],
   "source": [
    "#Training set CV mean and std\n",
    "hgb_mse_mean = np.mean(-1 * hgb_neg_mse['test_score'])\n",
    "hgb_mse_std = np.std(-1 * hgb_neg_mse['test_score'])\n",
    "hgb_mse_mean, hgb_mse_std"
   ]
  },
  {
   "cell_type": "code",
   "execution_count": 118,
   "id": "55f54f02",
   "metadata": {},
   "outputs": [
    {
     "data": {
      "text/plain": [
       "34.59210935165296"
      ]
     },
     "execution_count": 118,
     "metadata": {},
     "output_type": "execute_result"
    }
   ],
   "source": [
    "# Test set mean\n",
    "mean_squared_error(y_test, hgb_grid_cv.best_estimator_.predict(X_test))"
   ]
  },
  {
   "cell_type": "markdown",
   "id": "b35386dd",
   "metadata": {},
   "source": [
    "#### Root Mean Squred Error (RMSE)"
   ]
  },
  {
   "cell_type": "code",
   "execution_count": 119,
   "id": "44eb6c47",
   "metadata": {},
   "outputs": [],
   "source": [
    "hgb_neg_rmse = cross_validate(hgb_grid_cv.best_estimator_, X_train, y_train, \n",
    "                            scoring='neg_root_mean_squared_error', cv=5)"
   ]
  },
  {
   "cell_type": "code",
   "execution_count": 120,
   "id": "a1c88bf4",
   "metadata": {
    "scrolled": true
   },
   "outputs": [
    {
     "data": {
      "text/plain": [
       "(5.838898734183284, 0.09252719450394808)"
      ]
     },
     "execution_count": 120,
     "metadata": {},
     "output_type": "execute_result"
    }
   ],
   "source": [
    "#Training set CV mean and std\n",
    "hgb_rmse_mean = np.mean(-1 * hgb_neg_rmse['test_score'])\n",
    "hgb_rmse_std = np.std(-1 * hgb_neg_rmse['test_score'])\n",
    "hgb_rmse_mean, hgb_rmse_std"
   ]
  },
  {
   "cell_type": "code",
   "execution_count": 121,
   "id": "8269eb7e",
   "metadata": {},
   "outputs": [
    {
     "data": {
      "text/plain": [
       "5.881505704464883"
      ]
     },
     "execution_count": 121,
     "metadata": {},
     "output_type": "execute_result"
    }
   ],
   "source": [
    "# Test set mean\n",
    "np.sqrt(mean_squared_error(y_test, hgb_grid_cv.best_estimator_.predict(X_test)))"
   ]
  },
  {
   "cell_type": "markdown",
   "id": "0ba3113a",
   "metadata": {},
   "source": [
    "## Save Best Model Object From Pipeline (Gradient Boosting Regressor)"
   ]
  },
  {
   "cell_type": "markdown",
   "id": "df6ae52b",
   "metadata": {},
   "source": [
    "The Gradient Boosting Regressor turned out to be the best of the four models tested (based on cross-validation RMSE). Below, the best model is saved to be run on the full clay court dataset in a final step (06_Modeling_ClaySurface_FullDataSet). "
   ]
  },
  {
   "cell_type": "code",
   "execution_count": 171,
   "id": "b38a56bd",
   "metadata": {},
   "outputs": [],
   "source": [
    "best_model = gb_grid_cv.best_estimator_\n",
    "best_model.version = '1.0'\n",
    "best_model.pandas_version = pd.__version__\n",
    "best_model.numpy_version = np.__version__\n",
    "best_model.sklearn_version = sklearn_version\n",
    "best_model.X_columns = [col for col in X_train.columns]\n",
    "best_model.build_datetime = datetime.datetime.now()"
   ]
  },
  {
   "cell_type": "code",
   "execution_count": 172,
   "id": "6dccb2ba",
   "metadata": {},
   "outputs": [
    {
     "name": "stdout",
     "output_type": "stream",
     "text": [
      "Writing file.  \"../models\\tennis_CC_model.pkl\"\n"
     ]
    }
   ],
   "source": [
    "# save the model\n",
    "modelpath = '../models'\n",
    "save_file(best_model, 'tennis_CC_model.pkl', modelpath)"
   ]
  },
  {
   "cell_type": "markdown",
   "id": "4d0868df",
   "metadata": {},
   "source": [
    "## Conclusions\n",
    "* Four different regression models (Linear, Random Forest, Gradient Boosting, and Histogram Gradient Boosting) were applied to the clay court data set from 2012-2019 (2009-2011 also used for feature accrual \"runway\", but not included in modeling stage) \n",
    "    * Model hyperparameters were optimized with an extensive grid search for each of the models\n",
    "* The target feature was % total points won by a given player in a given hard court match. A high-pass inclusion threshold of 20 prior matches per player in a given match being predicted on was set. \n",
    "    * Higher thresholds resulted in slightly better prediction up to a certain point where data become too scarce, although setting too high a threshold will necessarily result in a model that is tuned to matches between players who have both played a large number of matches previous to the match being predicted on. \n",
    "    * Substantially lower previous matches played thresholds, in contrast, negatively affect prediction quality despite increased data availabilty, since prediction is based on the accrual of stats/features from prior matches over the intermediate-to-long-term (see previous notebooks for detailed discussion)  \n",
    "* The best model (Gradient Boosting Regressor) making use of the full set of raw (matchup-independent) and differential (player relative to the other player in the match being predicted on) predictive features, substantially outperformed both a dummy model (prediction based on training set mean) and a multivariate linear model based only on ATP rankings data.\n",
    "* The best full model resulted in RMSE(STD): 5.84% (.09%) for training set cross validation and 5.87% for the test set.\n",
    "    * Dummy Model: 6.65% Train; 6.54% Test\n",
    "    * Linear model using ATP rankings on the two players in a given match: 6.56% (.07%) Train; 6.42% Test\n",
    "* The full model yields a percentigized improvement on the dummy model of 12.2% and on the rankings-based model of 9.03%, in terms of mean error (RMSE) in training set cross-validation.\n",
    "    * The improvement over the rankings-based model is meaningful because rankings are what the ATP primarily uses to determine tournament entry and seeding\n",
    "    * Rankings themselves, among other variables, are not explicitly sensitive to surface-specificity, matchup-specificity, player fitness or fatigue, or strength of schedule faced by players as they accrued their current ranking. Furthermore, rankings are also not sensitive to the optimal integration window for tracking past player performance with regard to prediction of future performance, nor to the relative importance of recent performance relative to not-so-recent performance.  Because my model is sensitive to, and calibrated for, all of these considerations it achieves substantially better performance in terms of prediction of (immediate) future performance than ranking alone\n",
    "* Prediction quality on hard courts (see notebook (05_Modeling_HardSurface) is superior to that on clay courts. One potential reason for this is that the match sample is 3-4x smaller for clay court as compared to hard court. \n",
    "    * However, reducing randomly the sample of hard court matches to be equivalent to the clay court sample size only had a very small negative effect on hard court prediction quality (RMSE of 5.41% vs 5.40% with full sample size). Please see the Reporting folder for notebook, project report and Power Point documenting this important contextual finding. \n",
    "    * Nonetheless, because of the sample size disparity, the clay court modeling stage included three additional years (2012-2014) relative to the hard court. As with the hard court sample, the clay court sample included 3 years of \"runway\" data for stats-based feature accrual at the front end. For clay court tennis, this period was 2009-2011, which is shifted by 3 years relative to hard court tennis (2012-2015). This expanded data set indeed decreased the RMSE standard error relative to using only the same time range as the hard court model, but INCREASED the RMSE itself. Likely this reflects a tradeoff between sample size and RELEVANT data. One interpretaton of the year range findings is that the game changes at a fairly rapid pace, and presumably the same is true of the functions underlying the modeling of the game. \n",
    "        * Please see the Reporting for much more analysis on this subject\n",
    "    * A clear reason clay court tennis may be harder to predict than hard court tennis is that the serve is not nearly as dominant on the clay court as it is on the hard court. Less serve dominance = longer points = less predictability. This effect may be somewhat compounded by the relatively high % of hard court matches being played under \"ideal\" conditions indoors.\n",
    "    * It's also entirely possible that to some degree this model captures the underlying functions for hard court tennis better than it does those for clay court tennis. Future efforts are warranted in playing with things like time-decay for performance and fatigue carefully just for clay court matches to see if this closes the prediction gap. \n",
    "* There are numerous areas in which this model could potentially be improved. Much of this comes down to lacking data on the \"microenvironment\" in which individual matches were played. \n",
    "    * Data on temperature, wind, direct measures of court speed and ball bounce would surely go a long way, either as independent inputs to a powerful modeling algorithm such as that employed presently and/or as measures with which to directly modulate other input features on a trial and error basis vis a vis error prediction\n",
    "    * In a similar vein, I lack information on player injury status that may have been available prior to a given match being predicted on. Matches with early retirements are not included in the modeling sample, but many players play through injuries albeit in a vastly compromised state\n",
    "* An additional logical next step would be to obtain the most efficient historical market information on matches in the sample (ie, closing wagering lines) and add these to the model as an independent predictor of the target feature. \n",
    "    * If adding these lines substantially reduces prediction error, it strongly implies that my model does not capture certain key variables that would have been available prior to a given match being played. Conversely, if my model improves upon the prediction power of the closing lines it implies that the \"wisdom of the crowd\" is not capturing certain key features that my model does. Of course, it's certainly possible (and almost certainly true to some extent) that the market incorporates \"insider information\" (eg, on occult injuries) that is not PUBLICALLY available prior to a given match occuring."
   ]
  },
  {
   "cell_type": "code",
   "execution_count": null,
   "id": "6a0b1471",
   "metadata": {},
   "outputs": [],
   "source": []
  }
 ],
 "metadata": {
  "kernelspec": {
   "display_name": "Python 3",
   "language": "python",
   "name": "python3"
  },
  "language_info": {
   "codemirror_mode": {
    "name": "ipython",
    "version": 3
   },
   "file_extension": ".py",
   "mimetype": "text/x-python",
   "name": "python",
   "nbconvert_exporter": "python",
   "pygments_lexer": "ipython3",
   "version": "3.8.8"
  }
 },
 "nbformat": 4,
 "nbformat_minor": 5
}
