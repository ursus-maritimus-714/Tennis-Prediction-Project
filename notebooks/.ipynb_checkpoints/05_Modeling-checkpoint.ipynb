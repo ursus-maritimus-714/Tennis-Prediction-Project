{
 "cells": [
  {
   "cell_type": "markdown",
   "id": "60a758d7",
   "metadata": {},
   "source": [
    "### Introduction to Modeling Stage"
   ]
  },
  {
   "cell_type": "markdown",
   "id": "bd3af1fc",
   "metadata": {},
   "source": [
    "In the previous stage (see notebook 4), we built a few simple, data-sparse, linear regression models (with hyperparameters, including optimal k features, determined through systematic grid search) as baseline benchmarks for the more complex, data rich models to be built here. \n",
    "* Filters for inclusion were 2015-2019 years (2012-2015 were included for retrospective stats/features accrual), and then all matches where BOTH players had previously played >=25 matches (across hard and clay surfaces) since the beginning of 2012. \n",
    "* Previous to feature development, matches with fewer than 12 total games played had already been removed from the sample, as had grass court and Davis Cup matches. \n",
    "\n",
    "Summary of Benchmark Models Created in Previous Stage:\n",
    "* \"Dummy\" model, where % points won by a given player in a given match is predicted simply by the mean % points won by players in the training split (70% of qualifying data), yielded a mean error (RMSE) of 6.38% on training and 6.21% on testing (30% of qualifying data) data splits respectively.\n",
    "* A linear model using only ATP ranking data (both raw and match-opponents differential for ranking and rankings points) yielded mean prediction error of 5.88% (std .05%) and 5.74% on training and test data, respectively.  \n",
    "    * Unsurprisingly, differential ranking features dominated ranking-based model importance relative to raw (non-contextual) ranking features\n",
    "  \n",
    "With these benchmarks in place, we will now evaluate the full feature set, both \"raw\" per player-per match features and per player-per match features in \"differential\" form (relative to the opponent in the match being predicted on) with decision tree-based ensemble modeling (after first generating a simple linear model with the full feature set), to see if we can improve on things. Very likely in the process, model evaluation will drive us back to additional feature development and tuning."
   ]
  },
  {
   "cell_type": "markdown",
   "id": "6e17556d",
   "metadata": {},
   "source": [
    "### Imports"
   ]
  },
  {
   "cell_type": "code",
   "execution_count": 266,
   "id": "dbf909df",
   "metadata": {},
   "outputs": [],
   "source": [
    "import pandas as pd\n",
    "import numpy as np\n",
    "import os\n",
    "import pickle\n",
    "import matplotlib.pyplot as plt\n",
    "import seaborn as sns\n",
    "from sklearn import __version__ as sklearn_version\n",
    "#from sklearn.decomposition import PCA\n",
    "from sklearn.preprocessing import scale\n",
    "from sklearn.model_selection import train_test_split, cross_validate, GridSearchCV, learning_curve\n",
    "from sklearn.preprocessing import StandardScaler, MinMaxScaler\n",
    "from sklearn.dummy import DummyRegressor\n",
    "from sklearn.linear_model import LinearRegression\n",
    "from sklearn.ensemble import RandomForestRegressor\n",
    "from sklearn.ensemble import GradientBoostingRegressor\n",
    "from sklearn.experimental import enable_hist_gradient_boosting\n",
    "from sklearn.ensemble import HistGradientBoostingRegressor\n",
    "from sklearn.metrics import r2_score, mean_squared_error, mean_absolute_error\n",
    "from sklearn.pipeline import make_pipeline\n",
    "from sklearn.impute import SimpleImputer\n",
    "from sklearn.feature_selection import SelectKBest, f_regression\n",
    "import datetime\n",
    "from library.sb_utils import save_file"
   ]
  },
  {
   "cell_type": "markdown",
   "id": "060bf99c",
   "metadata": {},
   "source": [
    "### Load Data"
   ]
  },
  {
   "cell_type": "code",
   "execution_count": 267,
   "id": "53f93228",
   "metadata": {},
   "outputs": [
    {
     "data": {
      "text/html": [
       "<div>\n",
       "<style scoped>\n",
       "    .dataframe tbody tr th:only-of-type {\n",
       "        vertical-align: middle;\n",
       "    }\n",
       "\n",
       "    .dataframe tbody tr th {\n",
       "        vertical-align: top;\n",
       "    }\n",
       "\n",
       "    .dataframe thead th {\n",
       "        text-align: right;\n",
       "    }\n",
       "</style>\n",
       "<table border=\"1\" class=\"dataframe\">\n",
       "  <thead>\n",
       "    <tr style=\"text-align: right;\">\n",
       "      <th></th>\n",
       "      <th>p_pts_won%</th>\n",
       "      <th>p_sv_pts_won%</th>\n",
       "      <th>p_ret_pts_won%</th>\n",
       "      <th>p_ace%</th>\n",
       "      <th>p_aced%</th>\n",
       "      <th>p_bp_save%</th>\n",
       "      <th>p_bp_convert%</th>\n",
       "      <th>t_id</th>\n",
       "      <th>t_date</th>\n",
       "      <th>tour_wk</th>\n",
       "      <th>...</th>\n",
       "      <th>p_SOS_adj_bp_save%_opp_bp_convert%_l10_diff</th>\n",
       "      <th>p_tot_time_l6_diff</th>\n",
       "      <th>p_tot_time_l6_decay_diff</th>\n",
       "      <th>p_tot_pts_l6_diff</th>\n",
       "      <th>p_tot_pts_l6_decay_diff</th>\n",
       "      <th>p_matches_diff</th>\n",
       "      <th>p_stam_adj_fatigue_diff</th>\n",
       "      <th>p_stam_adj_fatigue_decay_diff</th>\n",
       "      <th>p_H2H_diff</th>\n",
       "      <th>m_outcome</th>\n",
       "    </tr>\n",
       "  </thead>\n",
       "  <tbody>\n",
       "    <tr>\n",
       "      <th>0</th>\n",
       "      <td>47.84</td>\n",
       "      <td>56.28</td>\n",
       "      <td>38.41</td>\n",
       "      <td>1.09</td>\n",
       "      <td>3.66</td>\n",
       "      <td>55.00</td>\n",
       "      <td>43.75</td>\n",
       "      <td>2019-560</td>\n",
       "      <td>20190826</td>\n",
       "      <td>2019_24</td>\n",
       "      <td>...</td>\n",
       "      <td>NaN</td>\n",
       "      <td>-0.0</td>\n",
       "      <td>-0.0</td>\n",
       "      <td>-0.0</td>\n",
       "      <td>-0.0</td>\n",
       "      <td>-224.0</td>\n",
       "      <td>111.240310</td>\n",
       "      <td>83.430233</td>\n",
       "      <td>-0.0</td>\n",
       "      <td>0</td>\n",
       "    </tr>\n",
       "    <tr>\n",
       "      <th>1</th>\n",
       "      <td>41.29</td>\n",
       "      <td>49.40</td>\n",
       "      <td>31.94</td>\n",
       "      <td>4.82</td>\n",
       "      <td>15.28</td>\n",
       "      <td>33.33</td>\n",
       "      <td>40.00</td>\n",
       "      <td>2019-M014</td>\n",
       "      <td>20191014</td>\n",
       "      <td>2019_29</td>\n",
       "      <td>...</td>\n",
       "      <td>NaN</td>\n",
       "      <td>-0.0</td>\n",
       "      <td>-0.0</td>\n",
       "      <td>-0.0</td>\n",
       "      <td>-0.0</td>\n",
       "      <td>-0.0</td>\n",
       "      <td>-0.000000</td>\n",
       "      <td>-0.000000</td>\n",
       "      <td>-0.0</td>\n",
       "      <td>0</td>\n",
       "    </tr>\n",
       "    <tr>\n",
       "      <th>2</th>\n",
       "      <td>37.23</td>\n",
       "      <td>51.85</td>\n",
       "      <td>17.50</td>\n",
       "      <td>3.70</td>\n",
       "      <td>5.00</td>\n",
       "      <td>33.33</td>\n",
       "      <td>0.00</td>\n",
       "      <td>2019-M004</td>\n",
       "      <td>20190225</td>\n",
       "      <td>2019_07</td>\n",
       "      <td>...</td>\n",
       "      <td>NaN</td>\n",
       "      <td>-0.0</td>\n",
       "      <td>-0.0</td>\n",
       "      <td>-0.0</td>\n",
       "      <td>-0.0</td>\n",
       "      <td>-25.0</td>\n",
       "      <td>83.628319</td>\n",
       "      <td>62.721239</td>\n",
       "      <td>-0.0</td>\n",
       "      <td>0</td>\n",
       "    </tr>\n",
       "    <tr>\n",
       "      <th>3</th>\n",
       "      <td>59.14</td>\n",
       "      <td>69.23</td>\n",
       "      <td>46.34</td>\n",
       "      <td>3.85</td>\n",
       "      <td>4.88</td>\n",
       "      <td>100.00</td>\n",
       "      <td>37.50</td>\n",
       "      <td>2019-7696</td>\n",
       "      <td>20191105</td>\n",
       "      <td>2019_33</td>\n",
       "      <td>...</td>\n",
       "      <td>17.47</td>\n",
       "      <td>11.0</td>\n",
       "      <td>13.9</td>\n",
       "      <td>49.0</td>\n",
       "      <td>46.9</td>\n",
       "      <td>-78.0</td>\n",
       "      <td>104.083747</td>\n",
       "      <td>87.847195</td>\n",
       "      <td>0.0</td>\n",
       "      <td>1</td>\n",
       "    </tr>\n",
       "    <tr>\n",
       "      <th>4</th>\n",
       "      <td>53.66</td>\n",
       "      <td>70.77</td>\n",
       "      <td>34.48</td>\n",
       "      <td>7.69</td>\n",
       "      <td>3.45</td>\n",
       "      <td>88.89</td>\n",
       "      <td>37.50</td>\n",
       "      <td>2019-7696</td>\n",
       "      <td>20191105</td>\n",
       "      <td>2019_33</td>\n",
       "      <td>...</td>\n",
       "      <td>37.35</td>\n",
       "      <td>28.0</td>\n",
       "      <td>28.6</td>\n",
       "      <td>44.0</td>\n",
       "      <td>42.5</td>\n",
       "      <td>-17.0</td>\n",
       "      <td>51.737984</td>\n",
       "      <td>46.183227</td>\n",
       "      <td>0.0</td>\n",
       "      <td>1</td>\n",
       "    </tr>\n",
       "  </tbody>\n",
       "</table>\n",
       "<p>5 rows × 143 columns</p>\n",
       "</div>"
      ],
      "text/plain": [
       "   p_pts_won%  p_sv_pts_won%  p_ret_pts_won%  p_ace%  p_aced%  p_bp_save%  \\\n",
       "0       47.84          56.28           38.41    1.09     3.66       55.00   \n",
       "1       41.29          49.40           31.94    4.82    15.28       33.33   \n",
       "2       37.23          51.85           17.50    3.70     5.00       33.33   \n",
       "3       59.14          69.23           46.34    3.85     4.88      100.00   \n",
       "4       53.66          70.77           34.48    7.69     3.45       88.89   \n",
       "\n",
       "   p_bp_convert%       t_id    t_date  tour_wk  ...  \\\n",
       "0          43.75   2019-560  20190826  2019_24  ...   \n",
       "1          40.00  2019-M014  20191014  2019_29  ...   \n",
       "2           0.00  2019-M004  20190225  2019_07  ...   \n",
       "3          37.50  2019-7696  20191105  2019_33  ...   \n",
       "4          37.50  2019-7696  20191105  2019_33  ...   \n",
       "\n",
       "  p_SOS_adj_bp_save%_opp_bp_convert%_l10_diff p_tot_time_l6_diff  \\\n",
       "0                                         NaN               -0.0   \n",
       "1                                         NaN               -0.0   \n",
       "2                                         NaN               -0.0   \n",
       "3                                       17.47               11.0   \n",
       "4                                       37.35               28.0   \n",
       "\n",
       "   p_tot_time_l6_decay_diff  p_tot_pts_l6_diff  p_tot_pts_l6_decay_diff  \\\n",
       "0                      -0.0               -0.0                     -0.0   \n",
       "1                      -0.0               -0.0                     -0.0   \n",
       "2                      -0.0               -0.0                     -0.0   \n",
       "3                      13.9               49.0                     46.9   \n",
       "4                      28.6               44.0                     42.5   \n",
       "\n",
       "   p_matches_diff  p_stam_adj_fatigue_diff  p_stam_adj_fatigue_decay_diff  \\\n",
       "0          -224.0               111.240310                      83.430233   \n",
       "1            -0.0                -0.000000                      -0.000000   \n",
       "2           -25.0                83.628319                      62.721239   \n",
       "3           -78.0               104.083747                      87.847195   \n",
       "4           -17.0                51.737984                      46.183227   \n",
       "\n",
       "   p_H2H_diff  m_outcome  \n",
       "0        -0.0          0  \n",
       "1        -0.0          0  \n",
       "2        -0.0          0  \n",
       "3         0.0          1  \n",
       "4         0.0          1  \n",
       "\n",
       "[5 rows x 143 columns]"
      ]
     },
     "execution_count": 267,
     "metadata": {},
     "output_type": "execute_result"
    }
   ],
   "source": [
    "df = pd.read_csv('../data/df_player_all.csv')\n",
    "df.head()"
   ]
  },
  {
   "cell_type": "code",
   "execution_count": 132,
   "id": "d25468bd",
   "metadata": {},
   "outputs": [
    {
     "name": "stdout",
     "output_type": "stream",
     "text": [
      "<class 'pandas.core.frame.DataFrame'>\n",
      "RangeIndex: 36330 entries, 0 to 36329\n",
      "Columns: 143 entries, p_pts_won% to m_outcome\n",
      "dtypes: float64(121), int64(16), object(6)\n",
      "memory usage: 39.6+ MB\n"
     ]
    }
   ],
   "source": [
    "df.info()"
   ]
  },
  {
   "cell_type": "markdown",
   "id": "07697db0",
   "metadata": {},
   "source": [
    "### Filter Data"
   ]
  },
  {
   "cell_type": "markdown",
   "id": "50aa6433",
   "metadata": {},
   "source": [
    "Replicates data filtering in dummy and benchmark modeling, as well as that previously done in EDA and single feature calibrations."
   ]
  },
  {
   "cell_type": "code",
   "execution_count": 1026,
   "id": "210c0587",
   "metadata": {},
   "outputs": [],
   "source": [
    "df_filter = df[~df['tour_wk'].str.contains(\"2010\")] \n",
    "df_filter = df_filter[~df_filter['tour_wk'].str.contains(\"2011\")]\n",
    "#df_filter = df_filter[~df_filter['tour_wk'].str.contains(\"2012\")]\n",
    "#df_filter = df_filter[~df_filter['tour_wk'].str.contains(\"2013\")]\n",
    "#df_filter = df_filter[~df_filter['tour_wk'].str.contains(\"2014\")]\n",
    "#df_filter = df_filter[~df_filter['tour_wk'].str.contains(\"2015\")]\n",
    "#df_filter = df_filter[~df_filter['tour_wk'].str.contains(\"2016\")]\n",
    "#df_filter = df_filter[~df_filter['tour_wk'].str.contains(\"2017\")]\n",
    "#df_filter = df_filter[~df_filter['tour_wk'].str.contains(\"2018\")]\n",
    "#df_filter = df_filter[~df_filter['tour_wk'].str.contains(\"2019\")]"
   ]
  },
  {
   "cell_type": "code",
   "execution_count": 1027,
   "id": "7281e9e9",
   "metadata": {},
   "outputs": [
    {
     "data": {
      "text/html": [
       "<div>\n",
       "<style scoped>\n",
       "    .dataframe tbody tr th:only-of-type {\n",
       "        vertical-align: middle;\n",
       "    }\n",
       "\n",
       "    .dataframe tbody tr th {\n",
       "        vertical-align: top;\n",
       "    }\n",
       "\n",
       "    .dataframe thead th {\n",
       "        text-align: right;\n",
       "    }\n",
       "</style>\n",
       "<table border=\"1\" class=\"dataframe\">\n",
       "  <thead>\n",
       "    <tr style=\"text-align: right;\">\n",
       "      <th></th>\n",
       "      <th>p_pts_won%</th>\n",
       "      <th>p_sv_pts_won%</th>\n",
       "      <th>p_ret_pts_won%</th>\n",
       "      <th>p_ace%</th>\n",
       "      <th>p_aced%</th>\n",
       "      <th>p_bp_save%</th>\n",
       "      <th>p_bp_convert%</th>\n",
       "      <th>t_id</th>\n",
       "      <th>t_date</th>\n",
       "      <th>tour_wk</th>\n",
       "      <th>...</th>\n",
       "      <th>p_SOS_adj_bp_save%_opp_bp_convert%_l10_diff</th>\n",
       "      <th>p_tot_time_l6_diff</th>\n",
       "      <th>p_tot_time_l6_decay_diff</th>\n",
       "      <th>p_tot_pts_l6_diff</th>\n",
       "      <th>p_tot_pts_l6_decay_diff</th>\n",
       "      <th>p_matches_diff</th>\n",
       "      <th>p_stam_adj_fatigue_diff</th>\n",
       "      <th>p_stam_adj_fatigue_decay_diff</th>\n",
       "      <th>p_H2H_diff</th>\n",
       "      <th>m_outcome</th>\n",
       "    </tr>\n",
       "  </thead>\n",
       "  <tbody>\n",
       "    <tr>\n",
       "      <th>94</th>\n",
       "      <td>51.75</td>\n",
       "      <td>65.45</td>\n",
       "      <td>38.98</td>\n",
       "      <td>14.55</td>\n",
       "      <td>10.17</td>\n",
       "      <td>50.00</td>\n",
       "      <td>100.00</td>\n",
       "      <td>2019-7696</td>\n",
       "      <td>20191105</td>\n",
       "      <td>2019_33</td>\n",
       "      <td>...</td>\n",
       "      <td>10.60</td>\n",
       "      <td>-18.0</td>\n",
       "      <td>-17.2</td>\n",
       "      <td>-51.0</td>\n",
       "      <td>-46.4</td>\n",
       "      <td>-28.0</td>\n",
       "      <td>-6.933099</td>\n",
       "      <td>-6.935873</td>\n",
       "      <td>1.0</td>\n",
       "      <td>1</td>\n",
       "    </tr>\n",
       "    <tr>\n",
       "      <th>95</th>\n",
       "      <td>62.79</td>\n",
       "      <td>80.00</td>\n",
       "      <td>50.98</td>\n",
       "      <td>8.57</td>\n",
       "      <td>3.92</td>\n",
       "      <td>100.00</td>\n",
       "      <td>41.67</td>\n",
       "      <td>2019-7696</td>\n",
       "      <td>20191105</td>\n",
       "      <td>2019_33</td>\n",
       "      <td>...</td>\n",
       "      <td>4.20</td>\n",
       "      <td>-36.0</td>\n",
       "      <td>-37.6</td>\n",
       "      <td>-53.0</td>\n",
       "      <td>-54.7</td>\n",
       "      <td>31.0</td>\n",
       "      <td>-30.354716</td>\n",
       "      <td>-29.369054</td>\n",
       "      <td>0.0</td>\n",
       "      <td>1</td>\n",
       "    </tr>\n",
       "    <tr>\n",
       "      <th>98</th>\n",
       "      <td>38.83</td>\n",
       "      <td>56.90</td>\n",
       "      <td>15.56</td>\n",
       "      <td>3.45</td>\n",
       "      <td>24.44</td>\n",
       "      <td>40.00</td>\n",
       "      <td>50.00</td>\n",
       "      <td>2019-0352</td>\n",
       "      <td>20191028</td>\n",
       "      <td>2019_31</td>\n",
       "      <td>...</td>\n",
       "      <td>8.06</td>\n",
       "      <td>118.0</td>\n",
       "      <td>112.8</td>\n",
       "      <td>133.0</td>\n",
       "      <td>125.7</td>\n",
       "      <td>-50.0</td>\n",
       "      <td>50.822814</td>\n",
       "      <td>47.240767</td>\n",
       "      <td>-2.0</td>\n",
       "      <td>0</td>\n",
       "    </tr>\n",
       "    <tr>\n",
       "      <th>99</th>\n",
       "      <td>53.67</td>\n",
       "      <td>66.67</td>\n",
       "      <td>39.29</td>\n",
       "      <td>8.60</td>\n",
       "      <td>4.76</td>\n",
       "      <td>66.67</td>\n",
       "      <td>50.00</td>\n",
       "      <td>2019-0352</td>\n",
       "      <td>20191028</td>\n",
       "      <td>2019_31</td>\n",
       "      <td>...</td>\n",
       "      <td>11.72</td>\n",
       "      <td>52.0</td>\n",
       "      <td>52.0</td>\n",
       "      <td>73.0</td>\n",
       "      <td>73.0</td>\n",
       "      <td>-209.0</td>\n",
       "      <td>36.110592</td>\n",
       "      <td>32.989093</td>\n",
       "      <td>1.0</td>\n",
       "      <td>1</td>\n",
       "    </tr>\n",
       "    <tr>\n",
       "      <th>100</th>\n",
       "      <td>58.16</td>\n",
       "      <td>65.31</td>\n",
       "      <td>51.02</td>\n",
       "      <td>6.12</td>\n",
       "      <td>8.16</td>\n",
       "      <td>0.00</td>\n",
       "      <td>83.33</td>\n",
       "      <td>2019-0352</td>\n",
       "      <td>20191028</td>\n",
       "      <td>2019_31</td>\n",
       "      <td>...</td>\n",
       "      <td>8.29</td>\n",
       "      <td>0.0</td>\n",
       "      <td>0.0</td>\n",
       "      <td>0.0</td>\n",
       "      <td>0.0</td>\n",
       "      <td>13.0</td>\n",
       "      <td>-1.974377</td>\n",
       "      <td>-1.480783</td>\n",
       "      <td>0.0</td>\n",
       "      <td>1</td>\n",
       "    </tr>\n",
       "    <tr>\n",
       "      <th>...</th>\n",
       "      <td>...</td>\n",
       "      <td>...</td>\n",
       "      <td>...</td>\n",
       "      <td>...</td>\n",
       "      <td>...</td>\n",
       "      <td>...</td>\n",
       "      <td>...</td>\n",
       "      <td>...</td>\n",
       "      <td>...</td>\n",
       "      <td>...</td>\n",
       "      <td>...</td>\n",
       "      <td>...</td>\n",
       "      <td>...</td>\n",
       "      <td>...</td>\n",
       "      <td>...</td>\n",
       "      <td>...</td>\n",
       "      <td>...</td>\n",
       "      <td>...</td>\n",
       "      <td>...</td>\n",
       "      <td>...</td>\n",
       "      <td>...</td>\n",
       "    </tr>\n",
       "    <tr>\n",
       "      <th>36284</th>\n",
       "      <td>61.80</td>\n",
       "      <td>70.45</td>\n",
       "      <td>53.33</td>\n",
       "      <td>9.09</td>\n",
       "      <td>0.00</td>\n",
       "      <td>50.00</td>\n",
       "      <td>45.45</td>\n",
       "      <td>2016-M006</td>\n",
       "      <td>20160307</td>\n",
       "      <td>2016_08</td>\n",
       "      <td>...</td>\n",
       "      <td>30.47</td>\n",
       "      <td>175.0</td>\n",
       "      <td>162.7</td>\n",
       "      <td>237.0</td>\n",
       "      <td>222.2</td>\n",
       "      <td>-173.0</td>\n",
       "      <td>121.418517</td>\n",
       "      <td>110.991092</td>\n",
       "      <td>1.0</td>\n",
       "      <td>1</td>\n",
       "    </tr>\n",
       "    <tr>\n",
       "      <th>36285</th>\n",
       "      <td>50.50</td>\n",
       "      <td>66.98</td>\n",
       "      <td>32.29</td>\n",
       "      <td>12.26</td>\n",
       "      <td>2.08</td>\n",
       "      <td>81.82</td>\n",
       "      <td>33.33</td>\n",
       "      <td>2016-M006</td>\n",
       "      <td>20160307</td>\n",
       "      <td>2016_08</td>\n",
       "      <td>...</td>\n",
       "      <td>30.48</td>\n",
       "      <td>123.0</td>\n",
       "      <td>123.0</td>\n",
       "      <td>148.0</td>\n",
       "      <td>148.0</td>\n",
       "      <td>-164.0</td>\n",
       "      <td>76.030192</td>\n",
       "      <td>71.363729</td>\n",
       "      <td>-1.0</td>\n",
       "      <td>1</td>\n",
       "    </tr>\n",
       "    <tr>\n",
       "      <th>36286</th>\n",
       "      <td>51.45</td>\n",
       "      <td>67.06</td>\n",
       "      <td>36.36</td>\n",
       "      <td>8.24</td>\n",
       "      <td>7.95</td>\n",
       "      <td>57.14</td>\n",
       "      <td>36.36</td>\n",
       "      <td>2016-M006</td>\n",
       "      <td>20160307</td>\n",
       "      <td>2016_08</td>\n",
       "      <td>...</td>\n",
       "      <td>29.63</td>\n",
       "      <td>0.0</td>\n",
       "      <td>0.0</td>\n",
       "      <td>0.0</td>\n",
       "      <td>0.0</td>\n",
       "      <td>-93.0</td>\n",
       "      <td>14.605480</td>\n",
       "      <td>10.954110</td>\n",
       "      <td>0.0</td>\n",
       "      <td>1</td>\n",
       "    </tr>\n",
       "    <tr>\n",
       "      <th>36287</th>\n",
       "      <td>48.54</td>\n",
       "      <td>65.43</td>\n",
       "      <td>33.33</td>\n",
       "      <td>11.11</td>\n",
       "      <td>11.11</td>\n",
       "      <td>50.00</td>\n",
       "      <td>42.86</td>\n",
       "      <td>2016-0496</td>\n",
       "      <td>20160215</td>\n",
       "      <td>2016_06</td>\n",
       "      <td>...</td>\n",
       "      <td>24.24</td>\n",
       "      <td>92.0</td>\n",
       "      <td>92.0</td>\n",
       "      <td>139.0</td>\n",
       "      <td>139.0</td>\n",
       "      <td>-238.0</td>\n",
       "      <td>76.658517</td>\n",
       "      <td>71.121339</td>\n",
       "      <td>-1.0</td>\n",
       "      <td>0</td>\n",
       "    </tr>\n",
       "    <tr>\n",
       "      <th>36288</th>\n",
       "      <td>53.05</td>\n",
       "      <td>68.29</td>\n",
       "      <td>37.80</td>\n",
       "      <td>12.20</td>\n",
       "      <td>9.76</td>\n",
       "      <td>80.00</td>\n",
       "      <td>33.33</td>\n",
       "      <td>2016-0496</td>\n",
       "      <td>20160215</td>\n",
       "      <td>2016_06</td>\n",
       "      <td>...</td>\n",
       "      <td>30.51</td>\n",
       "      <td>0.0</td>\n",
       "      <td>0.0</td>\n",
       "      <td>0.0</td>\n",
       "      <td>0.0</td>\n",
       "      <td>-93.0</td>\n",
       "      <td>15.170890</td>\n",
       "      <td>11.378168</td>\n",
       "      <td>0.0</td>\n",
       "      <td>1</td>\n",
       "    </tr>\n",
       "  </tbody>\n",
       "</table>\n",
       "<p>19410 rows × 143 columns</p>\n",
       "</div>"
      ],
      "text/plain": [
       "       p_pts_won%  p_sv_pts_won%  p_ret_pts_won%  p_ace%  p_aced%  p_bp_save%  \\\n",
       "94          51.75          65.45           38.98   14.55    10.17       50.00   \n",
       "95          62.79          80.00           50.98    8.57     3.92      100.00   \n",
       "98          38.83          56.90           15.56    3.45    24.44       40.00   \n",
       "99          53.67          66.67           39.29    8.60     4.76       66.67   \n",
       "100         58.16          65.31           51.02    6.12     8.16        0.00   \n",
       "...           ...            ...             ...     ...      ...         ...   \n",
       "36284       61.80          70.45           53.33    9.09     0.00       50.00   \n",
       "36285       50.50          66.98           32.29   12.26     2.08       81.82   \n",
       "36286       51.45          67.06           36.36    8.24     7.95       57.14   \n",
       "36287       48.54          65.43           33.33   11.11    11.11       50.00   \n",
       "36288       53.05          68.29           37.80   12.20     9.76       80.00   \n",
       "\n",
       "       p_bp_convert%       t_id    t_date  tour_wk  ...  \\\n",
       "94            100.00  2019-7696  20191105  2019_33  ...   \n",
       "95             41.67  2019-7696  20191105  2019_33  ...   \n",
       "98             50.00  2019-0352  20191028  2019_31  ...   \n",
       "99             50.00  2019-0352  20191028  2019_31  ...   \n",
       "100            83.33  2019-0352  20191028  2019_31  ...   \n",
       "...              ...        ...       ...      ...  ...   \n",
       "36284          45.45  2016-M006  20160307  2016_08  ...   \n",
       "36285          33.33  2016-M006  20160307  2016_08  ...   \n",
       "36286          36.36  2016-M006  20160307  2016_08  ...   \n",
       "36287          42.86  2016-0496  20160215  2016_06  ...   \n",
       "36288          33.33  2016-0496  20160215  2016_06  ...   \n",
       "\n",
       "      p_SOS_adj_bp_save%_opp_bp_convert%_l10_diff p_tot_time_l6_diff  \\\n",
       "94                                          10.60              -18.0   \n",
       "95                                           4.20              -36.0   \n",
       "98                                           8.06              118.0   \n",
       "99                                          11.72               52.0   \n",
       "100                                          8.29                0.0   \n",
       "...                                           ...                ...   \n",
       "36284                                       30.47              175.0   \n",
       "36285                                       30.48              123.0   \n",
       "36286                                       29.63                0.0   \n",
       "36287                                       24.24               92.0   \n",
       "36288                                       30.51                0.0   \n",
       "\n",
       "       p_tot_time_l6_decay_diff  p_tot_pts_l6_diff  p_tot_pts_l6_decay_diff  \\\n",
       "94                        -17.2              -51.0                    -46.4   \n",
       "95                        -37.6              -53.0                    -54.7   \n",
       "98                        112.8              133.0                    125.7   \n",
       "99                         52.0               73.0                     73.0   \n",
       "100                         0.0                0.0                      0.0   \n",
       "...                         ...                ...                      ...   \n",
       "36284                     162.7              237.0                    222.2   \n",
       "36285                     123.0              148.0                    148.0   \n",
       "36286                       0.0                0.0                      0.0   \n",
       "36287                      92.0              139.0                    139.0   \n",
       "36288                       0.0                0.0                      0.0   \n",
       "\n",
       "       p_matches_diff  p_stam_adj_fatigue_diff  p_stam_adj_fatigue_decay_diff  \\\n",
       "94              -28.0                -6.933099                      -6.935873   \n",
       "95               31.0               -30.354716                     -29.369054   \n",
       "98              -50.0                50.822814                      47.240767   \n",
       "99             -209.0                36.110592                      32.989093   \n",
       "100              13.0                -1.974377                      -1.480783   \n",
       "...               ...                      ...                            ...   \n",
       "36284          -173.0               121.418517                     110.991092   \n",
       "36285          -164.0                76.030192                      71.363729   \n",
       "36286           -93.0                14.605480                      10.954110   \n",
       "36287          -238.0                76.658517                      71.121339   \n",
       "36288           -93.0                15.170890                      11.378168   \n",
       "\n",
       "       p_H2H_diff  m_outcome  \n",
       "94            1.0          1  \n",
       "95            0.0          1  \n",
       "98           -2.0          0  \n",
       "99            1.0          1  \n",
       "100           0.0          1  \n",
       "...           ...        ...  \n",
       "36284         1.0          1  \n",
       "36285        -1.0          1  \n",
       "36286         0.0          1  \n",
       "36287        -1.0          0  \n",
       "36288         0.0          1  \n",
       "\n",
       "[19410 rows x 143 columns]"
      ]
     },
     "execution_count": 1027,
     "metadata": {},
     "output_type": "execute_result"
    }
   ],
   "source": [
    "# We will also remove BOTH players from individual matches remaining in the sample (after removing the earliest two years, where matches and stats accrued)\n",
    "# where one player has played 3 or fewer matches prior to the one to be predicted on. \n",
    "\n",
    "df_low = df_filter.loc[df_filter['p_matches'] <= 40, 'm_num']\n",
    "#df_low\n",
    "\n",
    "df_filter = df_filter[~df_filter['m_num'].isin(df_low)]\n",
    "df_filter"
   ]
  },
  {
   "cell_type": "code",
   "execution_count": 1028,
   "id": "1ba6ff01",
   "metadata": {},
   "outputs": [
    {
     "name": "stdout",
     "output_type": "stream",
     "text": [
      "<class 'pandas.core.frame.DataFrame'>\n",
      "Int64Index: 19410 entries, 94 to 36288\n",
      "Columns: 143 entries, p_pts_won% to m_outcome\n",
      "dtypes: float64(121), int64(16), object(6)\n",
      "memory usage: 21.3+ MB\n"
     ]
    }
   ],
   "source": [
    "df_filter.info()"
   ]
  },
  {
   "cell_type": "markdown",
   "id": "85168cb3",
   "metadata": {},
   "source": [
    "Stripping dataframe down to the target feature (% total points won for a given player in a given match) and the (numeric) predictive player features (along with a few tournament and conditions-related \"metafeatures\"). important to note that this set of features entirely avoids data leakage; apart from the target feature, all features are derived from information that would have been available prior to a given match being predicted on. "
   ]
  },
  {
   "cell_type": "code",
   "execution_count": 1029,
   "id": "247dbb07",
   "metadata": {},
   "outputs": [],
   "source": [
    "#Pared down to just the predictive features(both raw and player-opponent differential for match being predicted on), and the target feature itself ( player % pts won in the mtch being predicted on)\n",
    "# All features are derived from data available prior to any given match being predicted on. No data leakage!\n",
    "df_model1 = df_filter[[\"p_pts_won%\", \"t_surf\",\"t_indoor\", \"t_alt\", \"t_ace%_last\", \"t_lvl\", \"t_draw_size\", \"t_rd_num\", \"m_best_of\", \"p_rank\", \"p_log_rank\", \"p_rank_pts\", \"p_ent\", \"p_hd\", \"p_ht\", \"p_age\", \"p_matches\", \"p_H2H_w\", \"p_pts_won%_l70_decay\",\"p_pts_won%_l10\", \"p_SOS_adj_pts_won%_l70_decay\", \"p_SOS_adj_pts_won%_l10\", \"p_sv_pts_won%_l70_decay\", \"p_sv_pts_won_l10\", \"p_SOS_adj_sv_pts_won%_l70_decay\", \"p_SOS_adj_sv_pts_won%_l10\", \"p_ret_pts_won%_l70_decay\", \"p_ret_pts_won%_l10\", \"p_SOS_adj_ret_pts_won%_l70_decay\", \"p_SOS_adj_ret_pts_won%_l10\", \"p_ace%_l70_decay\", \"p_ace%_l10\", \"p_SOS_adj_ace%_l70_decay\", \"p_SOS_adj_ace%_l10\", \"p_aced%_l70_decay\", \"p_aced%_l10\", \"p_SOS_adj_aced%_l70_decay\", \"p_SOS_adj_aced%_l10\", \"p_bp_save%_l70\", \"p_bp_save%_l10\", \"p_SOS_adj_bp_save%_l70\", \"p_SOS_adj_bp_save%_l10\", \"p_bp_convert%_l70\", \"p_bp_convert%_l10\", \"p_SOS_adj_bp_convert%_l70\", \"p_SOS_adj_bp_convert%_l10\", \"p_pts_won%_std_l70\",'p_sv_pts_won%_std_l70','p_ret_pts_won%_std_l70', \"p_tot_time_l6\", \"p_tot_time_l6_decay\", \"p_tot_pts_l6\", \"p_tot_pts_l6_decay\", \"p_stamina_adj_fatigue\", \"p_stamina_adj_fatigue_decay\", \"high_t_ace_p_ace\", \"high_t_ace_p_aced\", \"p_opp_rank_diff\", \"p_opp_log_rank_diff\", \"p_opp_rank_pts_diff\", \"p_ent_diff\", \"p_opp_ht_diff\", \"p_opp_age_diff\", \"p_L_opp_R\", \"p_HCA_opp_N\", \"p_pts_won%_l70_decay_diff\", \"p_SOS_adj_pts_won%_l70_decay_diff\", \"p_pts_won%_l10_diff\", \"p_SOS_adj_pts_won%_l10_diff\", \"p_sv_pts_won%_l70_decay_diff\", \"p_SOS_adj_sv_pts_won%_l70_decay_diff\", \"p_sv_pts_won%_l10_diff\", \"p_SOS_adj_sv_pts_won%_l10_diff\", \"p_ret_pts_won%_l70_decay_diff\", \"p_SOS_adj_ret_pts_won%_l70_decay_diff\", \"p_ret_pts_won%_l10_diff\", \"p_SOS_adj_ret_pts_won%_l10_diff\", \"p_sv_opp_ret_pts_won%_l70_decay_diff\", \"p_SOS_adj_sv_opp_ret_pts_won%_l70_decay_diff\", \"p_sv_opp_ret_pts_won%_l10_diff\", \"p_SOS_adj_sv_opp_ret_pts_won%_l10_diff\", \"p_ret_opp_sv_pts_won%_l70_decay_diff\", \"p_SOS_adj_ret_opp_sv_pts_won%_l70_decay_diff\", \"p_ret_opp_sv_pts_won%_l10_diff\", \"p_SOS_adj_ret_opp_sv_pts_won%_l10_diff\", \"p_ace%_l70_decay_diff\", \"p_SOS_adj_ace%_l70_decay_diff\", \"p_ace%_l10_diff\", \"p_SOS_adj_ace%_l10_diff\", \"p_aced%_l70_decay_diff\", \"p_SOS_adj_aced%_l70_decay_diff\", \"p_aced%_l10_diff\", \"p_SOS_adj_aced%_l10_diff\", \"p_ace%_opp_aced%_l70_decay_diff\", \"p_SOS_adj_ace%_opp_aced%_l70_decay_diff\", \"p_ace%_opp_aced%_l10_diff\", \"p_SOS_adj_ace%_opp_aced%_l10_diff\", \"p_aced%_opp_ace%_l70_decay_diff\", \"p_SOS_adj_aced%_opp_ace%_l70_decay_diff\", \"p_aced%_opp_ace%_l10_diff\", \"p_SOS_adj_aced%_opp_ace%_l10_diff\", \"p_bp_save%_l70_diff\", \"p_SOS_adj_bp_save%_l70_diff\", \"p_bp_save%_l10_diff\", \"p_SOS_adj_bp_save%_l10_diff\", \"p_bp_convert%_l70_diff\", \"p_SOS_adj_bp_convert%_l70_diff\", \"p_bp_convert%_l10_diff\", \"p_SOS_adj_bp_convert%_l10_diff\", \"p_bp_convert%_opp_bp_save%_l70_diff\", \"p_SOS_adj_bp_convert%_opp_bp_save%_l70_diff\", \"p_bp_convert%_opp_bp_save%_l10_diff\", \"p_SOS_adj_bp_convert%_opp_bp_save%_l10_diff\", \"p_bp_save%_opp_bp_convert%_l70_diff\", \"p_SOS_adj_bp_save%_opp_bp_convert%_l70_diff\", \"p_bp_save%_opp_bp_convert%_l10_diff\", \"p_SOS_adj_bp_save%_opp_bp_convert%_l10_diff\", \"p_tot_time_l6_diff\", \"p_tot_time_l6_decay_diff\", \"p_tot_pts_l6_diff\", \"p_tot_pts_l6_decay_diff\", \"p_matches_diff\", \"p_stam_adj_fatigue_diff\", \"p_stam_adj_fatigue_decay_diff\", \"p_H2H_diff\"]]"
   ]
  },
  {
   "cell_type": "markdown",
   "id": "a0777b94",
   "metadata": {},
   "source": [
    "### Train and Test Splits "
   ]
  },
  {
   "cell_type": "markdown",
   "id": "c08181a2",
   "metadata": {},
   "source": [
    "Replicates data filtering and train/test split conducted for simpler models (see notebook 4)"
   ]
  },
  {
   "cell_type": "code",
   "execution_count": 1030,
   "id": "c00cedf0",
   "metadata": {},
   "outputs": [
    {
     "data": {
      "text/plain": [
       "(14557.5, 4852.5)"
      ]
     },
     "execution_count": 1030,
     "metadata": {},
     "output_type": "execute_result"
    }
   ],
   "source": [
    "len(df_model1) * .75, len(df_model1) * .25"
   ]
  },
  {
   "cell_type": "code",
   "execution_count": 1031,
   "id": "9e063967",
   "metadata": {},
   "outputs": [],
   "source": [
    "#Replicates EXACT train-test split from dummy and simpler modeling\n",
    "X_train, X_test, y_train, y_test = train_test_split(df_model1.drop(columns='p_pts_won%'), \n",
    "                                                    df_model1[\"p_pts_won%\"], test_size=0.25, \n",
    "                                                    random_state=47)"
   ]
  },
  {
   "cell_type": "code",
   "execution_count": 1032,
   "id": "20852c26",
   "metadata": {},
   "outputs": [
    {
     "data": {
      "text/plain": [
       "((14557,), (4853,))"
      ]
     },
     "execution_count": 1032,
     "metadata": {},
     "output_type": "execute_result"
    }
   ],
   "source": [
    "y_train.shape, y_test.shape"
   ]
  },
  {
   "cell_type": "code",
   "execution_count": 1033,
   "id": "56d75a04",
   "metadata": {},
   "outputs": [
    {
     "data": {
      "text/plain": [
       "32366    56.41\n",
       "3544     53.42\n",
       "2553     51.08\n",
       "26893    53.46\n",
       "16198    54.26\n",
       "         ...  \n",
       "36136    53.47\n",
       "21871    54.94\n",
       "26976    50.79\n",
       "33839    57.27\n",
       "11112    50.50\n",
       "Name: p_pts_won%, Length: 14557, dtype: float64"
      ]
     },
     "execution_count": 1033,
     "metadata": {},
     "output_type": "execute_result"
    }
   ],
   "source": [
    "y_train"
   ]
  },
  {
   "cell_type": "code",
   "execution_count": 1034,
   "id": "3ddc85c2",
   "metadata": {},
   "outputs": [
    {
     "data": {
      "text/plain": [
       "((14557, 124), (4853, 124))"
      ]
     },
     "execution_count": 1034,
     "metadata": {},
     "output_type": "execute_result"
    }
   ],
   "source": [
    "X_train.shape, X_test.shape"
   ]
  },
  {
   "cell_type": "markdown",
   "id": "e25fe87f",
   "metadata": {},
   "source": [
    "### Differential Feature Set Prediction Model 1: Linear Modeling"
   ]
  },
  {
   "cell_type": "markdown",
   "id": "9a3499f2",
   "metadata": {},
   "source": [
    "This is useful to compare directly to the linear model constructed solely using rankings-derived features (see previous notebook 04_Preprocessing_Training)."
   ]
  },
  {
   "cell_type": "code",
   "execution_count": 1035,
   "id": "0fd828dd",
   "metadata": {},
   "outputs": [],
   "source": [
    "lr_pipe = make_pipeline(\n",
    "    SimpleImputer(strategy='median'), \n",
    "    StandardScaler(),\n",
    "    SelectKBest(f_regression),\n",
    "    LinearRegression()\n",
    ")"
   ]
  },
  {
   "cell_type": "code",
   "execution_count": 1036,
   "id": "81ec8175",
   "metadata": {},
   "outputs": [
    {
     "data": {
      "text/plain": [
       "dict_keys(['memory', 'steps', 'verbose', 'simpleimputer', 'standardscaler', 'selectkbest', 'linearregression', 'simpleimputer__add_indicator', 'simpleimputer__copy', 'simpleimputer__fill_value', 'simpleimputer__missing_values', 'simpleimputer__strategy', 'simpleimputer__verbose', 'standardscaler__copy', 'standardscaler__with_mean', 'standardscaler__with_std', 'selectkbest__k', 'selectkbest__score_func', 'linearregression__copy_X', 'linearregression__fit_intercept', 'linearregression__n_jobs', 'linearregression__normalize', 'linearregression__positive'])"
      ]
     },
     "execution_count": 1036,
     "metadata": {},
     "output_type": "execute_result"
    }
   ],
   "source": [
    "#Dict of available parameters for linear regression pipe\n",
    "lr_pipe.get_params().keys()"
   ]
  },
  {
   "cell_type": "code",
   "execution_count": 382,
   "id": "267a0554",
   "metadata": {},
   "outputs": [],
   "source": [
    "#Define search grid parameters\n",
    "k = [k+1 for k in range(len(X_train.columns))]\n",
    "\n",
    "grid_params = {\n",
    "    'standardscaler': [StandardScaler(), None],\n",
    "    'simpleimputer__strategy': ['mean', 'median'],\n",
    "    'selectkbest__k': k\n",
    "}"
   ]
  },
  {
   "cell_type": "code",
   "execution_count": 164,
   "id": "01ee4f4b",
   "metadata": {},
   "outputs": [],
   "source": [
    "#Call `GridSearchCV` with linear regression pipeline, passing in the above `grid_params`\n",
    "#dict for parameters to evaluate with 5-fold cross-validation\n",
    "lr_grid_cv = GridSearchCV(lr_pipe, param_grid=grid_params, cv=5)"
   ]
  },
  {
   "cell_type": "code",
   "execution_count": 165,
   "id": "7dbb8bf5",
   "metadata": {},
   "outputs": [
    {
     "ename": "KeyboardInterrupt",
     "evalue": "",
     "output_type": "error",
     "traceback": [
      "\u001b[1;31m---------------------------------------------------------------------------\u001b[0m",
      "\u001b[1;31mKeyboardInterrupt\u001b[0m                         Traceback (most recent call last)",
      "\u001b[1;32m<ipython-input-165-a0051fb03e9e>\u001b[0m in \u001b[0;36m<module>\u001b[1;34m\u001b[0m\n\u001b[0;32m      1\u001b[0m \u001b[1;31m#Conduct grid search for this full differential features model.\u001b[0m\u001b[1;33m\u001b[0m\u001b[1;33m\u001b[0m\u001b[1;33m\u001b[0m\u001b[0m\n\u001b[1;32m----> 2\u001b[1;33m \u001b[0mlr_grid_cv\u001b[0m\u001b[1;33m.\u001b[0m\u001b[0mfit\u001b[0m\u001b[1;33m(\u001b[0m\u001b[0mX_train\u001b[0m\u001b[1;33m,\u001b[0m \u001b[0my_train\u001b[0m\u001b[1;33m)\u001b[0m\u001b[1;33m\u001b[0m\u001b[1;33m\u001b[0m\u001b[0m\n\u001b[0m",
      "\u001b[1;32m~\\anaconda3\\lib\\site-packages\\sklearn\\utils\\validation.py\u001b[0m in \u001b[0;36minner_f\u001b[1;34m(*args, **kwargs)\u001b[0m\n\u001b[0;32m     61\u001b[0m             \u001b[0mextra_args\u001b[0m \u001b[1;33m=\u001b[0m \u001b[0mlen\u001b[0m\u001b[1;33m(\u001b[0m\u001b[0margs\u001b[0m\u001b[1;33m)\u001b[0m \u001b[1;33m-\u001b[0m \u001b[0mlen\u001b[0m\u001b[1;33m(\u001b[0m\u001b[0mall_args\u001b[0m\u001b[1;33m)\u001b[0m\u001b[1;33m\u001b[0m\u001b[1;33m\u001b[0m\u001b[0m\n\u001b[0;32m     62\u001b[0m             \u001b[1;32mif\u001b[0m \u001b[0mextra_args\u001b[0m \u001b[1;33m<=\u001b[0m \u001b[1;36m0\u001b[0m\u001b[1;33m:\u001b[0m\u001b[1;33m\u001b[0m\u001b[1;33m\u001b[0m\u001b[0m\n\u001b[1;32m---> 63\u001b[1;33m                 \u001b[1;32mreturn\u001b[0m \u001b[0mf\u001b[0m\u001b[1;33m(\u001b[0m\u001b[1;33m*\u001b[0m\u001b[0margs\u001b[0m\u001b[1;33m,\u001b[0m \u001b[1;33m**\u001b[0m\u001b[0mkwargs\u001b[0m\u001b[1;33m)\u001b[0m\u001b[1;33m\u001b[0m\u001b[1;33m\u001b[0m\u001b[0m\n\u001b[0m\u001b[0;32m     64\u001b[0m \u001b[1;33m\u001b[0m\u001b[0m\n\u001b[0;32m     65\u001b[0m             \u001b[1;31m# extra_args > 0\u001b[0m\u001b[1;33m\u001b[0m\u001b[1;33m\u001b[0m\u001b[1;33m\u001b[0m\u001b[0m\n",
      "\u001b[1;32m~\\anaconda3\\lib\\site-packages\\sklearn\\model_selection\\_search.py\u001b[0m in \u001b[0;36mfit\u001b[1;34m(self, X, y, groups, **fit_params)\u001b[0m\n\u001b[0;32m    839\u001b[0m                 \u001b[1;32mreturn\u001b[0m \u001b[0mresults\u001b[0m\u001b[1;33m\u001b[0m\u001b[1;33m\u001b[0m\u001b[0m\n\u001b[0;32m    840\u001b[0m \u001b[1;33m\u001b[0m\u001b[0m\n\u001b[1;32m--> 841\u001b[1;33m             \u001b[0mself\u001b[0m\u001b[1;33m.\u001b[0m\u001b[0m_run_search\u001b[0m\u001b[1;33m(\u001b[0m\u001b[0mevaluate_candidates\u001b[0m\u001b[1;33m)\u001b[0m\u001b[1;33m\u001b[0m\u001b[1;33m\u001b[0m\u001b[0m\n\u001b[0m\u001b[0;32m    842\u001b[0m \u001b[1;33m\u001b[0m\u001b[0m\n\u001b[0;32m    843\u001b[0m             \u001b[1;31m# multimetric is determined here because in the case of a callable\u001b[0m\u001b[1;33m\u001b[0m\u001b[1;33m\u001b[0m\u001b[1;33m\u001b[0m\u001b[0m\n",
      "\u001b[1;32m~\\anaconda3\\lib\\site-packages\\sklearn\\model_selection\\_search.py\u001b[0m in \u001b[0;36m_run_search\u001b[1;34m(self, evaluate_candidates)\u001b[0m\n\u001b[0;32m   1286\u001b[0m     \u001b[1;32mdef\u001b[0m \u001b[0m_run_search\u001b[0m\u001b[1;33m(\u001b[0m\u001b[0mself\u001b[0m\u001b[1;33m,\u001b[0m \u001b[0mevaluate_candidates\u001b[0m\u001b[1;33m)\u001b[0m\u001b[1;33m:\u001b[0m\u001b[1;33m\u001b[0m\u001b[1;33m\u001b[0m\u001b[0m\n\u001b[0;32m   1287\u001b[0m         \u001b[1;34m\"\"\"Search all candidates in param_grid\"\"\"\u001b[0m\u001b[1;33m\u001b[0m\u001b[1;33m\u001b[0m\u001b[0m\n\u001b[1;32m-> 1288\u001b[1;33m         \u001b[0mevaluate_candidates\u001b[0m\u001b[1;33m(\u001b[0m\u001b[0mParameterGrid\u001b[0m\u001b[1;33m(\u001b[0m\u001b[0mself\u001b[0m\u001b[1;33m.\u001b[0m\u001b[0mparam_grid\u001b[0m\u001b[1;33m)\u001b[0m\u001b[1;33m)\u001b[0m\u001b[1;33m\u001b[0m\u001b[1;33m\u001b[0m\u001b[0m\n\u001b[0m\u001b[0;32m   1289\u001b[0m \u001b[1;33m\u001b[0m\u001b[0m\n\u001b[0;32m   1290\u001b[0m \u001b[1;33m\u001b[0m\u001b[0m\n",
      "\u001b[1;32m~\\anaconda3\\lib\\site-packages\\sklearn\\model_selection\\_search.py\u001b[0m in \u001b[0;36mevaluate_candidates\u001b[1;34m(candidate_params, cv, more_results)\u001b[0m\n\u001b[0;32m    793\u001b[0m                               n_splits, n_candidates, n_candidates * n_splits))\n\u001b[0;32m    794\u001b[0m \u001b[1;33m\u001b[0m\u001b[0m\n\u001b[1;32m--> 795\u001b[1;33m                 out = parallel(delayed(_fit_and_score)(clone(base_estimator),\n\u001b[0m\u001b[0;32m    796\u001b[0m                                                        \u001b[0mX\u001b[0m\u001b[1;33m,\u001b[0m \u001b[0my\u001b[0m\u001b[1;33m,\u001b[0m\u001b[1;33m\u001b[0m\u001b[1;33m\u001b[0m\u001b[0m\n\u001b[0;32m    797\u001b[0m                                                        \u001b[0mtrain\u001b[0m\u001b[1;33m=\u001b[0m\u001b[0mtrain\u001b[0m\u001b[1;33m,\u001b[0m \u001b[0mtest\u001b[0m\u001b[1;33m=\u001b[0m\u001b[0mtest\u001b[0m\u001b[1;33m,\u001b[0m\u001b[1;33m\u001b[0m\u001b[1;33m\u001b[0m\u001b[0m\n",
      "\u001b[1;32m~\\anaconda3\\lib\\site-packages\\joblib\\parallel.py\u001b[0m in \u001b[0;36m__call__\u001b[1;34m(self, iterable)\u001b[0m\n\u001b[0;32m   1042\u001b[0m                 \u001b[0mself\u001b[0m\u001b[1;33m.\u001b[0m\u001b[0m_iterating\u001b[0m \u001b[1;33m=\u001b[0m \u001b[0mself\u001b[0m\u001b[1;33m.\u001b[0m\u001b[0m_original_iterator\u001b[0m \u001b[1;32mis\u001b[0m \u001b[1;32mnot\u001b[0m \u001b[1;32mNone\u001b[0m\u001b[1;33m\u001b[0m\u001b[1;33m\u001b[0m\u001b[0m\n\u001b[0;32m   1043\u001b[0m \u001b[1;33m\u001b[0m\u001b[0m\n\u001b[1;32m-> 1044\u001b[1;33m             \u001b[1;32mwhile\u001b[0m \u001b[0mself\u001b[0m\u001b[1;33m.\u001b[0m\u001b[0mdispatch_one_batch\u001b[0m\u001b[1;33m(\u001b[0m\u001b[0miterator\u001b[0m\u001b[1;33m)\u001b[0m\u001b[1;33m:\u001b[0m\u001b[1;33m\u001b[0m\u001b[1;33m\u001b[0m\u001b[0m\n\u001b[0m\u001b[0;32m   1045\u001b[0m                 \u001b[1;32mpass\u001b[0m\u001b[1;33m\u001b[0m\u001b[1;33m\u001b[0m\u001b[0m\n\u001b[0;32m   1046\u001b[0m \u001b[1;33m\u001b[0m\u001b[0m\n",
      "\u001b[1;32m~\\anaconda3\\lib\\site-packages\\joblib\\parallel.py\u001b[0m in \u001b[0;36mdispatch_one_batch\u001b[1;34m(self, iterator)\u001b[0m\n\u001b[0;32m    857\u001b[0m                 \u001b[1;32mreturn\u001b[0m \u001b[1;32mFalse\u001b[0m\u001b[1;33m\u001b[0m\u001b[1;33m\u001b[0m\u001b[0m\n\u001b[0;32m    858\u001b[0m             \u001b[1;32melse\u001b[0m\u001b[1;33m:\u001b[0m\u001b[1;33m\u001b[0m\u001b[1;33m\u001b[0m\u001b[0m\n\u001b[1;32m--> 859\u001b[1;33m                 \u001b[0mself\u001b[0m\u001b[1;33m.\u001b[0m\u001b[0m_dispatch\u001b[0m\u001b[1;33m(\u001b[0m\u001b[0mtasks\u001b[0m\u001b[1;33m)\u001b[0m\u001b[1;33m\u001b[0m\u001b[1;33m\u001b[0m\u001b[0m\n\u001b[0m\u001b[0;32m    860\u001b[0m                 \u001b[1;32mreturn\u001b[0m \u001b[1;32mTrue\u001b[0m\u001b[1;33m\u001b[0m\u001b[1;33m\u001b[0m\u001b[0m\n\u001b[0;32m    861\u001b[0m \u001b[1;33m\u001b[0m\u001b[0m\n",
      "\u001b[1;32m~\\anaconda3\\lib\\site-packages\\joblib\\parallel.py\u001b[0m in \u001b[0;36m_dispatch\u001b[1;34m(self, batch)\u001b[0m\n\u001b[0;32m    775\u001b[0m         \u001b[1;32mwith\u001b[0m \u001b[0mself\u001b[0m\u001b[1;33m.\u001b[0m\u001b[0m_lock\u001b[0m\u001b[1;33m:\u001b[0m\u001b[1;33m\u001b[0m\u001b[1;33m\u001b[0m\u001b[0m\n\u001b[0;32m    776\u001b[0m             \u001b[0mjob_idx\u001b[0m \u001b[1;33m=\u001b[0m \u001b[0mlen\u001b[0m\u001b[1;33m(\u001b[0m\u001b[0mself\u001b[0m\u001b[1;33m.\u001b[0m\u001b[0m_jobs\u001b[0m\u001b[1;33m)\u001b[0m\u001b[1;33m\u001b[0m\u001b[1;33m\u001b[0m\u001b[0m\n\u001b[1;32m--> 777\u001b[1;33m             \u001b[0mjob\u001b[0m \u001b[1;33m=\u001b[0m \u001b[0mself\u001b[0m\u001b[1;33m.\u001b[0m\u001b[0m_backend\u001b[0m\u001b[1;33m.\u001b[0m\u001b[0mapply_async\u001b[0m\u001b[1;33m(\u001b[0m\u001b[0mbatch\u001b[0m\u001b[1;33m,\u001b[0m \u001b[0mcallback\u001b[0m\u001b[1;33m=\u001b[0m\u001b[0mcb\u001b[0m\u001b[1;33m)\u001b[0m\u001b[1;33m\u001b[0m\u001b[1;33m\u001b[0m\u001b[0m\n\u001b[0m\u001b[0;32m    778\u001b[0m             \u001b[1;31m# A job can complete so quickly than its callback is\u001b[0m\u001b[1;33m\u001b[0m\u001b[1;33m\u001b[0m\u001b[1;33m\u001b[0m\u001b[0m\n\u001b[0;32m    779\u001b[0m             \u001b[1;31m# called before we get here, causing self._jobs to\u001b[0m\u001b[1;33m\u001b[0m\u001b[1;33m\u001b[0m\u001b[1;33m\u001b[0m\u001b[0m\n",
      "\u001b[1;32m~\\anaconda3\\lib\\site-packages\\joblib\\_parallel_backends.py\u001b[0m in \u001b[0;36mapply_async\u001b[1;34m(self, func, callback)\u001b[0m\n\u001b[0;32m    206\u001b[0m     \u001b[1;32mdef\u001b[0m \u001b[0mapply_async\u001b[0m\u001b[1;33m(\u001b[0m\u001b[0mself\u001b[0m\u001b[1;33m,\u001b[0m \u001b[0mfunc\u001b[0m\u001b[1;33m,\u001b[0m \u001b[0mcallback\u001b[0m\u001b[1;33m=\u001b[0m\u001b[1;32mNone\u001b[0m\u001b[1;33m)\u001b[0m\u001b[1;33m:\u001b[0m\u001b[1;33m\u001b[0m\u001b[1;33m\u001b[0m\u001b[0m\n\u001b[0;32m    207\u001b[0m         \u001b[1;34m\"\"\"Schedule a func to be run\"\"\"\u001b[0m\u001b[1;33m\u001b[0m\u001b[1;33m\u001b[0m\u001b[0m\n\u001b[1;32m--> 208\u001b[1;33m         \u001b[0mresult\u001b[0m \u001b[1;33m=\u001b[0m \u001b[0mImmediateResult\u001b[0m\u001b[1;33m(\u001b[0m\u001b[0mfunc\u001b[0m\u001b[1;33m)\u001b[0m\u001b[1;33m\u001b[0m\u001b[1;33m\u001b[0m\u001b[0m\n\u001b[0m\u001b[0;32m    209\u001b[0m         \u001b[1;32mif\u001b[0m \u001b[0mcallback\u001b[0m\u001b[1;33m:\u001b[0m\u001b[1;33m\u001b[0m\u001b[1;33m\u001b[0m\u001b[0m\n\u001b[0;32m    210\u001b[0m             \u001b[0mcallback\u001b[0m\u001b[1;33m(\u001b[0m\u001b[0mresult\u001b[0m\u001b[1;33m)\u001b[0m\u001b[1;33m\u001b[0m\u001b[1;33m\u001b[0m\u001b[0m\n",
      "\u001b[1;32m~\\anaconda3\\lib\\site-packages\\joblib\\_parallel_backends.py\u001b[0m in \u001b[0;36m__init__\u001b[1;34m(self, batch)\u001b[0m\n\u001b[0;32m    570\u001b[0m         \u001b[1;31m# Don't delay the application, to avoid keeping the input\u001b[0m\u001b[1;33m\u001b[0m\u001b[1;33m\u001b[0m\u001b[1;33m\u001b[0m\u001b[0m\n\u001b[0;32m    571\u001b[0m         \u001b[1;31m# arguments in memory\u001b[0m\u001b[1;33m\u001b[0m\u001b[1;33m\u001b[0m\u001b[1;33m\u001b[0m\u001b[0m\n\u001b[1;32m--> 572\u001b[1;33m         \u001b[0mself\u001b[0m\u001b[1;33m.\u001b[0m\u001b[0mresults\u001b[0m \u001b[1;33m=\u001b[0m \u001b[0mbatch\u001b[0m\u001b[1;33m(\u001b[0m\u001b[1;33m)\u001b[0m\u001b[1;33m\u001b[0m\u001b[1;33m\u001b[0m\u001b[0m\n\u001b[0m\u001b[0;32m    573\u001b[0m \u001b[1;33m\u001b[0m\u001b[0m\n\u001b[0;32m    574\u001b[0m     \u001b[1;32mdef\u001b[0m \u001b[0mget\u001b[0m\u001b[1;33m(\u001b[0m\u001b[0mself\u001b[0m\u001b[1;33m)\u001b[0m\u001b[1;33m:\u001b[0m\u001b[1;33m\u001b[0m\u001b[1;33m\u001b[0m\u001b[0m\n",
      "\u001b[1;32m~\\anaconda3\\lib\\site-packages\\joblib\\parallel.py\u001b[0m in \u001b[0;36m__call__\u001b[1;34m(self)\u001b[0m\n\u001b[0;32m    260\u001b[0m         \u001b[1;31m# change the default number of processes to -1\u001b[0m\u001b[1;33m\u001b[0m\u001b[1;33m\u001b[0m\u001b[1;33m\u001b[0m\u001b[0m\n\u001b[0;32m    261\u001b[0m         \u001b[1;32mwith\u001b[0m \u001b[0mparallel_backend\u001b[0m\u001b[1;33m(\u001b[0m\u001b[0mself\u001b[0m\u001b[1;33m.\u001b[0m\u001b[0m_backend\u001b[0m\u001b[1;33m,\u001b[0m \u001b[0mn_jobs\u001b[0m\u001b[1;33m=\u001b[0m\u001b[0mself\u001b[0m\u001b[1;33m.\u001b[0m\u001b[0m_n_jobs\u001b[0m\u001b[1;33m)\u001b[0m\u001b[1;33m:\u001b[0m\u001b[1;33m\u001b[0m\u001b[1;33m\u001b[0m\u001b[0m\n\u001b[1;32m--> 262\u001b[1;33m             return [func(*args, **kwargs)\n\u001b[0m\u001b[0;32m    263\u001b[0m                     for func, args, kwargs in self.items]\n\u001b[0;32m    264\u001b[0m \u001b[1;33m\u001b[0m\u001b[0m\n",
      "\u001b[1;32m~\\anaconda3\\lib\\site-packages\\joblib\\parallel.py\u001b[0m in \u001b[0;36m<listcomp>\u001b[1;34m(.0)\u001b[0m\n\u001b[0;32m    260\u001b[0m         \u001b[1;31m# change the default number of processes to -1\u001b[0m\u001b[1;33m\u001b[0m\u001b[1;33m\u001b[0m\u001b[1;33m\u001b[0m\u001b[0m\n\u001b[0;32m    261\u001b[0m         \u001b[1;32mwith\u001b[0m \u001b[0mparallel_backend\u001b[0m\u001b[1;33m(\u001b[0m\u001b[0mself\u001b[0m\u001b[1;33m.\u001b[0m\u001b[0m_backend\u001b[0m\u001b[1;33m,\u001b[0m \u001b[0mn_jobs\u001b[0m\u001b[1;33m=\u001b[0m\u001b[0mself\u001b[0m\u001b[1;33m.\u001b[0m\u001b[0m_n_jobs\u001b[0m\u001b[1;33m)\u001b[0m\u001b[1;33m:\u001b[0m\u001b[1;33m\u001b[0m\u001b[1;33m\u001b[0m\u001b[0m\n\u001b[1;32m--> 262\u001b[1;33m             return [func(*args, **kwargs)\n\u001b[0m\u001b[0;32m    263\u001b[0m                     for func, args, kwargs in self.items]\n\u001b[0;32m    264\u001b[0m \u001b[1;33m\u001b[0m\u001b[0m\n",
      "\u001b[1;32m~\\anaconda3\\lib\\site-packages\\sklearn\\utils\\fixes.py\u001b[0m in \u001b[0;36m__call__\u001b[1;34m(self, *args, **kwargs)\u001b[0m\n\u001b[0;32m    220\u001b[0m     \u001b[1;32mdef\u001b[0m \u001b[0m__call__\u001b[0m\u001b[1;33m(\u001b[0m\u001b[0mself\u001b[0m\u001b[1;33m,\u001b[0m \u001b[1;33m*\u001b[0m\u001b[0margs\u001b[0m\u001b[1;33m,\u001b[0m \u001b[1;33m**\u001b[0m\u001b[0mkwargs\u001b[0m\u001b[1;33m)\u001b[0m\u001b[1;33m:\u001b[0m\u001b[1;33m\u001b[0m\u001b[1;33m\u001b[0m\u001b[0m\n\u001b[0;32m    221\u001b[0m         \u001b[1;32mwith\u001b[0m \u001b[0mconfig_context\u001b[0m\u001b[1;33m(\u001b[0m\u001b[1;33m**\u001b[0m\u001b[0mself\u001b[0m\u001b[1;33m.\u001b[0m\u001b[0mconfig\u001b[0m\u001b[1;33m)\u001b[0m\u001b[1;33m:\u001b[0m\u001b[1;33m\u001b[0m\u001b[1;33m\u001b[0m\u001b[0m\n\u001b[1;32m--> 222\u001b[1;33m             \u001b[1;32mreturn\u001b[0m \u001b[0mself\u001b[0m\u001b[1;33m.\u001b[0m\u001b[0mfunction\u001b[0m\u001b[1;33m(\u001b[0m\u001b[1;33m*\u001b[0m\u001b[0margs\u001b[0m\u001b[1;33m,\u001b[0m \u001b[1;33m**\u001b[0m\u001b[0mkwargs\u001b[0m\u001b[1;33m)\u001b[0m\u001b[1;33m\u001b[0m\u001b[1;33m\u001b[0m\u001b[0m\n\u001b[0m",
      "\u001b[1;32m~\\anaconda3\\lib\\site-packages\\sklearn\\model_selection\\_validation.py\u001b[0m in \u001b[0;36m_fit_and_score\u001b[1;34m(estimator, X, y, scorer, train, test, verbose, parameters, fit_params, return_train_score, return_parameters, return_n_test_samples, return_times, return_estimator, split_progress, candidate_progress, error_score)\u001b[0m\n\u001b[0;32m    591\u001b[0m             \u001b[0mestimator\u001b[0m\u001b[1;33m.\u001b[0m\u001b[0mfit\u001b[0m\u001b[1;33m(\u001b[0m\u001b[0mX_train\u001b[0m\u001b[1;33m,\u001b[0m \u001b[1;33m**\u001b[0m\u001b[0mfit_params\u001b[0m\u001b[1;33m)\u001b[0m\u001b[1;33m\u001b[0m\u001b[1;33m\u001b[0m\u001b[0m\n\u001b[0;32m    592\u001b[0m         \u001b[1;32melse\u001b[0m\u001b[1;33m:\u001b[0m\u001b[1;33m\u001b[0m\u001b[1;33m\u001b[0m\u001b[0m\n\u001b[1;32m--> 593\u001b[1;33m             \u001b[0mestimator\u001b[0m\u001b[1;33m.\u001b[0m\u001b[0mfit\u001b[0m\u001b[1;33m(\u001b[0m\u001b[0mX_train\u001b[0m\u001b[1;33m,\u001b[0m \u001b[0my_train\u001b[0m\u001b[1;33m,\u001b[0m \u001b[1;33m**\u001b[0m\u001b[0mfit_params\u001b[0m\u001b[1;33m)\u001b[0m\u001b[1;33m\u001b[0m\u001b[1;33m\u001b[0m\u001b[0m\n\u001b[0m\u001b[0;32m    594\u001b[0m \u001b[1;33m\u001b[0m\u001b[0m\n\u001b[0;32m    595\u001b[0m     \u001b[1;32mexcept\u001b[0m \u001b[0mException\u001b[0m \u001b[1;32mas\u001b[0m \u001b[0me\u001b[0m\u001b[1;33m:\u001b[0m\u001b[1;33m\u001b[0m\u001b[1;33m\u001b[0m\u001b[0m\n",
      "\u001b[1;32m~\\anaconda3\\lib\\site-packages\\sklearn\\pipeline.py\u001b[0m in \u001b[0;36mfit\u001b[1;34m(self, X, y, **fit_params)\u001b[0m\n\u001b[0;32m    339\u001b[0m         \"\"\"\n\u001b[0;32m    340\u001b[0m         \u001b[0mfit_params_steps\u001b[0m \u001b[1;33m=\u001b[0m \u001b[0mself\u001b[0m\u001b[1;33m.\u001b[0m\u001b[0m_check_fit_params\u001b[0m\u001b[1;33m(\u001b[0m\u001b[1;33m**\u001b[0m\u001b[0mfit_params\u001b[0m\u001b[1;33m)\u001b[0m\u001b[1;33m\u001b[0m\u001b[1;33m\u001b[0m\u001b[0m\n\u001b[1;32m--> 341\u001b[1;33m         \u001b[0mXt\u001b[0m \u001b[1;33m=\u001b[0m \u001b[0mself\u001b[0m\u001b[1;33m.\u001b[0m\u001b[0m_fit\u001b[0m\u001b[1;33m(\u001b[0m\u001b[0mX\u001b[0m\u001b[1;33m,\u001b[0m \u001b[0my\u001b[0m\u001b[1;33m,\u001b[0m \u001b[1;33m**\u001b[0m\u001b[0mfit_params_steps\u001b[0m\u001b[1;33m)\u001b[0m\u001b[1;33m\u001b[0m\u001b[1;33m\u001b[0m\u001b[0m\n\u001b[0m\u001b[0;32m    342\u001b[0m         with _print_elapsed_time('Pipeline',\n\u001b[0;32m    343\u001b[0m                                  self._log_message(len(self.steps) - 1)):\n",
      "\u001b[1;32m~\\anaconda3\\lib\\site-packages\\sklearn\\pipeline.py\u001b[0m in \u001b[0;36m_fit\u001b[1;34m(self, X, y, **fit_params_steps)\u001b[0m\n\u001b[0;32m    301\u001b[0m                 \u001b[0mcloned_transformer\u001b[0m \u001b[1;33m=\u001b[0m \u001b[0mclone\u001b[0m\u001b[1;33m(\u001b[0m\u001b[0mtransformer\u001b[0m\u001b[1;33m)\u001b[0m\u001b[1;33m\u001b[0m\u001b[1;33m\u001b[0m\u001b[0m\n\u001b[0;32m    302\u001b[0m             \u001b[1;31m# Fit or load from cache the current transformer\u001b[0m\u001b[1;33m\u001b[0m\u001b[1;33m\u001b[0m\u001b[1;33m\u001b[0m\u001b[0m\n\u001b[1;32m--> 303\u001b[1;33m             X, fitted_transformer = fit_transform_one_cached(\n\u001b[0m\u001b[0;32m    304\u001b[0m                 \u001b[0mcloned_transformer\u001b[0m\u001b[1;33m,\u001b[0m \u001b[0mX\u001b[0m\u001b[1;33m,\u001b[0m \u001b[0my\u001b[0m\u001b[1;33m,\u001b[0m \u001b[1;32mNone\u001b[0m\u001b[1;33m,\u001b[0m\u001b[1;33m\u001b[0m\u001b[1;33m\u001b[0m\u001b[0m\n\u001b[0;32m    305\u001b[0m                 \u001b[0mmessage_clsname\u001b[0m\u001b[1;33m=\u001b[0m\u001b[1;34m'Pipeline'\u001b[0m\u001b[1;33m,\u001b[0m\u001b[1;33m\u001b[0m\u001b[1;33m\u001b[0m\u001b[0m\n",
      "\u001b[1;32m~\\anaconda3\\lib\\site-packages\\joblib\\memory.py\u001b[0m in \u001b[0;36m__call__\u001b[1;34m(self, *args, **kwargs)\u001b[0m\n\u001b[0;32m    350\u001b[0m \u001b[1;33m\u001b[0m\u001b[0m\n\u001b[0;32m    351\u001b[0m     \u001b[1;32mdef\u001b[0m \u001b[0m__call__\u001b[0m\u001b[1;33m(\u001b[0m\u001b[0mself\u001b[0m\u001b[1;33m,\u001b[0m \u001b[1;33m*\u001b[0m\u001b[0margs\u001b[0m\u001b[1;33m,\u001b[0m \u001b[1;33m**\u001b[0m\u001b[0mkwargs\u001b[0m\u001b[1;33m)\u001b[0m\u001b[1;33m:\u001b[0m\u001b[1;33m\u001b[0m\u001b[1;33m\u001b[0m\u001b[0m\n\u001b[1;32m--> 352\u001b[1;33m         \u001b[1;32mreturn\u001b[0m \u001b[0mself\u001b[0m\u001b[1;33m.\u001b[0m\u001b[0mfunc\u001b[0m\u001b[1;33m(\u001b[0m\u001b[1;33m*\u001b[0m\u001b[0margs\u001b[0m\u001b[1;33m,\u001b[0m \u001b[1;33m**\u001b[0m\u001b[0mkwargs\u001b[0m\u001b[1;33m)\u001b[0m\u001b[1;33m\u001b[0m\u001b[1;33m\u001b[0m\u001b[0m\n\u001b[0m\u001b[0;32m    353\u001b[0m \u001b[1;33m\u001b[0m\u001b[0m\n\u001b[0;32m    354\u001b[0m     \u001b[1;32mdef\u001b[0m \u001b[0mcall_and_shelve\u001b[0m\u001b[1;33m(\u001b[0m\u001b[0mself\u001b[0m\u001b[1;33m,\u001b[0m \u001b[1;33m*\u001b[0m\u001b[0margs\u001b[0m\u001b[1;33m,\u001b[0m \u001b[1;33m**\u001b[0m\u001b[0mkwargs\u001b[0m\u001b[1;33m)\u001b[0m\u001b[1;33m:\u001b[0m\u001b[1;33m\u001b[0m\u001b[1;33m\u001b[0m\u001b[0m\n",
      "\u001b[1;32m~\\anaconda3\\lib\\site-packages\\sklearn\\pipeline.py\u001b[0m in \u001b[0;36m_fit_transform_one\u001b[1;34m(transformer, X, y, weight, message_clsname, message, **fit_params)\u001b[0m\n\u001b[0;32m    752\u001b[0m     \u001b[1;32mwith\u001b[0m \u001b[0m_print_elapsed_time\u001b[0m\u001b[1;33m(\u001b[0m\u001b[0mmessage_clsname\u001b[0m\u001b[1;33m,\u001b[0m \u001b[0mmessage\u001b[0m\u001b[1;33m)\u001b[0m\u001b[1;33m:\u001b[0m\u001b[1;33m\u001b[0m\u001b[1;33m\u001b[0m\u001b[0m\n\u001b[0;32m    753\u001b[0m         \u001b[1;32mif\u001b[0m \u001b[0mhasattr\u001b[0m\u001b[1;33m(\u001b[0m\u001b[0mtransformer\u001b[0m\u001b[1;33m,\u001b[0m \u001b[1;34m'fit_transform'\u001b[0m\u001b[1;33m)\u001b[0m\u001b[1;33m:\u001b[0m\u001b[1;33m\u001b[0m\u001b[1;33m\u001b[0m\u001b[0m\n\u001b[1;32m--> 754\u001b[1;33m             \u001b[0mres\u001b[0m \u001b[1;33m=\u001b[0m \u001b[0mtransformer\u001b[0m\u001b[1;33m.\u001b[0m\u001b[0mfit_transform\u001b[0m\u001b[1;33m(\u001b[0m\u001b[0mX\u001b[0m\u001b[1;33m,\u001b[0m \u001b[0my\u001b[0m\u001b[1;33m,\u001b[0m \u001b[1;33m**\u001b[0m\u001b[0mfit_params\u001b[0m\u001b[1;33m)\u001b[0m\u001b[1;33m\u001b[0m\u001b[1;33m\u001b[0m\u001b[0m\n\u001b[0m\u001b[0;32m    755\u001b[0m         \u001b[1;32melse\u001b[0m\u001b[1;33m:\u001b[0m\u001b[1;33m\u001b[0m\u001b[1;33m\u001b[0m\u001b[0m\n\u001b[0;32m    756\u001b[0m             \u001b[0mres\u001b[0m \u001b[1;33m=\u001b[0m \u001b[0mtransformer\u001b[0m\u001b[1;33m.\u001b[0m\u001b[0mfit\u001b[0m\u001b[1;33m(\u001b[0m\u001b[0mX\u001b[0m\u001b[1;33m,\u001b[0m \u001b[0my\u001b[0m\u001b[1;33m,\u001b[0m \u001b[1;33m**\u001b[0m\u001b[0mfit_params\u001b[0m\u001b[1;33m)\u001b[0m\u001b[1;33m.\u001b[0m\u001b[0mtransform\u001b[0m\u001b[1;33m(\u001b[0m\u001b[0mX\u001b[0m\u001b[1;33m)\u001b[0m\u001b[1;33m\u001b[0m\u001b[1;33m\u001b[0m\u001b[0m\n",
      "\u001b[1;32m~\\anaconda3\\lib\\site-packages\\sklearn\\base.py\u001b[0m in \u001b[0;36mfit_transform\u001b[1;34m(self, X, y, **fit_params)\u001b[0m\n\u001b[0;32m    700\u001b[0m         \u001b[1;32melse\u001b[0m\u001b[1;33m:\u001b[0m\u001b[1;33m\u001b[0m\u001b[1;33m\u001b[0m\u001b[0m\n\u001b[0;32m    701\u001b[0m             \u001b[1;31m# fit method of arity 2 (supervised transformation)\u001b[0m\u001b[1;33m\u001b[0m\u001b[1;33m\u001b[0m\u001b[1;33m\u001b[0m\u001b[0m\n\u001b[1;32m--> 702\u001b[1;33m             \u001b[1;32mreturn\u001b[0m \u001b[0mself\u001b[0m\u001b[1;33m.\u001b[0m\u001b[0mfit\u001b[0m\u001b[1;33m(\u001b[0m\u001b[0mX\u001b[0m\u001b[1;33m,\u001b[0m \u001b[0my\u001b[0m\u001b[1;33m,\u001b[0m \u001b[1;33m**\u001b[0m\u001b[0mfit_params\u001b[0m\u001b[1;33m)\u001b[0m\u001b[1;33m.\u001b[0m\u001b[0mtransform\u001b[0m\u001b[1;33m(\u001b[0m\u001b[0mX\u001b[0m\u001b[1;33m)\u001b[0m\u001b[1;33m\u001b[0m\u001b[1;33m\u001b[0m\u001b[0m\n\u001b[0m\u001b[0;32m    703\u001b[0m \u001b[1;33m\u001b[0m\u001b[0m\n\u001b[0;32m    704\u001b[0m \u001b[1;33m\u001b[0m\u001b[0m\n",
      "\u001b[1;32m~\\anaconda3\\lib\\site-packages\\sklearn\\impute\\_base.py\u001b[0m in \u001b[0;36mfit\u001b[1;34m(self, X, y)\u001b[0m\n\u001b[0;32m    320\u001b[0m \u001b[1;33m\u001b[0m\u001b[0m\n\u001b[0;32m    321\u001b[0m         \u001b[1;32melse\u001b[0m\u001b[1;33m:\u001b[0m\u001b[1;33m\u001b[0m\u001b[1;33m\u001b[0m\u001b[0m\n\u001b[1;32m--> 322\u001b[1;33m             self.statistics_ = self._dense_fit(X,\n\u001b[0m\u001b[0;32m    323\u001b[0m                                                \u001b[0mself\u001b[0m\u001b[1;33m.\u001b[0m\u001b[0mstrategy\u001b[0m\u001b[1;33m,\u001b[0m\u001b[1;33m\u001b[0m\u001b[1;33m\u001b[0m\u001b[0m\n\u001b[0;32m    324\u001b[0m                                                \u001b[0mself\u001b[0m\u001b[1;33m.\u001b[0m\u001b[0mmissing_values\u001b[0m\u001b[1;33m,\u001b[0m\u001b[1;33m\u001b[0m\u001b[1;33m\u001b[0m\u001b[0m\n",
      "\u001b[1;32m~\\anaconda3\\lib\\site-packages\\sklearn\\impute\\_base.py\u001b[0m in \u001b[0;36m_dense_fit\u001b[1;34m(self, X, strategy, missing_values, fill_value)\u001b[0m\n\u001b[0;32m    385\u001b[0m         \u001b[1;31m# Median\u001b[0m\u001b[1;33m\u001b[0m\u001b[1;33m\u001b[0m\u001b[1;33m\u001b[0m\u001b[0m\n\u001b[0;32m    386\u001b[0m         \u001b[1;32melif\u001b[0m \u001b[0mstrategy\u001b[0m \u001b[1;33m==\u001b[0m \u001b[1;34m\"median\"\u001b[0m\u001b[1;33m:\u001b[0m\u001b[1;33m\u001b[0m\u001b[1;33m\u001b[0m\u001b[0m\n\u001b[1;32m--> 387\u001b[1;33m             \u001b[0mmedian_masked\u001b[0m \u001b[1;33m=\u001b[0m \u001b[0mnp\u001b[0m\u001b[1;33m.\u001b[0m\u001b[0mma\u001b[0m\u001b[1;33m.\u001b[0m\u001b[0mmedian\u001b[0m\u001b[1;33m(\u001b[0m\u001b[0mmasked_X\u001b[0m\u001b[1;33m,\u001b[0m \u001b[0maxis\u001b[0m\u001b[1;33m=\u001b[0m\u001b[1;36m0\u001b[0m\u001b[1;33m)\u001b[0m\u001b[1;33m\u001b[0m\u001b[1;33m\u001b[0m\u001b[0m\n\u001b[0m\u001b[0;32m    388\u001b[0m             \u001b[1;31m# Avoid the warning \"Warning: converting a masked element to nan.\"\u001b[0m\u001b[1;33m\u001b[0m\u001b[1;33m\u001b[0m\u001b[1;33m\u001b[0m\u001b[0m\n\u001b[0;32m    389\u001b[0m             \u001b[0mmedian\u001b[0m \u001b[1;33m=\u001b[0m \u001b[0mnp\u001b[0m\u001b[1;33m.\u001b[0m\u001b[0mma\u001b[0m\u001b[1;33m.\u001b[0m\u001b[0mgetdata\u001b[0m\u001b[1;33m(\u001b[0m\u001b[0mmedian_masked\u001b[0m\u001b[1;33m)\u001b[0m\u001b[1;33m\u001b[0m\u001b[1;33m\u001b[0m\u001b[0m\n",
      "\u001b[1;32m~\\anaconda3\\lib\\site-packages\\numpy\\ma\\extras.py\u001b[0m in \u001b[0;36mmedian\u001b[1;34m(a, axis, out, overwrite_input, keepdims)\u001b[0m\n\u001b[0;32m    707\u001b[0m             \u001b[1;32mreturn\u001b[0m \u001b[0mm\u001b[0m\u001b[1;33m\u001b[0m\u001b[1;33m\u001b[0m\u001b[0m\n\u001b[0;32m    708\u001b[0m \u001b[1;33m\u001b[0m\u001b[0m\n\u001b[1;32m--> 709\u001b[1;33m     r, k = _ureduce(a, func=_median, axis=axis, out=out,\n\u001b[0m\u001b[0;32m    710\u001b[0m                     overwrite_input=overwrite_input)\n\u001b[0;32m    711\u001b[0m     \u001b[1;32mif\u001b[0m \u001b[0mkeepdims\u001b[0m\u001b[1;33m:\u001b[0m\u001b[1;33m\u001b[0m\u001b[1;33m\u001b[0m\u001b[0m\n",
      "\u001b[1;32m~\\anaconda3\\lib\\site-packages\\numpy\\lib\\function_base.py\u001b[0m in \u001b[0;36m_ureduce\u001b[1;34m(a, func, **kwargs)\u001b[0m\n\u001b[0;32m   3513\u001b[0m         \u001b[0mkeepdim\u001b[0m \u001b[1;33m=\u001b[0m \u001b[1;33m(\u001b[0m\u001b[1;36m1\u001b[0m\u001b[1;33m,\u001b[0m\u001b[1;33m)\u001b[0m \u001b[1;33m*\u001b[0m \u001b[0ma\u001b[0m\u001b[1;33m.\u001b[0m\u001b[0mndim\u001b[0m\u001b[1;33m\u001b[0m\u001b[1;33m\u001b[0m\u001b[0m\n\u001b[0;32m   3514\u001b[0m \u001b[1;33m\u001b[0m\u001b[0m\n\u001b[1;32m-> 3515\u001b[1;33m     \u001b[0mr\u001b[0m \u001b[1;33m=\u001b[0m \u001b[0mfunc\u001b[0m\u001b[1;33m(\u001b[0m\u001b[0ma\u001b[0m\u001b[1;33m,\u001b[0m \u001b[1;33m**\u001b[0m\u001b[0mkwargs\u001b[0m\u001b[1;33m)\u001b[0m\u001b[1;33m\u001b[0m\u001b[1;33m\u001b[0m\u001b[0m\n\u001b[0m\u001b[0;32m   3516\u001b[0m     \u001b[1;32mreturn\u001b[0m \u001b[0mr\u001b[0m\u001b[1;33m,\u001b[0m \u001b[0mkeepdim\u001b[0m\u001b[1;33m\u001b[0m\u001b[1;33m\u001b[0m\u001b[0m\n\u001b[0;32m   3517\u001b[0m \u001b[1;33m\u001b[0m\u001b[0m\n",
      "\u001b[1;32m~\\anaconda3\\lib\\site-packages\\numpy\\ma\\extras.py\u001b[0m in \u001b[0;36m_median\u001b[1;34m(a, axis, out, overwrite_input)\u001b[0m\n\u001b[0;32m    729\u001b[0m             \u001b[0masorted\u001b[0m \u001b[1;33m=\u001b[0m \u001b[0ma\u001b[0m\u001b[1;33m\u001b[0m\u001b[1;33m\u001b[0m\u001b[0m\n\u001b[0;32m    730\u001b[0m     \u001b[1;32melse\u001b[0m\u001b[1;33m:\u001b[0m\u001b[1;33m\u001b[0m\u001b[1;33m\u001b[0m\u001b[0m\n\u001b[1;32m--> 731\u001b[1;33m         \u001b[0masorted\u001b[0m \u001b[1;33m=\u001b[0m \u001b[0msort\u001b[0m\u001b[1;33m(\u001b[0m\u001b[0ma\u001b[0m\u001b[1;33m,\u001b[0m \u001b[0maxis\u001b[0m\u001b[1;33m=\u001b[0m\u001b[0maxis\u001b[0m\u001b[1;33m,\u001b[0m \u001b[0mfill_value\u001b[0m\u001b[1;33m=\u001b[0m\u001b[0mfill_value\u001b[0m\u001b[1;33m)\u001b[0m\u001b[1;33m\u001b[0m\u001b[1;33m\u001b[0m\u001b[0m\n\u001b[0m\u001b[0;32m    732\u001b[0m \u001b[1;33m\u001b[0m\u001b[0m\n\u001b[0;32m    733\u001b[0m     \u001b[1;32mif\u001b[0m \u001b[0maxis\u001b[0m \u001b[1;32mis\u001b[0m \u001b[1;32mNone\u001b[0m\u001b[1;33m:\u001b[0m\u001b[1;33m\u001b[0m\u001b[1;33m\u001b[0m\u001b[0m\n",
      "\u001b[1;32m~\\anaconda3\\lib\\site-packages\\numpy\\ma\\core.py\u001b[0m in \u001b[0;36msort\u001b[1;34m(a, axis, kind, order, endwith, fill_value)\u001b[0m\n\u001b[0;32m   6898\u001b[0m \u001b[1;33m\u001b[0m\u001b[0m\n\u001b[0;32m   6899\u001b[0m     \u001b[1;32mif\u001b[0m \u001b[0misinstance\u001b[0m\u001b[1;33m(\u001b[0m\u001b[0ma\u001b[0m\u001b[1;33m,\u001b[0m \u001b[0mMaskedArray\u001b[0m\u001b[1;33m)\u001b[0m\u001b[1;33m:\u001b[0m\u001b[1;33m\u001b[0m\u001b[1;33m\u001b[0m\u001b[0m\n\u001b[1;32m-> 6900\u001b[1;33m         a.sort(axis=axis, kind=kind, order=order,\n\u001b[0m\u001b[0;32m   6901\u001b[0m                endwith=endwith, fill_value=fill_value)\n\u001b[0;32m   6902\u001b[0m     \u001b[1;32melse\u001b[0m\u001b[1;33m:\u001b[0m\u001b[1;33m\u001b[0m\u001b[1;33m\u001b[0m\u001b[0m\n",
      "\u001b[1;32m~\\anaconda3\\lib\\site-packages\\numpy\\ma\\core.py\u001b[0m in \u001b[0;36msort\u001b[1;34m(self, axis, kind, order, endwith, fill_value)\u001b[0m\n\u001b[0;32m   5649\u001b[0m             \u001b[1;32mreturn\u001b[0m\u001b[1;33m\u001b[0m\u001b[1;33m\u001b[0m\u001b[0m\n\u001b[0;32m   5650\u001b[0m \u001b[1;33m\u001b[0m\u001b[0m\n\u001b[1;32m-> 5651\u001b[1;33m         sidx = self.argsort(axis=axis, kind=kind, order=order,\n\u001b[0m\u001b[0;32m   5652\u001b[0m                             fill_value=fill_value, endwith=endwith)\n\u001b[0;32m   5653\u001b[0m \u001b[1;33m\u001b[0m\u001b[0m\n",
      "\u001b[1;32m~\\anaconda3\\lib\\site-packages\\numpy\\ma\\core.py\u001b[0m in \u001b[0;36margsort\u001b[1;34m(self, axis, kind, order, endwith, fill_value)\u001b[0m\n\u001b[0;32m   5487\u001b[0m \u001b[1;33m\u001b[0m\u001b[0m\n\u001b[0;32m   5488\u001b[0m         \u001b[0mfilled\u001b[0m \u001b[1;33m=\u001b[0m \u001b[0mself\u001b[0m\u001b[1;33m.\u001b[0m\u001b[0mfilled\u001b[0m\u001b[1;33m(\u001b[0m\u001b[0mfill_value\u001b[0m\u001b[1;33m)\u001b[0m\u001b[1;33m\u001b[0m\u001b[1;33m\u001b[0m\u001b[0m\n\u001b[1;32m-> 5489\u001b[1;33m         \u001b[1;32mreturn\u001b[0m \u001b[0mfilled\u001b[0m\u001b[1;33m.\u001b[0m\u001b[0margsort\u001b[0m\u001b[1;33m(\u001b[0m\u001b[0maxis\u001b[0m\u001b[1;33m=\u001b[0m\u001b[0maxis\u001b[0m\u001b[1;33m,\u001b[0m \u001b[0mkind\u001b[0m\u001b[1;33m=\u001b[0m\u001b[0mkind\u001b[0m\u001b[1;33m,\u001b[0m \u001b[0morder\u001b[0m\u001b[1;33m=\u001b[0m\u001b[0morder\u001b[0m\u001b[1;33m)\u001b[0m\u001b[1;33m\u001b[0m\u001b[1;33m\u001b[0m\u001b[0m\n\u001b[0m\u001b[0;32m   5490\u001b[0m \u001b[1;33m\u001b[0m\u001b[0m\n\u001b[0;32m   5491\u001b[0m     \u001b[1;32mdef\u001b[0m \u001b[0margmin\u001b[0m\u001b[1;33m(\u001b[0m\u001b[0mself\u001b[0m\u001b[1;33m,\u001b[0m \u001b[0maxis\u001b[0m\u001b[1;33m=\u001b[0m\u001b[1;32mNone\u001b[0m\u001b[1;33m,\u001b[0m \u001b[0mfill_value\u001b[0m\u001b[1;33m=\u001b[0m\u001b[1;32mNone\u001b[0m\u001b[1;33m,\u001b[0m \u001b[0mout\u001b[0m\u001b[1;33m=\u001b[0m\u001b[1;32mNone\u001b[0m\u001b[1;33m)\u001b[0m\u001b[1;33m:\u001b[0m\u001b[1;33m\u001b[0m\u001b[1;33m\u001b[0m\u001b[0m\n",
      "\u001b[1;31mKeyboardInterrupt\u001b[0m: "
     ]
    }
   ],
   "source": [
    "#Conduct grid search for this full differential features model. \n",
    "lr_grid_cv.fit(X_train, y_train)"
   ]
  },
  {
   "cell_type": "code",
   "execution_count": null,
   "id": "f77b78c1",
   "metadata": {},
   "outputs": [],
   "source": [
    "#Best params from grid search for this full differential features model\n",
    "lr_grid_cv.best_params_"
   ]
  },
  {
   "cell_type": "markdown",
   "id": "1bc8ad0b",
   "metadata": {},
   "source": [
    "#### K Best Features Visualization"
   ]
  },
  {
   "cell_type": "code",
   "execution_count": 24,
   "id": "8cabc1f4",
   "metadata": {},
   "outputs": [
    {
     "data": {
      "image/png": "[encoded data removed]",
      "text/plain": [
       "<Figure size 720x360 with 1 Axes>"
      ]
     },
     "metadata": {
      "needs_background": "light"
     },
     "output_type": "display_data"
    }
   ],
   "source": [
    "score_mean = lr_grid_cv.cv_results_['mean_test_score']\n",
    "score_std = lr_grid_cv.cv_results_['std_test_score']\n",
    "cv_k = [k for k in lr_grid_cv.cv_results_['param_selectkbest__k']]\n",
    "\n",
    "best_k = lr_grid_cv.best_params_['selectkbest__k']\n",
    "plt.subplots(figsize=(10, 5))\n",
    "plt.errorbar(cv_k, score_mean, yerr=score_std)\n",
    "plt.axvline(x=best_k, c='r', ls='--', alpha=.5)\n",
    "plt.xlabel('k')\n",
    "plt.ylabel('CV score (r-squared)')\n",
    "plt.title('Pipeline mean CV score (error bars +/- 1sd)');"
   ]
  },
  {
   "cell_type": "markdown",
   "id": "691040da",
   "metadata": {},
   "source": [
    "### K Best Features Linear Model Performance Metrics"
   ]
  },
  {
   "cell_type": "markdown",
   "id": "1942baa8",
   "metadata": {},
   "source": [
    "#### R-squared (COD)"
   ]
  },
  {
   "cell_type": "code",
   "execution_count": 265,
   "id": "0f85f94a",
   "metadata": {},
   "outputs": [
    {
     "ename": "AttributeError",
     "evalue": "'GridSearchCV' object has no attribute 'best_estimator_'",
     "output_type": "error",
     "traceback": [
      "\u001b[1;31m---------------------------------------------------------------------------\u001b[0m",
      "\u001b[1;31mAttributeError\u001b[0m                            Traceback (most recent call last)",
      "\u001b[1;32m<ipython-input-265-64945ae8c82c>\u001b[0m in \u001b[0;36m<module>\u001b[1;34m\u001b[0m\n\u001b[0;32m      1\u001b[0m \u001b[1;31m#Cross-validation defaults to R^2 metric for scoring regression\u001b[0m\u001b[1;33m\u001b[0m\u001b[1;33m\u001b[0m\u001b[1;33m\u001b[0m\u001b[0m\n\u001b[1;32m----> 2\u001b[1;33m \u001b[0mlr_best_cv_results\u001b[0m \u001b[1;33m=\u001b[0m \u001b[0mcross_validate\u001b[0m\u001b[1;33m(\u001b[0m\u001b[0mlr_grid_cv\u001b[0m\u001b[1;33m.\u001b[0m\u001b[0mbest_estimator_\u001b[0m\u001b[1;33m,\u001b[0m \u001b[0mX_train\u001b[0m\u001b[1;33m,\u001b[0m \u001b[0my_train\u001b[0m\u001b[1;33m,\u001b[0m \u001b[0mcv\u001b[0m\u001b[1;33m=\u001b[0m\u001b[1;36m5\u001b[0m\u001b[1;33m)\u001b[0m\u001b[1;33m\u001b[0m\u001b[1;33m\u001b[0m\u001b[0m\n\u001b[0m\u001b[0;32m      3\u001b[0m \u001b[0mlr_best_scores\u001b[0m \u001b[1;33m=\u001b[0m \u001b[0mlr_best_cv_results\u001b[0m\u001b[1;33m[\u001b[0m\u001b[1;34m'test_score'\u001b[0m\u001b[1;33m]\u001b[0m\u001b[1;33m\u001b[0m\u001b[1;33m\u001b[0m\u001b[0m\n\u001b[0;32m      4\u001b[0m \u001b[0mlr_best_scores\u001b[0m\u001b[1;33m\u001b[0m\u001b[1;33m\u001b[0m\u001b[0m\n",
      "\u001b[1;31mAttributeError\u001b[0m: 'GridSearchCV' object has no attribute 'best_estimator_'"
     ]
    }
   ],
   "source": [
    "#Cross-validation defaults to R^2 metric for scoring regression\n",
    "lr_best_cv_results = cross_validate(lr_grid_cv.best_estimator_, X_train, y_train, cv=5)\n",
    "lr_best_scores = lr_best_cv_results['test_score']\n",
    "lr_best_scores"
   ]
  },
  {
   "cell_type": "code",
   "execution_count": 26,
   "id": "4076b2e6",
   "metadata": {},
   "outputs": [
    {
     "data": {
      "text/plain": [
       "(0.22415152742228922, 0.005071004141441304)"
      ]
     },
     "execution_count": 26,
     "metadata": {},
     "output_type": "execute_result"
    }
   ],
   "source": [
    "#Training set CV mean and std\n",
    "np.mean(lr_best_scores), np.std(lr_best_scores)"
   ]
  },
  {
   "cell_type": "markdown",
   "id": "bd7a9fde",
   "metadata": {},
   "source": [
    "#### Mean Absolute Error (MAE)"
   ]
  },
  {
   "cell_type": "code",
   "execution_count": 27,
   "id": "d1b2b9b9",
   "metadata": {},
   "outputs": [],
   "source": [
    "lr_neg_mae = cross_validate(lr_grid_cv.best_estimator_, X_train, y_train, \n",
    "                            scoring='neg_mean_absolute_error', cv=5, n_jobs=-1)"
   ]
  },
  {
   "cell_type": "code",
   "execution_count": 28,
   "id": "9736ee27",
   "metadata": {},
   "outputs": [
    {
     "data": {
      "text/plain": [
       "(4.431634301612342, 0.07528330619710517)"
      ]
     },
     "execution_count": 28,
     "metadata": {},
     "output_type": "execute_result"
    }
   ],
   "source": [
    "# Training set MAE and STD \n",
    "lr_mae_mean = np.mean(-1 * lr_neg_mae['test_score'])\n",
    "lr_mae_std = np.std(-1 * lr_neg_mae['test_score'])\n",
    "MAE_LR_train = lr_mae_mean, lr_mae_std\n",
    "MAE_LR_train"
   ]
  },
  {
   "cell_type": "code",
   "execution_count": 29,
   "id": "a6049295",
   "metadata": {},
   "outputs": [
    {
     "data": {
      "text/plain": [
       "4.347431488804704"
      ]
     },
     "execution_count": 29,
     "metadata": {},
     "output_type": "execute_result"
    }
   ],
   "source": [
    "# Test set mean\n",
    "MAE_LR_test = mean_absolute_error(y_test, lr_grid_cv.best_estimator_.predict(X_test))\n",
    "MAE_LR_test"
   ]
  },
  {
   "cell_type": "markdown",
   "id": "6686360a",
   "metadata": {},
   "source": [
    "#### Mean Squred Error (MSE)"
   ]
  },
  {
   "cell_type": "code",
   "execution_count": 30,
   "id": "faf0cacc",
   "metadata": {},
   "outputs": [],
   "source": [
    "lr_neg_mse = cross_validate(lr_grid_cv.best_estimator_, X_train, y_train, \n",
    "                            scoring='neg_mean_squared_error', cv=5)"
   ]
  },
  {
   "cell_type": "code",
   "execution_count": 31,
   "id": "70025d5f",
   "metadata": {},
   "outputs": [
    {
     "data": {
      "text/plain": [
       "(31.546100376069813, 0.5809258251435017)"
      ]
     },
     "execution_count": 31,
     "metadata": {},
     "output_type": "execute_result"
    }
   ],
   "source": [
    "#Training set CV mean and std\n",
    "lr_mse_mean = np.mean(-1 * lr_neg_mse['test_score'])\n",
    "lr_mse_std = np.std(-1 * lr_neg_mse['test_score'])\n",
    "MSE_LR_train = lr_mse_mean, lr_mse_std\n",
    "MSE_LR_train"
   ]
  },
  {
   "cell_type": "code",
   "execution_count": 32,
   "id": "ea36d0b2",
   "metadata": {},
   "outputs": [
    {
     "data": {
      "text/plain": [
       "30.36111556371059"
      ]
     },
     "execution_count": 32,
     "metadata": {},
     "output_type": "execute_result"
    }
   ],
   "source": [
    "# Test set mean\n",
    "MSE_LR_test = mean_squared_error(y_test, lr_grid_cv.best_estimator_.predict(X_test))\n",
    "MSE_LR_test"
   ]
  },
  {
   "cell_type": "markdown",
   "id": "431b097e",
   "metadata": {},
   "source": [
    "#### Root Mean Square Error (RMSE)"
   ]
  },
  {
   "cell_type": "code",
   "execution_count": 33,
   "id": "d2f2fcf5",
   "metadata": {},
   "outputs": [],
   "source": [
    "lr_neg_rmse = cross_validate(lr_grid_cv.best_estimator_, X_train, y_train, \n",
    "                            scoring='neg_root_mean_squared_error', cv=5)"
   ]
  },
  {
   "cell_type": "code",
   "execution_count": 34,
   "id": "ca5e81b1",
   "metadata": {},
   "outputs": [
    {
     "data": {
      "text/plain": [
       "(5.616352846824915, 0.05177910806001524)"
      ]
     },
     "execution_count": 34,
     "metadata": {},
     "output_type": "execute_result"
    }
   ],
   "source": [
    "#Training set CV mean and std\n",
    "lr_rmse_mean = np.mean(-1 * lr_neg_rmse['test_score'])\n",
    "lr_rmse_std = np.std(-1 * lr_neg_rmse['test_score'])\n",
    "RMSE_LR_train = lr_rmse_mean, lr_rmse_std\n",
    "RMSE_LR_train"
   ]
  },
  {
   "cell_type": "code",
   "execution_count": 35,
   "id": "c281bf03",
   "metadata": {},
   "outputs": [
    {
     "data": {
      "text/plain": [
       "5.51009215564591"
      ]
     },
     "execution_count": 35,
     "metadata": {},
     "output_type": "execute_result"
    }
   ],
   "source": [
    "# Test set mean\n",
    "RMSE_LR_test = np.sqrt(mean_squared_error(y_test, lr_grid_cv.best_estimator_.predict(X_test)))\n",
    "RMSE_LR_test"
   ]
  },
  {
   "cell_type": "markdown",
   "id": "7900bab8",
   "metadata": {},
   "source": [
    "substantially better performance (5.63%,0.048%; 5.685%) with the simple linear model using all of the differential features than the one from the previous stage simply using the ranking-related features (and way better than the dummy model too, thank goodness). Now let's have a look at relave feature importance in this linear model."
   ]
  },
  {
   "cell_type": "markdown",
   "id": "5507b184",
   "metadata": {},
   "source": [
    "25 match threshold, 2015-2019 included in model (stats accrued starting in 2012), all predictive features, 70/30 split:\n",
    "(5.616352846824915, 0.05177910806001524), 5.51009215564591\n",
    "\n",
    "50 match threshold, 2015-2019 included in model (stats accrued starting in 2012), all predictive features, 70/30 split:\n",
    "\n",
    "\n",
    "25 match threshold, 2011-2019 included in model (stats accrued starting in 2008), all predictive features, 70/30 split:\n",
    "(5.6852210103695295, 0.024729502137587817), 5.723909584354869\n",
    "\n",
    "50 match threshold, 2011-2019 included in model (stats accrued starting in 2008), all predictive features, 70/30 split:\n",
    "(5.669088765648948, 0.0813337090120594), 5.63816762982179"
   ]
  },
  {
   "cell_type": "markdown",
   "id": "2855ddea",
   "metadata": {},
   "source": [
    "###  Best Linear Model Feature Importance"
   ]
  },
  {
   "cell_type": "code",
   "execution_count": 36,
   "id": "d5bd6e92",
   "metadata": {},
   "outputs": [
    {
     "data": {
      "image/png": "[encoded data removed]",
      "text/plain": [
       "<Figure size 720x360 with 1 Axes>"
      ]
     },
     "metadata": {
      "needs_background": "light"
     },
     "output_type": "display_data"
    }
   ],
   "source": [
    "#Plots a barplot of the linear regressor feature importances,\n",
    "#assigning the `feature_importances_` attribute of \n",
    "#`lv_grid_cv.best_estimator_.named_steps.linearregression` to the name `imps` to then\n",
    "#create a pandas Series object of the feature importances, with the index given by the\n",
    "#training data column names, sorting the values in descending order\n",
    "selected = lr_grid_cv.best_estimator_.named_steps.selectkbest.get_support()\n",
    "plt.subplots(figsize=(10, 5))\n",
    "imps = lr_grid_cv.best_estimator_.named_steps.linearregression.coef_\n",
    "lr_feat_imps = pd.Series(imps, index=X_train.columns[selected]).sort_values(ascending=False)\n",
    "lr_feat_imps.plot(kind='bar')\n",
    "plt.xlabel('features')\n",
    "plt.ylabel('importance')\n",
    "plt.title('Best differential features linear regressor feature importances');"
   ]
  },
  {
   "cell_type": "markdown",
   "id": "7df184ba",
   "metadata": {},
   "source": [
    "## HistGradient Boosting Regression Model"
   ]
  },
  {
   "cell_type": "markdown",
   "id": "09f1803c",
   "metadata": {},
   "source": [
    "### HistGradient Boosting Model: Hyperparameter Grid Search"
   ]
  },
  {
   "cell_type": "code",
   "execution_count": 1037,
   "id": "61ce74e4",
   "metadata": {},
   "outputs": [],
   "source": [
    "#Define pipeline\n",
    "HGB_pipe = make_pipeline(\n",
    "    SimpleImputer(strategy='mean'),\n",
    "    StandardScaler(),\n",
    "    HistGradientBoostingRegressor(random_state= 47)\n",
    ")"
   ]
  },
  {
   "cell_type": "code",
   "execution_count": 1038,
   "id": "a092b298",
   "metadata": {},
   "outputs": [
    {
     "data": {
      "text/plain": [
       "dict_keys(['memory', 'steps', 'verbose', 'simpleimputer', 'standardscaler', 'histgradientboostingregressor', 'simpleimputer__add_indicator', 'simpleimputer__copy', 'simpleimputer__fill_value', 'simpleimputer__missing_values', 'simpleimputer__strategy', 'simpleimputer__verbose', 'standardscaler__copy', 'standardscaler__with_mean', 'standardscaler__with_std', 'histgradientboostingregressor__categorical_features', 'histgradientboostingregressor__early_stopping', 'histgradientboostingregressor__l2_regularization', 'histgradientboostingregressor__learning_rate', 'histgradientboostingregressor__loss', 'histgradientboostingregressor__max_bins', 'histgradientboostingregressor__max_depth', 'histgradientboostingregressor__max_iter', 'histgradientboostingregressor__max_leaf_nodes', 'histgradientboostingregressor__min_samples_leaf', 'histgradientboostingregressor__monotonic_cst', 'histgradientboostingregressor__n_iter_no_change', 'histgradientboostingregressor__random_state', 'histgradientboostingregressor__scoring', 'histgradientboostingregressor__tol', 'histgradientboostingregressor__validation_fraction', 'histgradientboostingregressor__verbose', 'histgradientboostingregressor__warm_start'])"
      ]
     },
     "execution_count": 1038,
     "metadata": {},
     "output_type": "execute_result"
    }
   ],
   "source": [
    "HGB_pipe.get_params().keys()"
   ]
  },
  {
   "cell_type": "code",
   "execution_count": 1039,
   "id": "4909063b",
   "metadata": {},
   "outputs": [
    {
     "data": {
      "text/plain": [
       "{'standardscaler': [StandardScaler()],\n",
       " 'simpleimputer__strategy': ['mean'],\n",
       " 'histgradientboostingregressor__learning_rate': [0.05],\n",
       " 'histgradientboostingregressor__max_iter': [135],\n",
       " 'histgradientboostingregressor__max_depth': [3]}"
      ]
     },
     "execution_count": 1039,
     "metadata": {},
     "output_type": "execute_result"
    }
   ],
   "source": [
    "#Define grid search parameters\n",
    "\n",
    "learning_rate = [.05]\n",
    "max_iterations = [135]\n",
    "max_depth = [3]\n",
    "\n",
    "grid_params = {\n",
    "        'standardscaler': [StandardScaler()],\n",
    "        'simpleimputer__strategy': ['mean'],\n",
    "        'histgradientboostingregressor__learning_rate': learning_rate,\n",
    "        'histgradientboostingregressor__max_iter': max_iterations,\n",
    "        'histgradientboostingregressor__max_depth': max_depth\n",
    "}\n",
    "grid_params\n",
    "\n",
    "# first run: \n",
    "#learnings rates explored: .05, .1, .2, .5; 0.05 best\n",
    "# max iterations explored: 10, 40, 100; 100 best\n",
    "# max depths explored: 5, 10, 20; 5 best\n",
    "# best scaler: standard () and None; standard best\n",
    "# best imputation strategy: mean and median; mean best\n",
    "\n",
    "# second run:\n",
    "#learning_rate = [.01, .03, .05, .08]; .03 best\n",
    "#max_iterations = [75, 100, 125, 150]; 150 best\n",
    "#max_depth = [3, 5, 7]; 3 best\n",
    "\n",
    "# third run\n",
    "# learning_rate = [.02, .03, .04]; .04 best\n",
    "# max_iterations = [125, 150, 175]; 125 best\n",
    "# max_depth = [2, 3, 4]; 4 best\n",
    "\n",
    "# 4th run\n",
    "#learning_rate = [.03, .035, .04]; .04 best\n",
    "#max_iterations = [125, 135, 140, 150]; 125 best\n",
    "#max_depth = [4]\n",
    "\n",
    "# 5th run\n",
    "#learning_rate= [.04, .045]; .04 best \n",
    "#max_iterations = [115, 120, 125]; 125 best\n",
    "#max_depth = [4]"
   ]
  },
  {
   "cell_type": "code",
   "execution_count": 1040,
   "id": "dd4125c0",
   "metadata": {},
   "outputs": [],
   "source": [
    "#Call `GridSearchCV` with the hist gradient boosting pipeline, passing in the above `grid_params`\n",
    "#dict for parameters to evaluate, 5-fold cross-validation.\n",
    "hgb_grid_cv = GridSearchCV(HGB_pipe, param_grid=grid_params, cv=5)"
   ]
  },
  {
   "cell_type": "code",
   "execution_count": 1041,
   "id": "ee3c8571",
   "metadata": {},
   "outputs": [
    {
     "data": {
      "text/plain": [
       "GridSearchCV(cv=5,\n",
       "             estimator=Pipeline(steps=[('simpleimputer', SimpleImputer()),\n",
       "                                       ('standardscaler', StandardScaler()),\n",
       "                                       ('histgradientboostingregressor',\n",
       "                                        HistGradientBoostingRegressor(random_state=47))]),\n",
       "             param_grid={'histgradientboostingregressor__learning_rate': [0.05],\n",
       "                         'histgradientboostingregressor__max_depth': [3],\n",
       "                         'histgradientboostingregressor__max_iter': [135],\n",
       "                         'simpleimputer__strategy': ['mean'],\n",
       "                         'standardscaler': [StandardScaler()]})"
      ]
     },
     "execution_count": 1041,
     "metadata": {},
     "output_type": "execute_result"
    }
   ],
   "source": [
    "#`GridSearchCV`'s `fit()` method with `X_train` and `y_train` as arguments\n",
    "#to actually start the grid search. \n",
    "hgb_grid_cv.fit(X_train, y_train)"
   ]
  },
  {
   "cell_type": "code",
   "execution_count": 1042,
   "id": "d9bb936f",
   "metadata": {},
   "outputs": [
    {
     "data": {
      "text/plain": [
       "{'histgradientboostingregressor__learning_rate': 0.05,\n",
       " 'histgradientboostingregressor__max_depth': 3,\n",
       " 'histgradientboostingregressor__max_iter': 135,\n",
       " 'simpleimputer__strategy': 'mean',\n",
       " 'standardscaler': StandardScaler()}"
      ]
     },
     "execution_count": 1042,
     "metadata": {},
     "output_type": "execute_result"
    }
   ],
   "source": [
    "#Best params (`best_params_` attribute) from the grid search\n",
    "hgb_grid_cv.best_params_"
   ]
  },
  {
   "cell_type": "markdown",
   "id": "eb0f9702",
   "metadata": {},
   "source": [
    "### Best HistGradient Boosting Model Performance Metrics"
   ]
  },
  {
   "cell_type": "markdown",
   "id": "f1c64606",
   "metadata": {},
   "source": [
    "#### R-squared (COD)"
   ]
  },
  {
   "cell_type": "code",
   "execution_count": 1043,
   "id": "1f4dd478",
   "metadata": {},
   "outputs": [
    {
     "data": {
      "text/plain": [
       "array([0.23817116, 0.23050859, 0.25007483, 0.2446546 , 0.24103399])"
      ]
     },
     "execution_count": 1043,
     "metadata": {},
     "output_type": "execute_result"
    }
   ],
   "source": [
    "#Cross-validation defaults to R^2 metric for scoring regression\n",
    "hgb_best_cv_results = cross_validate(hgb_grid_cv.best_estimator_, X_train, y_train, cv=5)\n",
    "hgb_best_scores = hgb_best_cv_results['test_score']\n",
    "hgb_best_scores"
   ]
  },
  {
   "cell_type": "code",
   "execution_count": 1044,
   "id": "890a05e3",
   "metadata": {},
   "outputs": [
    {
     "data": {
      "text/plain": [
       "(0.24088863401034458, 0.0065378876197662835)"
      ]
     },
     "execution_count": 1044,
     "metadata": {},
     "output_type": "execute_result"
    }
   ],
   "source": [
    "#Training set CV mean and std\n",
    "np.mean(hgb_best_scores), np.std(hgb_best_scores)"
   ]
  },
  {
   "cell_type": "markdown",
   "id": "399b7623",
   "metadata": {},
   "source": [
    "#### Mean Absolute Error (MAE)"
   ]
  },
  {
   "cell_type": "code",
   "execution_count": 1045,
   "id": "4185ffeb",
   "metadata": {},
   "outputs": [],
   "source": [
    "hgb_neg_mae = cross_validate(hgb_grid_cv.best_estimator_, X_train, y_train, \n",
    "                            scoring='neg_mean_absolute_error', cv=5, n_jobs=-1)"
   ]
  },
  {
   "cell_type": "code",
   "execution_count": 1046,
   "id": "10011ce3",
   "metadata": {},
   "outputs": [
    {
     "data": {
      "text/plain": [
       "(4.357714757608376, 0.02002087979907448)"
      ]
     },
     "execution_count": 1046,
     "metadata": {},
     "output_type": "execute_result"
    }
   ],
   "source": [
    "#Training set CV mean and std\n",
    "hgb_mae_mean = np.mean(-1 * hgb_neg_mae['test_score'])\n",
    "hgb_mae_std = np.std(-1 * hgb_neg_mae['test_score'])\n",
    "hgb_mae_mean, hgb_mae_std"
   ]
  },
  {
   "cell_type": "code",
   "execution_count": 1047,
   "id": "ee827ade",
   "metadata": {},
   "outputs": [
    {
     "data": {
      "text/plain": [
       "4.454853157415264"
      ]
     },
     "execution_count": 1047,
     "metadata": {},
     "output_type": "execute_result"
    }
   ],
   "source": [
    "# Test set mean\n",
    "mean_absolute_error(y_test, hgb_grid_cv.best_estimator_.predict(X_test))"
   ]
  },
  {
   "cell_type": "markdown",
   "id": "b2fc0251",
   "metadata": {},
   "source": [
    "#### Mean Squared Error (MSE)"
   ]
  },
  {
   "cell_type": "code",
   "execution_count": 1048,
   "id": "df778eac",
   "metadata": {},
   "outputs": [],
   "source": [
    "hgb_neg_mse = cross_validate(hgb_grid_cv.best_estimator_, X_train, y_train, \n",
    "                            scoring='neg_mean_squared_error', cv=5)"
   ]
  },
  {
   "cell_type": "code",
   "execution_count": 1049,
   "id": "10506539",
   "metadata": {},
   "outputs": [
    {
     "data": {
      "text/plain": [
       "(30.475482655246033, 0.401292997173583)"
      ]
     },
     "execution_count": 1049,
     "metadata": {},
     "output_type": "execute_result"
    }
   ],
   "source": [
    "#Training set CV mean and std\n",
    "hgb_mse_mean = np.mean(-1 * hgb_neg_mse['test_score'])\n",
    "hgb_mse_std = np.std(-1 * hgb_neg_mse['test_score'])\n",
    "hgb_mse_mean, hgb_mse_std"
   ]
  },
  {
   "cell_type": "code",
   "execution_count": 1050,
   "id": "4a570ff0",
   "metadata": {},
   "outputs": [
    {
     "data": {
      "text/plain": [
       "31.683734629664926"
      ]
     },
     "execution_count": 1050,
     "metadata": {},
     "output_type": "execute_result"
    }
   ],
   "source": [
    "# Test set mean\n",
    "mean_squared_error(y_test, hgb_grid_cv.best_estimator_.predict(X_test))"
   ]
  },
  {
   "cell_type": "code",
   "execution_count": 1051,
   "id": "c8725f08",
   "metadata": {},
   "outputs": [],
   "source": [
    "hgb_neg_rmse = cross_validate(hgb_grid_cv.best_estimator_, X_train, y_train, \n",
    "                            scoring='neg_root_mean_squared_error', cv=5)"
   ]
  },
  {
   "cell_type": "code",
   "execution_count": 1052,
   "id": "c3508fba",
   "metadata": {},
   "outputs": [
    {
     "data": {
      "text/plain": [
       "(5.520340581171802, 0.036366510882997256)"
      ]
     },
     "execution_count": 1052,
     "metadata": {},
     "output_type": "execute_result"
    }
   ],
   "source": [
    "#Training set CV mean and std\n",
    "hgb_rmse_mean = np.mean(-1 * hgb_neg_rmse['test_score'])\n",
    "hgb_rmse_std = np.std(-1 * hgb_neg_rmse['test_score'])\n",
    "hgb_rmse_mean, hgb_rmse_std"
   ]
  },
  {
   "cell_type": "code",
   "execution_count": 1053,
   "id": "ec5c0934",
   "metadata": {},
   "outputs": [
    {
     "data": {
      "text/plain": [
       "5.628830662727822"
      ]
     },
     "execution_count": 1053,
     "metadata": {},
     "output_type": "execute_result"
    }
   ],
   "source": [
    "# Test set mean\n",
    "np.sqrt(mean_squared_error(y_test, hgb_grid_cv.best_estimator_.predict(X_test)))"
   ]
  },
  {
   "cell_type": "markdown",
   "id": "88d544c1",
   "metadata": {},
   "source": [
    "### Data Quality Assessment (HGB Model)"
   ]
  },
  {
   "cell_type": "code",
   "execution_count": 530,
   "id": "bb53d681",
   "metadata": {},
   "outputs": [],
   "source": [
    "fractions = [.2, .25, .3, .35, .4, .45, .5, .6, .75, .8, .9, 1.0]\n",
    "train_size, train_scores, test_scores = learning_curve(HGB_pipe, X_train, y_train, train_sizes=fractions)\n",
    "train_scores_mean = np.mean(train_scores, axis=1)\n",
    "train_scores_std = np.std(train_scores, axis=1)\n",
    "test_scores_mean = np.mean(test_scores, axis=1)\n",
    "test_scores_std = np.std(test_scores, axis=1)"
   ]
  },
  {
   "cell_type": "code",
   "execution_count": 531,
   "id": "f9d3175b",
   "metadata": {
    "scrolled": true
   },
   "outputs": [
    {
     "data": {
      "image/png": "[encoded data removed]",
      "text/plain": [
       "<Figure size 720x360 with 1 Axes>"
      ]
     },
     "metadata": {
      "needs_background": "light"
     },
     "output_type": "display_data"
    }
   ],
   "source": [
    "plt.subplots(figsize=(10, 5))\n",
    "plt.errorbar(train_size, test_scores_mean, yerr=test_scores_std)\n",
    "plt.xlabel('Training set size')\n",
    "plt.ylabel('CV scores')\n",
    "plt.title('Cross-validation score as training set size increases');"
   ]
  },
  {
   "cell_type": "markdown",
   "id": "0c525d98",
   "metadata": {},
   "source": [
    "Match Thresh = 20; Features = All; Split = 75-25; Best Params (.05, 135, 3, Standard Scaler, Mean)\n",
    "2012-2019: (5.617540215475337, 0.03692448242379906), 5.666884896774378\n",
    "2013-2019: (5.6484336913988145, 0.05968853938436673), 5.607545497503876\n",
    "2014-2019: (5.607954559126971, 0.07395758257926033), 5.6456723543356695\n",
    "2015-2019: (5.551575980053796, 0.08110014162202651), 5.63570918876409\n",
    "2016-2019: (5.632788829947392, 0.13046294565250185), 5.481025577015278\n",
    "2017-2019: (5.6264296655355945, 0.0971300456473025), 5.540097981533374\n",
    "2018-2019: (5.570896305325752, 0.13780175351245688), 5.702308222909803\n",
    "2019-2019: (5.715984161285291, 0.0993187671551134), 5.512292031842987\n",
    "Benchmarks with these parameters (2015-2019):\n",
    "Dummy Model: 6.40% Train; 6.43% Test\n",
    "Linear Model Using Ranking Data Only: 5.86% (.02%) Train; 5.94% Test (2012-2019; 2010-2011 also used to accrue stats)\n",
    "\n",
    "Match Thresh = 30; Features = All; Split = 75-25; Best Params (.05, 135, 3, Standard Scaler, Mean)\n",
    "2012-2019: (5.606009277446335, 0.04884614452190044), 5.582211286377035\n",
    "2013-2019: (5.636372462195995, 0.04050658969065748), 5.508929599503339\n",
    "2014-2019: (5.607125162812092, 0.11262539998786374), 5.559563042657513 \n",
    "2015-2019: (5.5154938236711, 0.10598058149628944), 5.650731707396383\n",
    "2016-2019: (5.572540111137492, 0.15213010133022226), 5.586179844541135 \n",
    "2017-2019: (5.558643196591684, 0.08657177958732604), 5.678470295067528 \n",
    "2018-2019: (5.575521562482093, 0.11905548003439212), 5.702810937781733\n",
    "2019-2019: (5.643803520862536, 0.14594563301943925), \n",
    "Benchmarks with these parameters (2015-2019):\n",
    "Dummy Model: 6.38% Train; 6.39% Test\n",
    "Linear Model Using Ranking Data Only: 5.85% (.03%) Train; 5.86% Test (2012-2019; 2010-2011 also used to accrue stats)\n",
    "\n",
    "Match Thresh = 40; Features = All; Split = 75-25; Best Params (.05, 135, 3, Standard Scaler, Mean)\n",
    "2012-2019: (5.520340581171802, 0.036366510882997256), 5.628830662727822\n",
    "2013-2019: (5.533333699112605, 0.06993220766200588), 5.59437160639185\n",
    "2014-2019: (5.539489868092522, 0.07257439100439735), 5.542793888312258\n",
    "2015-2019: (5.49683093717591, 0.11769743396877311), 5.510329384220938\n",
    "2016-2019: (5.547101796658662, 0.054224198449905316), 5.493987699949799\n",
    "2017-2019: (5.5985417285666035, 0.1604607734889208), 5.442775198848669\n",
    "2018-2019: (5.633466998461451, 0.1003282963473149), 5.491884648286114\n",
    "2019-2019: (5.7009625636799655, 0.11650258057212283), 5.587629185657656\n",
    "Benchmarks with these parameters (2015-2019): \n",
    "Dummy Model: 6.34% Train; 6.44% Test\n",
    "Linear Model Using Ranking Data Only: 5.79% (.07%) Train; 5.90% Test (2012-2019; 2010-2011 also used to accrue stats)\n",
    "\n",
    "Match Thresh = 50; Features = All; Split = 75-25; Best Params (.05, 135, 3, Standard Scaler, Mean)\n",
    "2012-2019: (5.553690863078795, 0.05165541900655539), 5.492014884083404\n",
    "2013-2019: (5.543521613453892, 0.08696923150205711), 5.524891775965373\n",
    "2014-2019: (5.503550960461513, 0.06353335248659793), 5.644561166784359\n",
    "2015-2019: (5.500024631205756, 0.09800367038333432), 5.495691531342912\n",
    "2016-2019: (5.572632694092416, 0.11077453814768805), 5.472918163191974\n",
    "2017-2019: (5.587848352317986, 0.06486038731844883), 5.598313622565862\n",
    "2018-2019: (5.60090951438632, 0.04393924435499314), 5.731583493935145\n",
    "2019-2019: (5.635624610233793, 0.1466145044433573), 6.011628162480685\n",
    "Benchmarks with these parameters (2015-2019): \n",
    "Dummy Model: 6.37% Train; 6.24% Test\n",
    "Linear Model Using Ranking Data Only: 5.82% (.04%) Train; 5.72% Test (2012-2019; 2010-2011 also used to accrue stats)"
   ]
  },
  {
   "cell_type": "markdown",
   "id": "6263c8a3",
   "metadata": {},
   "source": [
    "## Save Best Model Object From Pipeline"
   ]
  },
  {
   "cell_type": "code",
   "execution_count": null,
   "id": "b886568a",
   "metadata": {},
   "outputs": [],
   "source": [
    "best_model = hgb_grid_cv.best_estimator_\n",
    "best_model.version = '1.0'\n",
    "best_model.pandas_version = pd.__version__\n",
    "best_model.numpy_version = np.__version__\n",
    "best_model.sklearn_version = sklearn_version\n",
    "best_model.X_columns = [col for col in X_train.columns]\n",
    "best_model.build_datetime = datetime.datetime.now()"
   ]
  },
  {
   "cell_type": "code",
   "execution_count": null,
   "id": "a7e0738a",
   "metadata": {},
   "outputs": [],
   "source": [
    "# save the model\n",
    "modelpath = '../models'\n",
    "save_file(best_model, 'tennis_model.pkl', modelpath)"
   ]
  },
  {
   "cell_type": "markdown",
   "id": "f57b5150",
   "metadata": {},
   "source": [
    "## Summary of Modeling"
   ]
  },
  {
   "cell_type": "code",
   "execution_count": null,
   "id": "d551028e",
   "metadata": {},
   "outputs": [],
   "source": []
  }
 ],
 "metadata": {
  "kernelspec": {
   "display_name": "Python 3",
   "language": "python",
   "name": "python3"
  },
  "language_info": {
   "codemirror_mode": {
    "name": "ipython",
    "version": 3
   },
   "file_extension": ".py",
   "mimetype": "text/x-python",
   "name": "python",
   "nbconvert_exporter": "python",
   "pygments_lexer": "ipython3",
   "version": "3.8.8"
  }
 },
 "nbformat": 4,
 "nbformat_minor": 5
}
